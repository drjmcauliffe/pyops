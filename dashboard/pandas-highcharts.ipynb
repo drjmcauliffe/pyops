{
 "cells": [
  {
   "cell_type": "markdown",
   "metadata": {},
   "source": [
    "# Pandas DataFrame plotting with Highcharts"
   ]
  },
  {
   "cell_type": "markdown",
   "metadata": {},
   "source": [
    "[pandas_highcharts](https://github.com/gtnx/pandas-highcharts) is a Python library to turn your pandas DataFrame into a suited JSON for [Highcharts](http://www.highcharts.com/), a Javascript library for interactive charts.\n",
    "\n",
    "Before introducing Highcharts, I build an arbitrary `DataFrame` with a timeseries (a Brownian motion), plot it with matplotlib, then seaborn and Highcharts."
   ]
  },
  {
   "cell_type": "markdown",
   "metadata": {},
   "source": [
    "## Import"
   ]
  },
  {
   "cell_type": "code",
   "execution_count": 7,
   "metadata": {
    "collapsed": false
   },
   "outputs": [],
   "source": [
    "%matplotlib notebook\n",
    "import string\n",
    "\n",
    "import numpy as np\n",
    "import pandas as pd\n",
    "\n",
    "from pandas_highcharts.core import serialize\n",
    "from IPython.core.display import display, HTML\n",
    "from pandas_highcharts.core import json_encode\n",
    "from collections import defaultdict\n",
    "from datetime import datetime as dt"
   ]
  },
  {
   "cell_type": "code",
   "execution_count": 23,
   "metadata": {
    "collapsed": false
   },
   "outputs": [],
   "source": [
    "data = defaultdict(lambda: defaultdict(dict))\n",
    "\n",
    "data['chart']['type'] = 'columnrange'\n",
    "data['chart']['inverted'] = True\n",
    "data['chart']['zoomType'] = 'y'\n",
    "data['chart']['panning'] = True\n",
    "data['chart']['panKey'] = 'shift'\n",
    "data['chart']['renderTo'] = 'bepitimeline'\n",
    "\n",
    "# data['title'] = {}\n",
    "data['title']['text'] = 'BepiTimeline Test'\n",
    "\n",
    "# data['scrollbar'] = {}\n",
    "data['scrollbar']['enable'] = True\n",
    "\n",
    "# data['xAxis'] = {}\n",
    "data['xAxis']['categories'] = ['MERTIS', 'BELA', 'MGNS', 'PHEBUS']\n",
    "\n",
    "# data['yAxis'] = {}\n",
    "data['yAxis']['type'] = 'datetime'\n",
    "\n",
    "# data['yAxis']['title'] = {}\n",
    "data['yAxis']['title']['text'] = 'Timespan'\n",
    "\n",
    "# data['plotOptions'] = {}\n",
    "# data['plotOptions']['columnrange'] ={}\n",
    "data['plotOptions']['columnrange']['grouping'] =  False\n",
    "\n",
    "# data['legend'] = {}\n",
    "data['legend']['enabled'] = True\n",
    "\n",
    "data['tooltip']['headerFormat'] = '<b>{series.name}</b><br/>'\n",
    "data['tooltip']['pointFormat'] = 'Mode: {point.mode}. <br> {point.low} - {point.high}'\n",
    "data['tooltip']['formatter'] = ''\n",
    "\n",
    "data['series'] = []"
   ]
  },
  {
   "cell_type": "code",
   "execution_count": 24,
   "metadata": {
    "collapsed": false
   },
   "outputs": [],
   "source": [
    "timeline_data = pd.read_csv('timeline.txt')\n",
    "\n",
    "grouped = timeline_data.groupby('Instrument')\n",
    "grouped = [grouped.get_group(x) for x in grouped.groups]\n",
    "\n",
    "for level, frame in enumerate(grouped):\n",
    "    df = {}\n",
    "    df['name'] = frame['Instrument'].values[0]\n",
    "    df['data'] = []\n",
    "    \n",
    "    for row in frame.itertuples():\n",
    "        block = {}\n",
    "        block['x'] = level\n",
    "        st = dt.strptime(row[2], '%Y-%m-%d %H:%M')\n",
    "        st = int((st-dt(1970,1,1)).total_seconds()*1000)\n",
    "        en = dt.strptime(row[3], '%Y-%m-%d %H:%M')\n",
    "        en = int((en-dt(1970,1,1)).total_seconds()*1000)\n",
    "        block['low'] = st\n",
    "        block['high'] = en\n",
    "        block['mode'] = row[4]\n",
    "        block['power'] = row[5]\n",
    "        block['data_rate'] = row[6]\n",
    "        df['data'].append(block)\n",
    "        \n",
    "    data['series'].append(df)"
   ]
  },
  {
   "cell_type": "code",
   "execution_count": 25,
   "metadata": {
    "collapsed": true
   },
   "outputs": [],
   "source": [
    "json_data = \"new Highcharts.Chart(%s);\" % json_encode(data)"
   ]
  },
  {
   "cell_type": "code",
   "execution_count": 26,
   "metadata": {
    "collapsed": false,
    "scrolled": true
   },
   "outputs": [
    {
     "data": {
      "text/html": [
       "<div id=\"bepitimeline\"</div>\n",
       "<script type=\"text/javascript\">new Highcharts.Chart({\"yAxis\":{\"type\":\"datetime\",\"title\":{\"text\":\"Timespan\"}},\"series\":[{\"data\":[{\"data_rate\":\" 205 Kbit\\/s\",\"power\":\" 10.2 W\",\"high\":1743502380000,\"low\":1743502200000,\"x\":0,\"mode\":\" On\"},{\"data_rate\":\" 205 Kbit\\/s\",\"power\":\" 10.2 W\",\"high\":1743502920000,\"low\":1743502500000,\"x\":0,\"mode\":\" On\"},{\"data_rate\":\" 205 Kbit\\/s\",\"power\":\" 10.2 W\",\"high\":1743503820000,\"low\":1743503100000,\"x\":0,\"mode\":\" On\"},{\"data_rate\":\" 205 Kbit\\/s\",\"power\":\" 10.2 W\",\"high\":1743505260000,\"low\":1743504180000,\"x\":0,\"mode\":\" On\"}],\"name\":\"BELA\"},{\"data\":[{\"data_rate\":\" 90 Kbits\\/s\",\"power\":\" 7.3 W\",\"high\":1743503460000,\"low\":1743502560000,\"x\":1,\"mode\":\" Calibration\"},{\"data_rate\":\" 90 Kbits\\/s\",\"power\":\" 7.3 W\",\"high\":1743503880000,\"low\":1743503760000,\"x\":1,\"mode\":\" Calibration\"},{\"data_rate\":\" 90 Kbits\\/s\",\"power\":\" 7.3 W\",\"high\":1743504420000,\"low\":1743504120000,\"x\":1,\"mode\":\" Calibration\"},{\"data_rate\":\" 90 Kbits\\/s\",\"power\":\" 7.3 W\",\"high\":1743504900000,\"low\":1743504660000,\"x\":1,\"mode\":\" Calibration\"},{\"data_rate\":\" 90 Kbits\\/s\",\"power\":\" 7.3 W\",\"high\":1743505320000,\"low\":1743505080000,\"x\":1,\"mode\":\" Calibration\"}],\"name\":\"PHEBUS\"},{\"data\":[{\"data_rate\":\" 120 Kbit\\/s\",\"power\":\" 9.7 W\",\"high\":1743503520000,\"low\":1743503460000,\"x\":2,\"mode\":\" Standby\"},{\"data_rate\":\" 120 Kbit\\/s\",\"power\":\" 9.7 W\",\"high\":1743504180000,\"low\":1743503880000,\"x\":2,\"mode\":\" Standby\"},{\"data_rate\":\" 120 Kbit\\/s\",\"power\":\" 9.7 W\",\"high\":1743504960000,\"low\":1743504540000,\"x\":2,\"mode\":\" Standby\"},{\"data_rate\":\" 120 Kbit\\/s\",\"power\":\" 9.7 W\",\"high\":1743505920000,\"low\":1743505140000,\"x\":2,\"mode\":\" Standby\"}],\"name\":\"MGNS\"},{\"data\":[{\"data_rate\":\" 400 Kbit\\/s\",\"power\":\" 14.2 W\",\"high\":1743503700000,\"low\":1743503400000,\"x\":3,\"mode\":\" On\"},{\"data_rate\":\" 400 Kbit\\/s\",\"power\":\" 14.2 W\",\"high\":1743504060000,\"low\":1743503820000,\"x\":3,\"mode\":\" On\"},{\"data_rate\":\" 400 Kbit\\/s\",\"power\":\" 14.2 W\",\"high\":1743504780000,\"low\":1743504480000,\"x\":3,\"mode\":\" On\"},{\"data_rate\":\" 400 Kbit\\/s\",\"power\":\" 14.2 W\",\"high\":1743505560000,\"low\":1743504840000,\"x\":3,\"mode\":\" On\"}],\"name\":\"MERTIS\"}],\"title\":{\"text\":\"BepiTimeline Test\"},\"chart\":{\"zoomType\":\"y\",\"panKey\":\"shift\",\"inverted\":true,\"panning\":true,\"renderTo\":\"bepitimeline\",\"type\":\"columnrange\"},\"tooltip\":{\"headerFormat\":\"<b>{series.name}<\\/b><br\\/>\",\"formatter\":\"\",\"pointFormat\":\"Mode: {point.mode}. <br> {point.low} - {point.high}\"},\"plotOptions\":{\"columnrange\":{\"grouping\":false}},\"scrollbar\":{\"enable\":true},\"xAxis\":{\"categories\":[\"MERTIS\",\"BELA\",\"MGNS\",\"PHEBUS\"]},\"legend\":{\"enabled\":true}});</script>"
      ],
      "text/plain": [
       "<IPython.core.display.HTML object>"
      ]
     },
     "metadata": {},
     "output_type": "display_data"
    }
   ],
   "source": [
    "display(HTML(\"\"\"<div id=\"{chart_id}\"</div>\n",
    "<script type=\"text/javascript\">{data}</script>\"\"\".format(chart_id=\"bepitimeline\", data=json_data)))"
   ]
  },
  {
   "cell_type": "code",
   "execution_count": null,
   "metadata": {
    "collapsed": true
   },
   "outputs": [],
   "source": []
  }
 ],
 "metadata": {
  "kernelspec": {
   "display_name": "Python 2",
   "language": "python",
   "name": "python2"
  },
  "language_info": {
   "codemirror_mode": {
    "name": "ipython",
    "version": 2
   },
   "file_extension": ".py",
   "mimetype": "text/x-python",
   "name": "python",
   "nbconvert_exporter": "python",
   "pygments_lexer": "ipython2",
   "version": "2.7.10"
  }
 },
 "nbformat": 4,
 "nbformat_minor": 0
}
