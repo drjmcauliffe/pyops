{
 "cells": [
  {
   "cell_type": "code",
   "execution_count": 214,
   "metadata": {
    "collapsed": false
   },
   "outputs": [],
   "source": [
    "import pandas as pd\n",
    "from highcharts import Highchart\n",
    "from datetime import datetime as dt\n",
    "\n",
    "from IPython.core.display import display, HTML"
   ]
  },
  {
   "cell_type": "code",
   "execution_count": 216,
   "metadata": {
    "collapsed": false
   },
   "outputs": [
    {
     "data": {
      "text/html": [
       "<iframe style=\"border:0;outline:none;overflow:hidden\" srcdoc=\"&lt;!DOCTYPE html&gt;\n",
       "&lt;html lang=&quot;en&quot;&gt;\n",
       "    &lt;head&gt;\n",
       "        &lt;meta charset=&quot;utf-8&quot; /&gt;\n",
       "        &lt;link href=&quot;https://www.highcharts.com/highslide/highslide.css&quot; rel=&quot;stylesheet&quot; /&gt;\n",
       "        &lt;script type=&quot;text/javascript&quot; src=&quot;https://ajax.googleapis.com/ajax/libs/jquery/1.7.2/jquery.min.js&quot;&gt;&lt;/script&gt;\n",
       "        &lt;script type=&quot;text/javascript&quot; src=&quot;https://code.highcharts.com/highcharts.js&quot;&gt;&lt;/script&gt;\n",
       "        &lt;script type=&quot;text/javascript&quot; src=&quot;https://code.highcharts.com/highcharts-more.js&quot;&gt;&lt;/script&gt;\n",
       "        &lt;script type=&quot;text/javascript&quot; src=&quot;https://code.highcharts.com/modules/exporting.js&quot;&gt;&lt;/script&gt;\n",
       "    &lt;/head&gt;\n",
       "    &lt;body style=&quot;margin:0;padding:0&quot;&gt;\n",
       "                &lt;div id=&quot;container&quot; style=&quot;&quot;&gt;Loading....&lt;/div&gt;\n",
       "\n",
       "\n",
       "    &lt;script&gt;\n",
       "        $(function(){\n",
       "\n",
       "\n",
       " \n",
       "\n",
       "\n",
       "\n",
       "\n",
       "            Highcharts.setOptions({&quot;lang&quot;: {}, &quot;global&quot;: {}});\n",
       "            var option = {&quot;loading&quot;: {}, &quot;subtitle&quot;: {}, &quot;xAxis&quot;: {&quot;categories&quot;: [&quot;BELA&quot;, &quot;PHEBUS&quot;, &quot;MGNS&quot;, &quot;MERTIS&quot;]}, &quot;title&quot;: {&quot;text&quot;: &quot;BepiColombo MPO Timeline&quot;}, &quot;series&quot;: {}, &quot;labels&quot;: {}, &quot;yAxis&quot;: {&quot;type&quot;: &quot;datetime&quot;}, &quot;chart&quot;: {&quot;zoomType&quot;: &quot;y&quot;, &quot;renderTo&quot;: &quot;container&quot;, &quot;type&quot;: &quot;columnrange&quot;, &quot;inverted&quot;: true}, &quot;tooltip&quot;: {&quot;formatter&quot;: function () {return Highcharts.dateFormat(&#x27;%e %B %H:%M&#x27;, this.point.low) +          &#x27; - &#x27; + Highcharts.dateFormat(&#x27;%e %B %H:%M&#x27;, this.point.high) +          &#x27;&lt;br&gt;&lt;b&gt;Mode: &lt;/b&gt;&#x27; + this.point.mode +          &#x27;&lt;br&gt;&lt;b&gt;Power: &lt;/b&gt;&#x27; + this.point.power +          &#x27;&lt;br&gt;&lt;b&gt;Data Rate: &lt;/b&gt;&#x27; + this.point.data_rate;}}, &quot;plotOptions&quot;: {&quot;columnrange&quot;: {&quot;grouping&quot;: false}}, &quot;credits&quot;: {&quot;enabled&quot;: false}, &quot;colors&quot;: {}, &quot;pane&quot;: {}, &quot;exporting&quot;: {}, &quot;drilldown&quot;: {}, &quot;navigation&quot;: {}, &quot;legend&quot;: {}};\n",
       "\n",
       "\n",
       "            var data = [{&quot;data&quot;: [{&quot;data_rate&quot;: &quot; 205 Kbit/s&quot;, &quot;power&quot;: &quot; 10.2 W&quot;, &quot;high&quot;: 1743502380000, &quot;low&quot;: 1743502200000, &quot;x&quot;: 0, &quot;mode&quot;: &quot; On&quot;}, {&quot;data_rate&quot;: &quot; 205 Kbit/s&quot;, &quot;power&quot;: &quot; 10.2 W&quot;, &quot;high&quot;: 1743502920000, &quot;low&quot;: 1743502500000, &quot;x&quot;: 0, &quot;mode&quot;: &quot; On&quot;}, {&quot;data_rate&quot;: &quot; 205 Kbit/s&quot;, &quot;power&quot;: &quot; 10.2 W&quot;, &quot;high&quot;: 1743503820000, &quot;low&quot;: 1743503100000, &quot;x&quot;: 0, &quot;mode&quot;: &quot; On&quot;}, {&quot;data_rate&quot;: &quot; 205 Kbit/s&quot;, &quot;power&quot;: &quot; 10.2 W&quot;, &quot;high&quot;: 1743505260000, &quot;low&quot;: 1743504180000, &quot;x&quot;: 0, &quot;mode&quot;: &quot; On&quot;}], &quot;type&quot;: &quot;columnrange&quot;, &quot;name&quot;: &quot;BELA&quot;}, {&quot;data&quot;: [{&quot;data_rate&quot;: &quot; 90 Kbits/s&quot;, &quot;power&quot;: &quot; 7.3 W&quot;, &quot;high&quot;: 1743503460000, &quot;low&quot;: 1743502560000, &quot;x&quot;: 1, &quot;mode&quot;: &quot; Calibration&quot;}, {&quot;data_rate&quot;: &quot; 90 Kbits/s&quot;, &quot;power&quot;: &quot; 7.3 W&quot;, &quot;high&quot;: 1743503880000, &quot;low&quot;: 1743503760000, &quot;x&quot;: 1, &quot;mode&quot;: &quot; Calibration&quot;}, {&quot;data_rate&quot;: &quot; 90 Kbits/s&quot;, &quot;power&quot;: &quot; 7.3 W&quot;, &quot;high&quot;: 1743504420000, &quot;low&quot;: 1743504120000, &quot;x&quot;: 1, &quot;mode&quot;: &quot; Calibration&quot;}, {&quot;data_rate&quot;: &quot; 90 Kbits/s&quot;, &quot;power&quot;: &quot; 7.3 W&quot;, &quot;high&quot;: 1743504900000, &quot;low&quot;: 1743504660000, &quot;x&quot;: 1, &quot;mode&quot;: &quot; Calibration&quot;}, {&quot;data_rate&quot;: &quot; 90 Kbits/s&quot;, &quot;power&quot;: &quot; 7.3 W&quot;, &quot;high&quot;: 1743505320000, &quot;low&quot;: 1743505080000, &quot;x&quot;: 1, &quot;mode&quot;: &quot; Calibration&quot;}], &quot;type&quot;: &quot;columnrange&quot;, &quot;name&quot;: &quot;PHEBUS&quot;}, {&quot;data&quot;: [{&quot;data_rate&quot;: &quot; 120 Kbit/s&quot;, &quot;power&quot;: &quot; 9.7 W&quot;, &quot;high&quot;: 1743503520000, &quot;low&quot;: 1743503460000, &quot;x&quot;: 2, &quot;mode&quot;: &quot; Standby&quot;}, {&quot;data_rate&quot;: &quot; 120 Kbit/s&quot;, &quot;power&quot;: &quot; 9.7 W&quot;, &quot;high&quot;: 1743504180000, &quot;low&quot;: 1743503880000, &quot;x&quot;: 2, &quot;mode&quot;: &quot; Standby&quot;}, {&quot;data_rate&quot;: &quot; 120 Kbit/s&quot;, &quot;power&quot;: &quot; 9.7 W&quot;, &quot;high&quot;: 1743504960000, &quot;low&quot;: 1743504540000, &quot;x&quot;: 2, &quot;mode&quot;: &quot; Standby&quot;}, {&quot;data_rate&quot;: &quot; 120 Kbit/s&quot;, &quot;power&quot;: &quot; 9.7 W&quot;, &quot;high&quot;: 1743505920000, &quot;low&quot;: 1743505140000, &quot;x&quot;: 2, &quot;mode&quot;: &quot; Standby&quot;}], &quot;type&quot;: &quot;columnrange&quot;, &quot;name&quot;: &quot;MGNS&quot;}, {&quot;data&quot;: [{&quot;data_rate&quot;: &quot; 400 Kbit/s&quot;, &quot;power&quot;: &quot; 14.2 W&quot;, &quot;high&quot;: 1743503700000, &quot;low&quot;: 1743503400000, &quot;x&quot;: 3, &quot;mode&quot;: &quot; On&quot;}, {&quot;data_rate&quot;: &quot; 400 Kbit/s&quot;, &quot;power&quot;: &quot; 14.2 W&quot;, &quot;high&quot;: 1743504060000, &quot;low&quot;: 1743503820000, &quot;x&quot;: 3, &quot;mode&quot;: &quot; On&quot;}, {&quot;data_rate&quot;: &quot; 400 Kbit/s&quot;, &quot;power&quot;: &quot; 14.2 W&quot;, &quot;high&quot;: 1743504780000, &quot;low&quot;: 1743504480000, &quot;x&quot;: 3, &quot;mode&quot;: &quot; On&quot;}, {&quot;data_rate&quot;: &quot; 400 Kbit/s&quot;, &quot;power&quot;: &quot; 14.2 W&quot;, &quot;high&quot;: 1743505560000, &quot;low&quot;: 1743504840000, &quot;x&quot;: 3, &quot;mode&quot;: &quot; On&quot;}], &quot;type&quot;: &quot;columnrange&quot;, &quot;name&quot;: &quot;MERTIS&quot;}];\n",
       "            option.series = data;\n",
       "\n",
       " \n",
       "\n",
       "            var chart = new Highcharts.Chart(option);\n",
       "\n",
       "\n",
       "\n",
       "\n",
       "\n",
       " \n",
       "\n",
       "\n",
       "        \n",
       "    });\n",
       "        &lt;/script&gt;\n",
       "\n",
       "    &lt;/body&gt;\n",
       "&lt;/html&gt; \"height= 520 width = 820></iframe>"
      ],
      "text/plain": [
       "<highcharts.highcharts.highcharts.Highchart at 0x104577310>"
      ]
     },
     "execution_count": 216,
     "metadata": {},
     "output_type": "execute_result"
    }
   ],
   "source": [
    "H = Highchart()\n",
    "\n",
    "timeline_data = pd.read_csv('timeline.txt')\n",
    "\n",
    "options = {\n",
    "    'chart': {\n",
    "        'type': 'columnrange',\n",
    "        'inverted': True,\n",
    "        'zoomType': 'y'\n",
    "    },\n",
    "    'title': {\n",
    "        'text': 'BepiColombo MPO Timeline'\n",
    "    },\n",
    "    'xAxis': {\n",
    "        'categories': list(set(timeline_data['Instrument'].values.tolist()))\n",
    "    },\n",
    "    'yAxis': {\n",
    "        'type': 'datetime'\n",
    "    },\n",
    "    'tooltip': {\n",
    "         'formatter': \"function () {return Highcharts.dateFormat('%e %B %H:%M', this.point.low) + \\\n",
    "         ' - ' + Highcharts.dateFormat('%e %B %H:%M', this.point.high) + \\\n",
    "         '<br><b>Mode: </b>' + this.point.mode + \\\n",
    "         '<br><b>Power: </b>' + this.point.power + \\\n",
    "         '<br><b>Data Rate: </b>' + this.point.data_rate;}\"\n",
    "    },\n",
    "    'plotOptions': {\n",
    "        'columnrange': {\n",
    "            'grouping': False\n",
    "        }\n",
    "    }\n",
    "}\n",
    "\n",
    "H.set_dict_options(options)\n",
    "\n",
    "grouped = timeline_data.groupby('Instrument')\n",
    "grouped = [grouped.get_group(x) for x in grouped.groups]\n",
    "\n",
    "for level, frame in enumerate(grouped):\n",
    "    df = {}\n",
    "    df['name'] = frame['Instrument'].values[0]\n",
    "    df['data'] = []\n",
    "    \n",
    "    for row in frame.itertuples():\n",
    "        block = {}\n",
    "        block['x'] = level\n",
    "        st = dt.strptime(row[2], '%Y-%m-%d %H:%M')\n",
    "        st = int((st-dt(1970,1,1)).total_seconds()*1000)\n",
    "        en = dt.strptime(row[3], '%Y-%m-%d %H:%M')\n",
    "        en = int((en-dt(1970,1,1)).total_seconds()*1000)\n",
    "        block['low'] = st\n",
    "        block['high'] = en\n",
    "        block['mode'] = row[4]\n",
    "        block['power'] = row[5]\n",
    "        block['data_rate'] = row[6]\n",
    "        df['data'].append(block)\n",
    "    \n",
    "    H.add_data_set(df['data'], 'columnrange', df['name'] )\n",
    "    \n",
    "H"
   ]
  },
  {
   "cell_type": "code",
   "execution_count": null,
   "metadata": {
    "collapsed": true
   },
   "outputs": [],
   "source": []
  }
 ],
 "metadata": {
  "kernelspec": {
   "display_name": "Python 2",
   "language": "python",
   "name": "python2"
  },
  "language_info": {
   "codemirror_mode": {
    "name": "ipython",
    "version": 2
   },
   "file_extension": ".py",
   "mimetype": "text/x-python",
   "name": "python",
   "nbconvert_exporter": "python",
   "pygments_lexer": "ipython2",
   "version": "2.7.10"
  }
 },
 "nbformat": 4,
 "nbformat_minor": 0
}
