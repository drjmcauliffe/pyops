{
 "cells": [
  {
   "cell_type": "markdown",
   "metadata": {},
   "source": [
    "#e[PY]s: A Python Library for SciOps Analysis\n",
    "\n",
    "##Define a few support things...\n",
    "\n",
    "Grab my system username."
   ]
  },
  {
   "cell_type": "code",
   "execution_count": 161,
   "metadata": {
    "collapsed": false,
    "slideshow": {
     "slide_type": "skip"
    }
   },
   "outputs": [],
   "source": [
    "user_name = !whoami\n",
    "user_name = user_name[0]"
   ]
  },
  {
   "cell_type": "markdown",
   "metadata": {
    "slideshow": {
     "slide_type": "skip"
    }
   },
   "source": [
    "The following autoreloads packages and sub-packages before each call. This removes the need to restart the kernel after each change to the packages, in particular to epys."
   ]
  },
  {
   "cell_type": "code",
   "execution_count": 162,
   "metadata": {
    "collapsed": false,
    "slideshow": {
     "slide_type": "skip"
    }
   },
   "outputs": [
    {
     "name": "stdout",
     "output_type": "stream",
     "text": [
      "The autoreload extension is already loaded. To reload it, use:\n",
      "  %reload_ext autoreload\n"
     ]
    }
   ],
   "source": [
    "%load_ext autoreload\n",
    "%autoreload 2"
   ]
  },
  {
   "cell_type": "markdown",
   "metadata": {
    "slideshow": {
     "slide_type": "skip"
    }
   },
   "source": [
    "Enable access to bash profile aliases"
   ]
  },
  {
   "cell_type": "code",
   "execution_count": 163,
   "metadata": {
    "collapsed": false,
    "slideshow": {
     "slide_type": "skip"
    }
   },
   "outputs": [],
   "source": [
    "%%bash\n",
    ". ~/.bash_profile"
   ]
  },
  {
   "cell_type": "markdown",
   "metadata": {
    "slideshow": {
     "slide_type": "skip"
    }
   },
   "source": [
    "We may want to display some webpages in the notebook..."
   ]
  },
  {
   "cell_type": "code",
   "execution_count": 164,
   "metadata": {
    "collapsed": true,
    "slideshow": {
     "slide_type": "skip"
    }
   },
   "outputs": [],
   "source": [
    "from IPython.display import HTML, SVG\n",
    "from IPython import display"
   ]
  },
  {
   "cell_type": "markdown",
   "metadata": {
    "slideshow": {
     "slide_type": "skip"
    }
   },
   "source": [
    "We can add widgets for interactivity"
   ]
  },
  {
   "cell_type": "code",
   "execution_count": 165,
   "metadata": {
    "collapsed": false,
    "slideshow": {
     "slide_type": "skip"
    }
   },
   "outputs": [],
   "source": [
    "from IPython.html.widgets import interact, interactive, fixed\n",
    "from IPython.html import widgets"
   ]
  },
  {
   "cell_type": "code",
   "execution_count": 166,
   "metadata": {
    "collapsed": false
   },
   "outputs": [],
   "source": [
    "import seaborn as sns\n",
    "sns.set(color_codes=True)"
   ]
  },
  {
   "cell_type": "markdown",
   "metadata": {
    "slideshow": {
     "slide_type": "skip"
    }
   },
   "source": [
    "Set Matplotlib plot size"
   ]
  },
  {
   "cell_type": "code",
   "execution_count": 167,
   "metadata": {
    "collapsed": true
   },
   "outputs": [],
   "source": [
    "import matplotlib as mpl\n",
    "%matplotlib inline"
   ]
  },
  {
   "cell_type": "code",
   "execution_count": 168,
   "metadata": {
    "collapsed": true,
    "slideshow": {
     "slide_type": "skip"
    }
   },
   "outputs": [],
   "source": [
    "mpl.rcParams['figure.figsize'] = (20.0, 10.0)"
   ]
  },
  {
   "cell_type": "markdown",
   "metadata": {},
   "source": [
    "##e[PY]s\n",
    "\n",
    "What it says on the tin:\n",
    "\n",
    "> \"ePYs is a python library for the creation, manipulation, processing and plotting of the input and output files of ESA's Experiment Planning Software (EPS).\n",
    "\n",
    "It's a \"pulling-together\" of many bits 'n' pieces of code I've written over the past 3 years or so...\n",
    "\n",
    "The package can be installed directly from [PyPi](https://pypi.python.org/pypi/epys/). And the project is hosted on [Github](https://github.com/johnnycakes79/epys) with documenation on [ReadTheDocs](http://epys.rtfd.org).\n",
    "\n",
    "It uses [Travis CI](https://travis-ci.org/johnnycakes79/epys) for continuous integration and [Coveralls](https://coveralls.io/r/johnnycakes79/epys) for test coverage checking... this is pretty low at the moment. \n",
    "\n",
    "\n",
    "It's functionality is spread across 6 modules, but what I will present here comes mainly from the **read** and **utils** modules.\n",
    "* **draw** makes pretty orbit graphics\n",
    "* **events** provides a series of time/date utilities\n",
    "* **maps** does things with maps and images\n",
    "* **orbit** processes mission analysis orbit files\n",
    "* **read** reads EPS/MAPPS output into useable dataframes and/or arrays\n",
    "* **utils** more utilities ...\n",
    "\n",
    "##IPython\n",
    "\n",
    "IPython provides extensions to the Python programming language that make working interactively convenient and efficient. \n",
    "\n",
    "These extensions are implemented in the IPython Kernel and are available in all of the IPython Frontends (Notebook, Terminal, Console and Qt Console) when running this kernel.\n",
    "\n",
    "##IPython Notebook\n",
    "\n",
    "The IPython Notebook is a web-based interactive computing system that enables users to author documents that include live code, narrative text, LaTeX equations, HTML, images and video. \n",
    "\n",
    "These documents are contain a full record of a computation and its results and can be shared on email, [Dropbox](http://dropbox.com), version control systems (like git/[GitHub](http://github.com)) or [nbviewer.ipython.org](http://nbviewer.ipython.org).\n",
    "\n",
    "It's interactive documentation ... for free!\n",
    "\n",
    "##Initial Import"
   ]
  },
  {
   "cell_type": "code",
   "execution_count": 169,
   "metadata": {
    "collapsed": false,
    "slideshow": {
     "slide_type": "-"
    }
   },
   "outputs": [],
   "source": [
    "import epys # pronounce e-pie-s"
   ]
  },
  {
   "cell_type": "markdown",
   "metadata": {},
   "source": [
    "###Standard Library Packages used in this demo\n",
    "\n",
    "The **[cPickle](https://docs.python.org/2/library/pickle.html)** module supports serialization and de-serialization of Python objects, providing an interface and functionality nearly identical to the pickle module."
   ]
  },
  {
   "cell_type": "code",
   "execution_count": 170,
   "metadata": {
    "collapsed": false,
    "slideshow": {
     "slide_type": "skip"
    }
   },
   "outputs": [],
   "source": [
    "import cPickle as pickle "
   ]
  },
  {
   "cell_type": "markdown",
   "metadata": {
    "slideshow": {
     "slide_type": "skip"
    }
   },
   "source": [
    "The **[datetime](https://docs.python.org/2/library/datetime.html?highlight=datetime#module-datetime)** module supplies classes for manipulating dates and times in both simple and complex ways."
   ]
  },
  {
   "cell_type": "code",
   "execution_count": 171,
   "metadata": {
    "collapsed": false,
    "slideshow": {
     "slide_type": "skip"
    }
   },
   "outputs": [],
   "source": [
    "from datetime import datetime as dt"
   ]
  },
  {
   "cell_type": "markdown",
   "metadata": {},
   "source": [
    "###Heavy Lifting\n",
    "\n",
    "**[Pandas](http://pandas.pydata.org)** is a software library written for the **Python** programming language for data manipulation and analysis. In particular, it offers data structures and operations for manipulating numerical tables and **time series**.\n"
   ]
  },
  {
   "cell_type": "code",
   "execution_count": 172,
   "metadata": {
    "collapsed": false
   },
   "outputs": [],
   "source": [
    "import pandas as pd"
   ]
  },
  {
   "cell_type": "markdown",
   "metadata": {
    "slideshow": {
     "slide_type": "skip"
    }
   },
   "source": [
    "Increase dataframe max width and height"
   ]
  },
  {
   "cell_type": "code",
   "execution_count": 173,
   "metadata": {
    "collapsed": false,
    "slideshow": {
     "slide_type": "skip"
    }
   },
   "outputs": [],
   "source": [
    "pd.set_option('display.max_columns', 100)\n",
    "pd.set_option('display.max_rows', 100)"
   ]
  },
  {
   "cell_type": "markdown",
   "metadata": {},
   "source": [
    "**[NumPy](http://www.numpy.org/)** is an extension adding support for large, multi-dimensional arrays and matrices, along with a large library of high-level mathematical functions to operate on these arrays. </p>\n"
   ]
  },
  {
   "cell_type": "code",
   "execution_count": 174,
   "metadata": {
    "collapsed": false
   },
   "outputs": [],
   "source": [
    "import numpy as np"
   ]
  },
  {
   "cell_type": "markdown",
   "metadata": {},
   "source": [
    "**[Plotly](https://plot.ly/)** is an online analytics and data visualization tool, providing online graphing, analytics, a Python command line, and stats tools for individuals and collaboration, as well as scientific graphing libraries for Python, R, MATLAB, Perl, Julia, Arduino, and REST."
   ]
  },
  {
   "cell_type": "code",
   "execution_count": 175,
   "metadata": {
    "collapsed": true
   },
   "outputs": [],
   "source": [
    "import plotly.plotly as py"
   ]
  },
  {
   "cell_type": "code",
   "execution_count": 176,
   "metadata": {
    "collapsed": false,
    "slideshow": {
     "slide_type": "skip"
    }
   },
   "outputs": [],
   "source": [
    "import plotly.tools as tls\n",
    "from plotly.graph_objs import Data, Layout, Figure, XAxis, YAxis, Scatter, Line, Legend"
   ]
  },
  {
   "cell_type": "markdown",
   "metadata": {
    "slideshow": {
     "slide_type": "skip"
    }
   },
   "source": [
    "Setup plotly sign-in in **~/.plotly/.credentials**: [see the Plot.ly API Users Guide Step 6](http://nbviewer.ipython.org/github/plotly/python-user-guide/blob/master/s00_homepage/s00_homepage.ipynb#Step-6)\n",
    "\n",
    "## EPS Simulation\n",
    "\n",
    "The IPython Notebook has direct access to the command line and so EPS can be executed from within the notebook. \n",
    "\n",
    "This is handy - we can set the simluation parameters from within the notebook as well as capture and parse the output."
   ]
  },
  {
   "cell_type": "code",
   "execution_count": 177,
   "metadata": {
    "collapsed": true,
    "slideshow": {
     "slide_type": "skip"
    }
   },
   "outputs": [],
   "source": [
    "import os"
   ]
  },
  {
   "cell_type": "markdown",
   "metadata": {
    "slideshow": {
     "slide_type": "skip"
    }
   },
   "source": [
    "We define a few data files to use later."
   ]
  },
  {
   "cell_type": "code",
   "execution_count": 178,
   "metadata": {
    "collapsed": false
   },
   "outputs": [
    {
     "name": "stdout",
     "output_type": "stream",
     "text": [
      "actions.out           imagedatadump.dat     power_budget.pwr\r\n",
      "conflicts.out         modes.out             state_params.out\r\n",
      "data_rate_avg.out     module_states.out     timeline.out\r\n",
      "downlink_profile.brf  power_avg.out\r\n"
     ]
    }
   ],
   "source": [
    "ls test/data"
   ]
  },
  {
   "cell_type": "code",
   "execution_count": 179,
   "metadata": {
    "collapsed": false,
    "slideshow": {
     "slide_type": "skip"
    }
   },
   "outputs": [],
   "source": [
    "power_avg_file = 'test/data/power_avg.out'\n",
    "data_rate_avg_file = 'test/data/data_rate_avg.out'\n",
    "\n",
    "power_budget_file= 'test/data/power_budget.pwr'\n",
    "downlink_budget_file= 'test/data/downlink_profile.brf'"
   ]
  },
  {
   "cell_type": "markdown",
   "metadata": {
    "slideshow": {
     "slide_type": "skip"
    }
   },
   "source": [
    "##Power Analysis\n",
    "\n",
    "<p><b>epys</b> defines a number of table classes to deal with the main EPS/MAPPS input and output data formats, such as power and data downlink budgets and power usage and data production output files.</p>\n",
    "\n",
    "<p>The base class of these tables is the <b>epstable</b> from which 2 more specific table classes are sub-classed: <b>powertable</b> and <b>datatable</b>. </p>\n",
    "\n",
    "<p>Help is available within IPython or the IPython Notebook environment. </p>"
   ]
  },
  {
   "cell_type": "code",
   "execution_count": 180,
   "metadata": {
    "collapsed": false,
    "exclude_cell": false,
    "slideshow": {
     "slide_type": "-"
    }
   },
   "outputs": [
    {
     "name": "stdout",
     "output_type": "stream",
     "text": [
      "Help on class epstable in module epys.read:\n",
      "\n",
      "class epstable\n",
      " |  This is the base class for data tables in epys. Upon instantiation it is\n",
      " |  provided with a filename which is read into a header dictionary and a\n",
      " |  Pandas dataframe. The class has a number of methods for querying its\n",
      " |  characteristics, plotting its contents and merging other tables into it.\n",
      " |  \n",
      " |  Methods defined here:\n",
      " |  \n",
      " |  __init__(self, fname, columns=False)\n",
      " |      This constructor method initialises the epstable object.\n",
      " |      \n",
      " |      :param fname: input filename\n",
      " |      :type fname: str\n",
      " |      :param columns: user supplied list of column headings\n",
      " |      :type columns: list or tuple\n",
      " |      :returns: epstable object consisting of a header dictionary and Pandas dataframe\n",
      " |  \n",
      " |  head(self, n=False)\n",
      " |      This method returns the first n (default 5) rows of the dataframe\n",
      " |  \n",
      " |  iplot(self, selection=False, limits=False, title=False, x_title=False, x_range=False, y_title=False, y_range=False, showlegend=True, bg_alpha=False)\n",
      " |      This method pre-processes the table object for plotting.\n",
      " |      \n",
      " |      :param selection: a sub-selection of columns to plot\n",
      " |      :type selection: list\n",
      " |      :param limits: start and end times of data to plot\n",
      " |      :type limits: datetime\n",
      " |      :param title: plot title\n",
      " |      :type title: str\n",
      " |      :param x_title: x-axis title\n",
      " |      :type x_title: str\n",
      " |      :param x_range: x-axis plot range\n",
      " |      :type x_range: list\n",
      " |      :param y_title: y-axis title\n",
      " |      :type y_title: str\n",
      " |      :param y_range: y-axis plot range\n",
      " |      :type y_range: list\n",
      " |      :param showlegend: flag to show the plot legend or not\n",
      " |      :type showlegend: boolean\n",
      " |      :param bg_alpha: factor for transparency of seasonal background\n",
      " |      :type bg_alpha: float (default=0.3)\n",
      " |      :returns:\n",
      " |  \n",
      " |  join(self, df_to_join, in_place=False)\n",
      " |      This method joins a second table object to this one\n",
      " |      \n",
      " |      :param df_to_join: table object to joint to this one\n",
      " |      :type df_to_join: epstable\n",
      " |      :param in_place: flag to join in place or return new instance\n",
      " |      :type in_place: boolean\n",
      " |      :returns:\n",
      " |  \n",
      " |  range(self)\n",
      " |      This method returns the time range of the dataframe as pandas Timestamp objects\n",
      " |  \n",
      " |  range_datetime(self)\n",
      " |      This method returns the time range of the dataframe as datetime objects pandas.tslib.Timestamp\n",
      " |  \n",
      " |  range_jd(self)\n",
      " |      This method returns the time range of the dataframe as julian date floats\n",
      " |  \n",
      " |  range_str(self)\n",
      " |      This methond returns the time range of the dataframe as strings\n",
      " |  \n",
      " |  sub(self, table_to_subtract, in_place=False)\n",
      " |      This method subtracts the contents of second table from the\n",
      " |      contents of this one. Be careful with this... it's not been widely\n",
      " |      tested, I'm not sure what happens if the data tables have different\n",
      " |      column numbers and/or names.\n",
      " |      \n",
      " |      :param table_to_subtract: data table to subtract from this one\n",
      " |      :type table_to_subtract: epstable\n",
      " |      :param in_place: flag to perform the subtraction on this instance or return a new instance\n",
      " |      :type in_place: boolean\n",
      " |      :returns:\n",
      " |  \n",
      " |  tail(self, n=False)\n",
      " |      This method returns the last n (default 5) rows of the dataframe\n",
      " |  \n",
      " |  thin(self)\n",
      " |      This method removes columns with only zeros.\n",
      "\n"
     ]
    }
   ],
   "source": [
    "help(epys.epstable)"
   ]
  },
  {
   "cell_type": "markdown",
   "metadata": {
    "slideshow": {
     "slide_type": "subslide"
    }
   },
   "source": [
    "The docmentation is built into the code itself..."
   ]
  },
  {
   "cell_type": "code",
   "execution_count": 181,
   "metadata": {
    "collapsed": true,
    "slideshow": {
     "slide_type": "-"
    }
   },
   "outputs": [],
   "source": [
    "class epstable:\n",
    "    \"\"\"\n",
    "    This is the base class for data tables in epys. Upon instantiation it is\n",
    "    provided with a filename which is read into a header dictionary and a\n",
    "    Pandas dataframe. The class has a number of methods for querying its\n",
    "    characteristics, plotting its contents and merging other tables into it.\n",
    "    \"\"\"\n",
    "    def __init__(self, fname, columns=False):\n",
    "        \"\"\"\n",
    "        This constructor method initialises the epstable object.\n",
    "\n",
    "        :param fname: input filename\n",
    "        :type fname: str\n",
    "        :param columns: user supplied list of column headings\n",
    "        :type columns: list or tuple\n",
    "        :returns: epstable object consisting of a header dictionary and Pandas dataframe\n",
    "        \"\"\"\n",
    "        self.data, self.header = read(fname, meta=True, columns=columns)"
   ]
  },
  {
   "cell_type": "markdown",
   "metadata": {
    "slideshow": {
     "slide_type": "subslide"
    }
   },
   "source": [
    "And pretty docs are auto-generated and made available online: [readthdocs](http://epys.readthedocs.org/en/latest/index.html)"
   ]
  },
  {
   "cell_type": "code",
   "execution_count": 182,
   "metadata": {
    "collapsed": false,
    "slideshow": {
     "slide_type": "-"
    }
   },
   "outputs": [
    {
     "data": {
      "text/html": [
       "<iframe src=http://epys.readthedocs.org/en/latest/index.html width=100% height=500></iframe>"
      ],
      "text/plain": [
       "<IPython.core.display.HTML object>"
      ]
     },
     "execution_count": 182,
     "metadata": {},
     "output_type": "execute_result"
    }
   ],
   "source": [
    "HTML('<iframe src=http://epys.readthedocs.org/en/latest/index.html width=100% height=500></iframe>')"
   ]
  },
  {
   "cell_type": "markdown",
   "metadata": {},
   "source": [
    "###So let's read-in some data\n",
    "\n",
    " We set the <b>power usage file</b> earlier (though not on screen). Executing the variable name in a cell shows the file path and name."
   ]
  },
  {
   "cell_type": "code",
   "execution_count": 183,
   "metadata": {
    "collapsed": false
   },
   "outputs": [
    {
     "data": {
      "text/plain": [
       "'test/data/power_avg.out'"
      ]
     },
     "execution_count": 183,
     "metadata": {},
     "output_type": "execute_result"
    }
   ],
   "source": [
    "power_avg_file"
   ]
  },
  {
   "cell_type": "markdown",
   "metadata": {},
   "source": [
    "Now we read it in by creating an instance of the **powertable** class."
   ]
  },
  {
   "cell_type": "code",
   "execution_count": 184,
   "metadata": {
    "collapsed": false
   },
   "outputs": [
    {
     "name": "stdout",
     "output_type": "stream",
     "text": [
      "12 redundant lines removed\n"
     ]
    }
   ],
   "source": [
    "power_usage = epys.powertable(power_avg_file)"
   ]
  },
  {
   "cell_type": "markdown",
   "metadata": {},
   "source": [
    "Note the printed result of the import process...\n",
    "\n",
    "![](images/remove_redundant_plot_3.png)\n",
    "\n",
    "Output is at regular time intervals and at small timesteps, often, there is little change.\n",
    "\n",
    "![](images/remove_redundant_plot_4.png)\n",
    "\n",
    "As part of the read-in process <b>epys</b> checks for, and if possible removes, rendundant data points.\n",
    "\n",
    "The resulting powertable consists of 2 parts\n",
    "- a <b>dataframe</b> containing the data proper and \n",
    "- a <b>header</b> containing a dictionary of data parsed (as best can be done) from the commented lines at the start of the input file. \n",
    "\n",
    "We can examine the start or \"head\" of the dataframe using the head method."
   ]
  },
  {
   "cell_type": "code",
   "execution_count": 185,
   "metadata": {
    "collapsed": false
   },
   "outputs": [
    {
     "data": {
      "text/html": [
       "<div>\n",
       "<table border=\"1\" class=\"dataframe\">\n",
       "  <thead>\n",
       "    <tr style=\"text-align: right;\">\n",
       "      <th></th>\n",
       "      <th>Total</th>\n",
       "      <th>ANTENNA</th>\n",
       "      <th>SSMM</th>\n",
       "      <th>BELA</th>\n",
       "      <th>ISA</th>\n",
       "      <th>MERMAG</th>\n",
       "      <th>MERTIS</th>\n",
       "      <th>MGNS</th>\n",
       "      <th>MORE</th>\n",
       "      <th>PHEBUS</th>\n",
       "      <th>SERENA</th>\n",
       "      <th>SIMBIOSYS-STC</th>\n",
       "      <th>SIMBIOSYS-HRIC</th>\n",
       "      <th>SIMBIOSYS-VIHI</th>\n",
       "      <th>MIXS-SIXS</th>\n",
       "    </tr>\n",
       "    <tr>\n",
       "      <th>Date</th>\n",
       "      <th></th>\n",
       "      <th></th>\n",
       "      <th></th>\n",
       "      <th></th>\n",
       "      <th></th>\n",
       "      <th></th>\n",
       "      <th></th>\n",
       "      <th></th>\n",
       "      <th></th>\n",
       "      <th></th>\n",
       "      <th></th>\n",
       "      <th></th>\n",
       "      <th></th>\n",
       "      <th></th>\n",
       "      <th></th>\n",
       "    </tr>\n",
       "  </thead>\n",
       "  <tbody>\n",
       "    <tr>\n",
       "      <th>2024-05-07</th>\n",
       "      <td>18.35</td>\n",
       "      <td>0</td>\n",
       "      <td>0</td>\n",
       "      <td>13.47</td>\n",
       "      <td>0.00</td>\n",
       "      <td>4.88</td>\n",
       "      <td>0.0</td>\n",
       "      <td>0</td>\n",
       "      <td>0</td>\n",
       "      <td>0</td>\n",
       "      <td>0.0</td>\n",
       "      <td>0.00</td>\n",
       "      <td>0</td>\n",
       "      <td>0.00</td>\n",
       "      <td>0.0</td>\n",
       "    </tr>\n",
       "    <tr>\n",
       "      <th>2024-05-08</th>\n",
       "      <td>163.34</td>\n",
       "      <td>0</td>\n",
       "      <td>0</td>\n",
       "      <td>43.90</td>\n",
       "      <td>12.87</td>\n",
       "      <td>4.88</td>\n",
       "      <td>12.9</td>\n",
       "      <td>5</td>\n",
       "      <td>0</td>\n",
       "      <td>0</td>\n",
       "      <td>37.2</td>\n",
       "      <td>6.18</td>\n",
       "      <td>0</td>\n",
       "      <td>11.21</td>\n",
       "      <td>29.2</td>\n",
       "    </tr>\n",
       "    <tr>\n",
       "      <th>2024-05-09</th>\n",
       "      <td>163.34</td>\n",
       "      <td>0</td>\n",
       "      <td>0</td>\n",
       "      <td>43.90</td>\n",
       "      <td>12.87</td>\n",
       "      <td>4.88</td>\n",
       "      <td>12.9</td>\n",
       "      <td>5</td>\n",
       "      <td>0</td>\n",
       "      <td>0</td>\n",
       "      <td>37.2</td>\n",
       "      <td>6.18</td>\n",
       "      <td>0</td>\n",
       "      <td>11.21</td>\n",
       "      <td>29.2</td>\n",
       "    </tr>\n",
       "    <tr>\n",
       "      <th>2024-05-10</th>\n",
       "      <td>148.64</td>\n",
       "      <td>0</td>\n",
       "      <td>0</td>\n",
       "      <td>43.90</td>\n",
       "      <td>12.87</td>\n",
       "      <td>4.88</td>\n",
       "      <td>9.0</td>\n",
       "      <td>5</td>\n",
       "      <td>0</td>\n",
       "      <td>24</td>\n",
       "      <td>2.4</td>\n",
       "      <td>6.18</td>\n",
       "      <td>0</td>\n",
       "      <td>11.21</td>\n",
       "      <td>29.2</td>\n",
       "    </tr>\n",
       "    <tr>\n",
       "      <th>2024-05-11</th>\n",
       "      <td>105.82</td>\n",
       "      <td>0</td>\n",
       "      <td>0</td>\n",
       "      <td>13.47</td>\n",
       "      <td>12.87</td>\n",
       "      <td>4.88</td>\n",
       "      <td>9.0</td>\n",
       "      <td>5</td>\n",
       "      <td>0</td>\n",
       "      <td>0</td>\n",
       "      <td>34.3</td>\n",
       "      <td>0.00</td>\n",
       "      <td>0</td>\n",
       "      <td>0.00</td>\n",
       "      <td>26.3</td>\n",
       "    </tr>\n",
       "  </tbody>\n",
       "</table>\n",
       "</div>"
      ],
      "text/plain": [
       "             Total  ANTENNA  SSMM   BELA    ISA  MERMAG  MERTIS  MGNS  MORE  \\\n",
       "Date                                                                          \n",
       "2024-05-07   18.35        0     0  13.47   0.00    4.88     0.0     0     0   \n",
       "2024-05-08  163.34        0     0  43.90  12.87    4.88    12.9     5     0   \n",
       "2024-05-09  163.34        0     0  43.90  12.87    4.88    12.9     5     0   \n",
       "2024-05-10  148.64        0     0  43.90  12.87    4.88     9.0     5     0   \n",
       "2024-05-11  105.82        0     0  13.47  12.87    4.88     9.0     5     0   \n",
       "\n",
       "            PHEBUS  SERENA  SIMBIOSYS-STC  SIMBIOSYS-HRIC  SIMBIOSYS-VIHI  \\\n",
       "Date                                                                        \n",
       "2024-05-07       0     0.0           0.00               0            0.00   \n",
       "2024-05-08       0    37.2           6.18               0           11.21   \n",
       "2024-05-09       0    37.2           6.18               0           11.21   \n",
       "2024-05-10      24     2.4           6.18               0           11.21   \n",
       "2024-05-11       0    34.3           0.00               0            0.00   \n",
       "\n",
       "            MIXS-SIXS  \n",
       "Date                   \n",
       "2024-05-07        0.0  \n",
       "2024-05-08       29.2  \n",
       "2024-05-09       29.2  \n",
       "2024-05-10       29.2  \n",
       "2024-05-11       26.3  "
      ]
     },
     "execution_count": 185,
     "metadata": {},
     "output_type": "execute_result"
    }
   ],
   "source": [
    "power_usage.head()"
   ]
  },
  {
   "cell_type": "markdown",
   "metadata": {
    "slideshow": {
     "slide_type": "subslide"
    }
   },
   "source": [
    "And we can look at the start of the header..."
   ]
  },
  {
   "cell_type": "code",
   "execution_count": 186,
   "metadata": {
    "collapsed": false
   },
   "outputs": [
    {
     "data": {
      "text/plain": [
       "{'CFG Template': 'v3.19',\n",
       " 'EDF Template': 'v3.12',\n",
       " 'EPS Version': 'v2.5.8',\n",
       " 'EVF (ESOC FD)': 'DDID appendix-H v2.1',\n",
       " 'EVF Template': 'v3.1',\n",
       " 'File Contents': 'Average Power Values',\n",
       " 'Generation Time': '25-November-2013_15',\n",
       " 'ITL Template': 'v3.10',\n",
       " 'Input CFG': 'eps_mac.cfg',\n",
       " 'Input EDF': 'bepi.edf',\n",
       " 'Input EVF': 'bepi_events_mpo_00012.evf',\n",
       " 'Input Timeline': 'BC_SO10_FULL_________ITL_GEN_1A.itl',\n",
       " 'MDB version': 'SISBCETB \"ETB (1, 0, 38)\"',\n",
       " 'Output Filename': 'power_avg.out',\n",
       " 'POR Definition': 'CRID issue C4',\n",
       " 'Reference Date': datetime.datetime(2024, 5, 7, 0, 0),\n",
       " 'experiments': ['ANTENNA',\n",
       "  'SSMM',\n",
       "  'BELA',\n",
       "  'ISA',\n",
       "  'MERMAG',\n",
       "  'MERTIS',\n",
       "  'MGNS',\n",
       "  'MORE',\n",
       "  'PHEBUS',\n",
       "  'SERENA',\n",
       "  'SIMBIOSYS-STC',\n",
       "  'SIMBIOSYS-HRIC',\n",
       "  'SIMBIOSYS-VIHI',\n",
       "  'MIXS-SIXS'],\n",
       " 'headings': ['Elapsed time',\n",
       "  'Total',\n",
       "  'ANTENNA',\n",
       "  'SSMM',\n",
       "  'BELA',\n",
       "  'ISA',\n",
       "  'MERMAG',\n",
       "  'MERTIS',\n",
       "  'MGNS',\n",
       "  'MORE',\n",
       "  'PHEBUS',\n",
       "  'SERENA',\n",
       "  'SIMBIOSYS-STC',\n",
       "  'SIMBIOSYS-HRIC',\n",
       "  'SIMBIOSYS-VIHI',\n",
       "  'MIXS-SIXS'],\n",
       " 'len': 27,\n",
       " 'units': ['ddd_hh:mm:ss',\n",
       "  'Watts',\n",
       "  'Watts',\n",
       "  'Watts',\n",
       "  'Watts',\n",
       "  'Watts',\n",
       "  'Watts',\n",
       "  'Watts',\n",
       "  'Watts',\n",
       "  'Watts',\n",
       "  'Watts',\n",
       "  'Watts',\n",
       "  'Watts',\n",
       "  'Watts',\n",
       "  'Watts',\n",
       "  'Watts']}"
      ]
     },
     "execution_count": 186,
     "metadata": {},
     "output_type": "execute_result"
    }
   ],
   "source": [
    "power_usage.header"
   ]
  },
  {
   "cell_type": "markdown",
   "metadata": {
    "slideshow": {
     "slide_type": "subslide"
    }
   },
   "source": [
    "Or query some part of its dictionary object by passing it a key"
   ]
  },
  {
   "cell_type": "code",
   "execution_count": 187,
   "metadata": {
    "collapsed": false
   },
   "outputs": [
    {
     "data": {
      "text/plain": [
       "['ANTENNA',\n",
       " 'SSMM',\n",
       " 'BELA',\n",
       " 'ISA',\n",
       " 'MERMAG',\n",
       " 'MERTIS',\n",
       " 'MGNS',\n",
       " 'MORE',\n",
       " 'PHEBUS',\n",
       " 'SERENA',\n",
       " 'SIMBIOSYS-STC',\n",
       " 'SIMBIOSYS-HRIC',\n",
       " 'SIMBIOSYS-VIHI',\n",
       " 'MIXS-SIXS']"
      ]
     },
     "execution_count": 187,
     "metadata": {},
     "output_type": "execute_result"
    }
   ],
   "source": [
    "power_usage.header['experiments']"
   ]
  },
  {
   "cell_type": "markdown",
   "metadata": {
    "slideshow": {
     "slide_type": "subslide"
    }
   },
   "source": [
    "We now import the **power budget file** as an instance of the base epstable class. And manually assign the data column a heading."
   ]
  },
  {
   "cell_type": "code",
   "execution_count": 188,
   "metadata": {
    "collapsed": false
   },
   "outputs": [],
   "source": [
    "power_budget = epys.epstable(power_budget_file)"
   ]
  },
  {
   "cell_type": "code",
   "execution_count": 189,
   "metadata": {
    "collapsed": false
   },
   "outputs": [],
   "source": [
    "power_budget.data.columns = ['Available']"
   ]
  },
  {
   "cell_type": "code",
   "execution_count": 190,
   "metadata": {
    "collapsed": false
   },
   "outputs": [
    {
     "data": {
      "text/html": [
       "<div>\n",
       "<table border=\"1\" class=\"dataframe\">\n",
       "  <thead>\n",
       "    <tr style=\"text-align: right;\">\n",
       "      <th></th>\n",
       "      <th>Available</th>\n",
       "    </tr>\n",
       "    <tr>\n",
       "      <th>date</th>\n",
       "      <th></th>\n",
       "    </tr>\n",
       "  </thead>\n",
       "  <tbody>\n",
       "    <tr>\n",
       "      <th>2024-03-24 05:00:00</th>\n",
       "      <td>333</td>\n",
       "    </tr>\n",
       "    <tr>\n",
       "      <th>2024-03-25 01:18:00</th>\n",
       "      <td>387</td>\n",
       "    </tr>\n",
       "    <tr>\n",
       "      <th>2024-03-25 22:18:00</th>\n",
       "      <td>431</td>\n",
       "    </tr>\n",
       "    <tr>\n",
       "      <th>2024-03-26 19:48:00</th>\n",
       "      <td>506</td>\n",
       "    </tr>\n",
       "    <tr>\n",
       "      <th>2024-03-27 18:18:00</th>\n",
       "      <td>562</td>\n",
       "    </tr>\n",
       "  </tbody>\n",
       "</table>\n",
       "</div>"
      ],
      "text/plain": [
       "                     Available\n",
       "date                          \n",
       "2024-03-24 05:00:00        333\n",
       "2024-03-25 01:18:00        387\n",
       "2024-03-25 22:18:00        431\n",
       "2024-03-26 19:48:00        506\n",
       "2024-03-27 18:18:00        562"
      ]
     },
     "execution_count": 190,
     "metadata": {},
     "output_type": "execute_result"
    }
   ],
   "source": [
    "power_budget.head()"
   ]
  },
  {
   "cell_type": "markdown",
   "metadata": {
    "slideshow": {
     "slide_type": "subslide"
    }
   },
   "source": [
    "Now we merge the power budget data into the power usage datatable using the <b>join</b> method. \n",
    "\n",
    "We specify the **in_place** flag to have the changes made directly in the power usage table rather than returning a new, updated instance of the table. \n",
    "\n",
    "For experimenting, the latter is probably the better option."
   ]
  },
  {
   "cell_type": "code",
   "execution_count": 191,
   "metadata": {
    "collapsed": false
   },
   "outputs": [
    {
     "name": "stdout",
     "output_type": "stream",
     "text": [
      "Warning: can only sort by level with a hierarchical index.\n"
     ]
    }
   ],
   "source": [
    "power_usage.join(power_budget, in_place=True)"
   ]
  },
  {
   "cell_type": "code",
   "execution_count": 192,
   "metadata": {
    "collapsed": false
   },
   "outputs": [
    {
     "data": {
      "text/html": [
       "<div>\n",
       "<table border=\"1\" class=\"dataframe\">\n",
       "  <thead>\n",
       "    <tr style=\"text-align: right;\">\n",
       "      <th></th>\n",
       "      <th>Available</th>\n",
       "      <th>Total</th>\n",
       "      <th>ANTENNA</th>\n",
       "      <th>SSMM</th>\n",
       "      <th>BELA</th>\n",
       "      <th>ISA</th>\n",
       "      <th>MERMAG</th>\n",
       "      <th>MERTIS</th>\n",
       "      <th>MGNS</th>\n",
       "      <th>MORE</th>\n",
       "      <th>PHEBUS</th>\n",
       "      <th>SERENA</th>\n",
       "      <th>SIMBIOSYS-STC</th>\n",
       "      <th>SIMBIOSYS-HRIC</th>\n",
       "      <th>SIMBIOSYS-VIHI</th>\n",
       "      <th>MIXS-SIXS</th>\n",
       "    </tr>\n",
       "  </thead>\n",
       "  <tbody>\n",
       "    <tr>\n",
       "      <th>2024-05-07</th>\n",
       "      <td>387</td>\n",
       "      <td>18.35</td>\n",
       "      <td>0</td>\n",
       "      <td>0</td>\n",
       "      <td>13.47</td>\n",
       "      <td>0.00</td>\n",
       "      <td>4.88</td>\n",
       "      <td>0.0</td>\n",
       "      <td>0</td>\n",
       "      <td>0</td>\n",
       "      <td>0</td>\n",
       "      <td>0.0</td>\n",
       "      <td>0.00</td>\n",
       "      <td>0</td>\n",
       "      <td>0.00</td>\n",
       "      <td>0.0</td>\n",
       "    </tr>\n",
       "    <tr>\n",
       "      <th>2024-05-08</th>\n",
       "      <td>495</td>\n",
       "      <td>163.34</td>\n",
       "      <td>0</td>\n",
       "      <td>0</td>\n",
       "      <td>43.90</td>\n",
       "      <td>12.87</td>\n",
       "      <td>4.88</td>\n",
       "      <td>12.9</td>\n",
       "      <td>5</td>\n",
       "      <td>0</td>\n",
       "      <td>0</td>\n",
       "      <td>37.2</td>\n",
       "      <td>6.18</td>\n",
       "      <td>0</td>\n",
       "      <td>11.21</td>\n",
       "      <td>29.2</td>\n",
       "    </tr>\n",
       "    <tr>\n",
       "      <th>2024-05-09</th>\n",
       "      <td>495</td>\n",
       "      <td>163.34</td>\n",
       "      <td>0</td>\n",
       "      <td>0</td>\n",
       "      <td>43.90</td>\n",
       "      <td>12.87</td>\n",
       "      <td>4.88</td>\n",
       "      <td>12.9</td>\n",
       "      <td>5</td>\n",
       "      <td>0</td>\n",
       "      <td>0</td>\n",
       "      <td>37.2</td>\n",
       "      <td>6.18</td>\n",
       "      <td>0</td>\n",
       "      <td>11.21</td>\n",
       "      <td>29.2</td>\n",
       "    </tr>\n",
       "    <tr>\n",
       "      <th>2024-05-10</th>\n",
       "      <td>495</td>\n",
       "      <td>148.64</td>\n",
       "      <td>0</td>\n",
       "      <td>0</td>\n",
       "      <td>43.90</td>\n",
       "      <td>12.87</td>\n",
       "      <td>4.88</td>\n",
       "      <td>9.0</td>\n",
       "      <td>5</td>\n",
       "      <td>0</td>\n",
       "      <td>24</td>\n",
       "      <td>2.4</td>\n",
       "      <td>6.18</td>\n",
       "      <td>0</td>\n",
       "      <td>11.21</td>\n",
       "      <td>29.2</td>\n",
       "    </tr>\n",
       "    <tr>\n",
       "      <th>2024-05-11</th>\n",
       "      <td>495</td>\n",
       "      <td>105.82</td>\n",
       "      <td>0</td>\n",
       "      <td>0</td>\n",
       "      <td>13.47</td>\n",
       "      <td>12.87</td>\n",
       "      <td>4.88</td>\n",
       "      <td>9.0</td>\n",
       "      <td>5</td>\n",
       "      <td>0</td>\n",
       "      <td>0</td>\n",
       "      <td>34.3</td>\n",
       "      <td>0.00</td>\n",
       "      <td>0</td>\n",
       "      <td>0.00</td>\n",
       "      <td>26.3</td>\n",
       "    </tr>\n",
       "  </tbody>\n",
       "</table>\n",
       "</div>"
      ],
      "text/plain": [
       "            Available   Total  ANTENNA  SSMM   BELA    ISA  MERMAG  MERTIS  \\\n",
       "2024-05-07        387   18.35        0     0  13.47   0.00    4.88     0.0   \n",
       "2024-05-08        495  163.34        0     0  43.90  12.87    4.88    12.9   \n",
       "2024-05-09        495  163.34        0     0  43.90  12.87    4.88    12.9   \n",
       "2024-05-10        495  148.64        0     0  43.90  12.87    4.88     9.0   \n",
       "2024-05-11        495  105.82        0     0  13.47  12.87    4.88     9.0   \n",
       "\n",
       "            MGNS  MORE  PHEBUS  SERENA  SIMBIOSYS-STC  SIMBIOSYS-HRIC  \\\n",
       "2024-05-07     0     0       0     0.0           0.00               0   \n",
       "2024-05-08     5     0       0    37.2           6.18               0   \n",
       "2024-05-09     5     0       0    37.2           6.18               0   \n",
       "2024-05-10     5     0      24     2.4           6.18               0   \n",
       "2024-05-11     5     0       0    34.3           0.00               0   \n",
       "\n",
       "            SIMBIOSYS-VIHI  MIXS-SIXS  \n",
       "2024-05-07            0.00        0.0  \n",
       "2024-05-08           11.21       29.2  \n",
       "2024-05-09           11.21       29.2  \n",
       "2024-05-10           11.21       29.2  \n",
       "2024-05-11            0.00       26.3  "
      ]
     },
     "execution_count": 192,
     "metadata": {},
     "output_type": "execute_result"
    }
   ],
   "source": [
    "power_usage.head()"
   ]
  },
  {
   "cell_type": "markdown",
   "metadata": {},
   "source": [
    "###Plotting\n",
    "\n",
    "The common python plotting library is **Matplotlib**. It is powerful and flexible and has for a long time been the main python plotting library."
   ]
  },
  {
   "cell_type": "code",
   "execution_count": null,
   "metadata": {
    "collapsed": true
   },
   "outputs": [],
   "source": []
  },
  {
   "cell_type": "code",
   "execution_count": 193,
   "metadata": {
    "collapsed": false
   },
   "outputs": [
    {
     "data": {
      "image/png": "[encoded data removed]",
      "text/plain": [
       "<matplotlib.figure.Figure at 0x11c8ab910>"
      ]
     },
     "metadata": {},
     "output_type": "display_data"
    }
   ],
   "source": [
    "power_usage.data[['Available', 'Total', 'MERTIS']].plot(title='Matplot Plotting Demo', grid=True);"
   ]
  },
  {
   "cell_type": "markdown",
   "metadata": {
    "slideshow": {
     "slide_type": "skip"
    }
   },
   "source": [
    "We can slice the data and spread the results across a number of subplots. "
   ]
  },
  {
   "cell_type": "code",
   "execution_count": 194,
   "metadata": {
    "collapsed": false,
    "slideshow": {
     "slide_type": "skip"
    }
   },
   "outputs": [
    {
     "data": {
      "image/png": "[encoded data removed]",
      "text/plain": [
       "<matplotlib.figure.Figure at 0x11a717cd0>"
      ]
     },
     "metadata": {},
     "output_type": "display_data"
    }
   ],
   "source": [
    "power_usage.data[['Available', 'Total', 'MERTIS']].plot(title='Matplot Plotting Demo', grid=True, subplots=True);"
   ]
  },
  {
   "cell_type": "markdown",
   "metadata": {
    "slideshow": {
     "slide_type": "skip"
    }
   },
   "source": [
    "The **STATIC** possibilities are endless..."
   ]
  },
  {
   "cell_type": "code",
   "execution_count": 195,
   "metadata": {
    "collapsed": false,
    "slideshow": {
     "slide_type": "skip"
    }
   },
   "outputs": [
    {
     "data": {
      "image/png": "[encoded data removed]",
      "text/plain": [
       "<matplotlib.figure.Figure at 0x11a6ab610>"
      ]
     },
     "metadata": {},
     "output_type": "display_data"
    }
   ],
   "source": [
    "power_usage.data.plot(title='Matplot Plotting Demo', grid=True, subplots=True);"
   ]
  },
  {
   "cell_type": "markdown",
   "metadata": {},
   "source": [
    "##Plot.ly\n",
    "\n",
    "However, for increased interactivity, trace value flags and responsive zooming I'm using the Plotly online plotting library.\n",
    "\n",
    "**epys** has a simple yet flexible plotting API. You just have to run the **iplot** method on the **datatable object**  you want to plot."
   ]
  },
  {
   "cell_type": "code",
   "execution_count": 196,
   "metadata": {
    "collapsed": false,
    "slideshow": {
     "slide_type": "subslide"
    }
   },
   "outputs": [
    {
     "data": {
      "text/html": [
       "<iframe id=\"igraph\" scrolling=\"no\" style=\"border:none;\"seamless=\"seamless\" src=\"https://plot.ly/~johnnycakes79/1873\" height=\"525\" width=\"100%\"></iframe>"
      ],
      "text/plain": [
       "<IPython.core.display.HTML object>"
      ]
     },
     "metadata": {},
     "output_type": "display_data"
    }
   ],
   "source": [
    "power_usage.iplot()"
   ]
  },
  {
   "cell_type": "markdown",
   "metadata": {
    "slideshow": {
     "slide_type": "subslide"
    }
   },
   "source": [
    "Plot.ly does have some limitiation in the number of points it can plot and work with. \n",
    "\n",
    "This is due mainly to the fact that the data is processed on the Plot.ly servers and they don't want people sending Gbits of data and crashing their system.\n",
    "\n",
    "It can howerver deal with streaming data and that could be used to represent - as needed - larger data sets.\n",
    "\n",
    "There are alternatives to Plot.ly. \n",
    "\n",
    "Bokeh is an upcoming challenger. Google it to be impressed...\n",
    "\n",
    "But for what we are doing now, and compared to where we were before, **Plot.ly** is \"nice\".\n",
    "\n",
    "##Prototyping\n",
    "\n",
    "One of the great advantages of the Notebook is in prototyping code. \n",
    "\n",
    "You can start by running each command in a single, isolated cell; later group the commands together in the functions within the Notebook; and if everything works as you expect later move the functions into external importable libraries.\n",
    "\n",
    "Define Perihelion Seasons based on the power restrictions. We do this manually here but it could be easily built from the power budget file."
   ]
  },
  {
   "cell_type": "code",
   "execution_count": 197,
   "metadata": {
    "collapsed": true
   },
   "outputs": [],
   "source": [
    "# these ranges are 1 day (each end) bigger than the power restricted periods.\n",
    "perihelia = {'1' : (dt( 2024,  6,  1, 19, 18), dt( 2024,  6, 25, 17, 18)),\n",
    "                   '2' : (dt( 2024,  8, 28, 18, 18), dt( 2024,  9, 21, 16, 48)),\n",
    "                   '3' : (dt( 2024, 11, 24, 17, 48), dt( 2024, 12, 18, 15, 48)),\n",
    "                   '4' : (dt( 2025,  2, 21, 16, 48), dt( 2025,  3, 17, 15, 18)),\n",
    "                   '5' : (dt( 2025,  5, 19, 16, 18), dt( 2025,  6,  9, 21, 18))}"
   ]
  },
  {
   "cell_type": "markdown",
   "metadata": {
    "slideshow": {
     "slide_type": "-"
    }
   },
   "source": [
    "Define a mini-function for plotting the perihelia only."
   ]
  },
  {
   "cell_type": "code",
   "execution_count": 198,
   "metadata": {
    "collapsed": false
   },
   "outputs": [],
   "source": [
    "def periplot(perihelion):\n",
    "    power_usage.iplot(limits = perihelia[str(perihelion)], \n",
    "                                  y_title='Power [W]', \n",
    "                                  title='MPO Available Power and Instrument Consumption<br>Perhelion {}'.format(str(perihelion)))"
   ]
  },
  {
   "cell_type": "markdown",
   "metadata": {
    "slideshow": {
     "slide_type": "subslide"
    }
   },
   "source": [
    "Here's a close-up of the power situation around **Perihelion 1: 2024-6-1, 19:18** _to_ **2024-6-25, 17:18**  "
   ]
  },
  {
   "cell_type": "code",
   "execution_count": 199,
   "metadata": {
    "collapsed": false,
    "slideshow": {
     "slide_type": "-"
    }
   },
   "outputs": [
    {
     "data": {
      "text/html": [
       "<iframe id=\"igraph\" scrolling=\"no\" style=\"border:none;\"seamless=\"seamless\" src=\"https://plot.ly/~johnnycakes79/1875\" height=\"525\" width=\"100%\"></iframe>"
      ],
      "text/plain": [
       "<IPython.core.display.HTML object>"
      ]
     },
     "metadata": {},
     "output_type": "display_data"
    }
   ],
   "source": [
    "periplot(1)"
   ]
  },
  {
   "cell_type": "code",
   "execution_count": 200,
   "metadata": {
    "collapsed": false,
    "slideshow": {
     "slide_type": "skip"
    }
   },
   "outputs": [
    {
     "data": {
      "text/html": [
       "<iframe id=\"igraph\" scrolling=\"no\" style=\"border:none;\"seamless=\"seamless\" src=\"https://plot.ly/~johnnycakes79/1877\" height=\"525\" width=\"100%\"></iframe>"
      ],
      "text/plain": [
       "<IPython.core.display.HTML object>"
      ]
     },
     "metadata": {},
     "output_type": "display_data"
    }
   ],
   "source": [
    "power_usage.select(['Available', 'ANTENNA']).iplot(limits = perihelia['2'], y_title='Power [W]', title='MPO Available Power and Antenna Consumption<br>Perhelion 2')"
   ]
  },
  {
   "cell_type": "markdown",
   "metadata": {
    "slideshow": {
     "slide_type": "subslide"
    }
   },
   "source": [
    "Of course you can only plot seasons you have data for..."
   ]
  },
  {
   "cell_type": "code",
   "execution_count": 201,
   "metadata": {
    "collapsed": false,
    "slideshow": {
     "slide_type": "-"
    }
   },
   "outputs": [
    {
     "name": "stdout",
     "output_type": "stream",
     "text": [
      "OOOPS: Your requested range appears to be outside the range of the data set:\n",
      "data set > 2024-05-07 00:00:00 to 2025-05-07 00:00:00\n",
      "limits     > 2025-05-19 16:18:00 to 2025-06-09 21:18:00\n"
     ]
    }
   ],
   "source": [
    "periplot(5)"
   ]
  },
  {
   "cell_type": "markdown",
   "metadata": {},
   "source": [
    "##Save the Table Objects\n",
    "\n",
    "In Python objects can be saved 'as-are' using something called \"pickling\"."
   ]
  },
  {
   "cell_type": "code",
   "execution_count": 202,
   "metadata": {
    "collapsed": false
   },
   "outputs": [],
   "source": [
    "pickle.dump( power_usage, open( \"pickles/power_usage.p\", \"wb\" ) )"
   ]
  },
  {
   "cell_type": "markdown",
   "metadata": {},
   "source": [
    "Pickling saves the object in a compressed  semi-binary format that can later be <b>quickly</b> re-loaded.\n",
    "\n",
    "If we do a test to see how long this reload takes compared to the original reading-in of the file..."
   ]
  },
  {
   "cell_type": "code",
   "execution_count": 203,
   "metadata": {
    "collapsed": false
   },
   "outputs": [
    {
     "name": "stdout",
     "output_type": "stream",
     "text": [
      "100 loops, best of 3: 15.7 ms per loop\n"
     ]
    }
   ],
   "source": [
    "%timeit test_df = pickle.load( open( \"pickles/power_usage.p\", \"rb\" ) )"
   ]
  },
  {
   "cell_type": "code",
   "execution_count": 204,
   "metadata": {
    "collapsed": false
   },
   "outputs": [
    {
     "name": "stdout",
     "output_type": "stream",
     "text": [
      "12 redundant lines removed\n",
      "12 redundant lines removed\n",
      "12 redundant lines removed\n",
      "12 redundant lines removed\n",
      "12 redundant lines removed\n",
      "12 redundant lines removed\n",
      "12 redundant lines removed\n",
      "12 redundant lines removed\n",
      "12 redundant lines removed\n",
      "12 redundant lines removed\n",
      "12 redundant lines removed\n",
      "12 redundant lines removed\n",
      "12 redundant lines removed\n",
      "12 redundant lines removed\n",
      "12 redundant lines removed\n",
      "12 redundant lines removed\n",
      "12 redundant lines removed\n",
      "12 redundant lines removed\n",
      "12 redundant lines removed\n",
      "12 redundant lines removed\n",
      "12 redundant lines removed\n",
      "12 redundant lines removed\n",
      "12 redundant lines removed\n",
      "12 redundant lines removed\n",
      "12 redundant lines removed\n",
      "12 redundant lines removed\n",
      "12 redundant lines removed\n",
      "12 redundant lines removed\n",
      "12 redundant lines removed\n",
      "12 redundant lines removed\n",
      "12 redundant lines removed\n",
      "12 redundant lines removed\n",
      "12 redundant lines removed\n",
      "12 redundant lines removed\n",
      "12 redundant lines removed\n",
      "12 redundant lines removed\n",
      "12 redundant lines removed\n",
      "12 redundant lines removed\n",
      "12 redundant lines removed\n",
      "12 redundant lines removed\n",
      "12 redundant lines removed\n",
      "10 loops, best of 3: 79.5 ms per loop\n"
     ]
    }
   ],
   "source": [
    "%timeit test_df2 = epys.powertable(power_avg_file)"
   ]
  },
  {
   "cell_type": "markdown",
   "metadata": {},
   "source": [
    "While the difference for small, low-res simulation is small... we see the difference for these large, hi-res files is a factor of 25...\n",
    "\n",
    "... and remember that the re-loaded pickle will include any post-processing done on the original dataframe, such as merging it with the power budget data."
   ]
  },
  {
   "cell_type": "markdown",
   "metadata": {},
   "source": [
    "## Data Rate Analysis\n",
    "\n",
    "To read the average data rate file output by EPS we define an instance of the **datatable** class."
   ]
  },
  {
   "cell_type": "code",
   "execution_count": 205,
   "metadata": {
    "collapsed": false
   },
   "outputs": [],
   "source": [
    "data_rate_avg = epys.datatable(data_rate_avg_file)"
   ]
  },
  {
   "cell_type": "markdown",
   "metadata": {},
   "source": [
    "If we look at the head of the resulting dataframe we see some characteristics that were not present in the power table.\n",
    "\n",
    "It has multi-level index. And an additional column showing the data volume per timestep has been generated for each instrument."
   ]
  },
  {
   "cell_type": "code",
   "execution_count": 206,
   "metadata": {
    "collapsed": false,
    "slideshow": {
     "slide_type": "-"
    }
   },
   "outputs": [
    {
     "data": {
      "text/html": [
       "<div>\n",
       "<table border=\"1\" class=\"dataframe\">\n",
       "  <thead>\n",
       "    <tr>\n",
       "      <th></th>\n",
       "      <th colspan=\"3\" halign=\"left\">ANTENNA</th>\n",
       "      <th colspan=\"5\" halign=\"left\">BELA</th>\n",
       "      <th colspan=\"5\" halign=\"left\">ISA</th>\n",
       "      <th colspan=\"5\" halign=\"left\">MERMAG</th>\n",
       "      <th colspan=\"5\" halign=\"left\">MERTIS</th>\n",
       "      <th colspan=\"5\" halign=\"left\">MGNS</th>\n",
       "      <th colspan=\"5\" halign=\"left\">MIXS-SIXS</th>\n",
       "      <th colspan=\"5\" halign=\"left\">MORE</th>\n",
       "      <th colspan=\"5\" halign=\"left\">PHEBUS</th>\n",
       "      <th colspan=\"5\" halign=\"left\">SERENA</th>\n",
       "      <th colspan=\"5\" halign=\"left\">SIMBIOSYS-HRIC</th>\n",
       "      <th colspan=\"5\" halign=\"left\">SIMBIOSYS-STC</th>\n",
       "      <th colspan=\"5\" halign=\"left\">SIMBIOSYS-VIHI</th>\n",
       "      <th colspan=\"3\" halign=\"left\">SSMM</th>\n",
       "    </tr>\n",
       "    <tr>\n",
       "      <th></th>\n",
       "      <th>Accum</th>\n",
       "      <th>Downlink</th>\n",
       "      <th>Volume</th>\n",
       "      <th>Accum</th>\n",
       "      <th>Download</th>\n",
       "      <th>Memory</th>\n",
       "      <th>Upload</th>\n",
       "      <th>Volume</th>\n",
       "      <th>Accum</th>\n",
       "      <th>Download</th>\n",
       "      <th>Memory</th>\n",
       "      <th>Upload</th>\n",
       "      <th>Volume</th>\n",
       "      <th>Accum</th>\n",
       "      <th>Download</th>\n",
       "      <th>Memory</th>\n",
       "      <th>Upload</th>\n",
       "      <th>Volume</th>\n",
       "      <th>Accum</th>\n",
       "      <th>Download</th>\n",
       "      <th>Memory</th>\n",
       "      <th>Upload</th>\n",
       "      <th>Volume</th>\n",
       "      <th>Accum</th>\n",
       "      <th>Download</th>\n",
       "      <th>Memory</th>\n",
       "      <th>Upload</th>\n",
       "      <th>Volume</th>\n",
       "      <th>Accum</th>\n",
       "      <th>Download</th>\n",
       "      <th>Memory</th>\n",
       "      <th>Upload</th>\n",
       "      <th>Volume</th>\n",
       "      <th>Accum</th>\n",
       "      <th>Download</th>\n",
       "      <th>Memory</th>\n",
       "      <th>Upload</th>\n",
       "      <th>Volume</th>\n",
       "      <th>Accum</th>\n",
       "      <th>Download</th>\n",
       "      <th>Memory</th>\n",
       "      <th>Upload</th>\n",
       "      <th>Volume</th>\n",
       "      <th>Accum</th>\n",
       "      <th>Download</th>\n",
       "      <th>Memory</th>\n",
       "      <th>Upload</th>\n",
       "      <th>Volume</th>\n",
       "      <th>Accum</th>\n",
       "      <th>Download</th>\n",
       "      <th>Memory</th>\n",
       "      <th>Upload</th>\n",
       "      <th>Volume</th>\n",
       "      <th>Accum</th>\n",
       "      <th>Download</th>\n",
       "      <th>Memory</th>\n",
       "      <th>Upload</th>\n",
       "      <th>Volume</th>\n",
       "      <th>Accum</th>\n",
       "      <th>Download</th>\n",
       "      <th>Memory</th>\n",
       "      <th>Upload</th>\n",
       "      <th>Volume</th>\n",
       "      <th>Accum</th>\n",
       "      <th>Memory</th>\n",
       "      <th>Volume</th>\n",
       "    </tr>\n",
       "    <tr>\n",
       "      <th></th>\n",
       "      <th>Gbit</th>\n",
       "      <th>kbit/s</th>\n",
       "      <th>Gbit</th>\n",
       "      <th>Gbit</th>\n",
       "      <th>kbit/s</th>\n",
       "      <th>Gbit</th>\n",
       "      <th>kbit/s</th>\n",
       "      <th>Gbit</th>\n",
       "      <th>Gbit</th>\n",
       "      <th>kbit/s</th>\n",
       "      <th>Gbit</th>\n",
       "      <th>kbit/s</th>\n",
       "      <th>Gbit</th>\n",
       "      <th>Gbit</th>\n",
       "      <th>kbit/s</th>\n",
       "      <th>Gbit</th>\n",
       "      <th>kbit/s</th>\n",
       "      <th>Gbit</th>\n",
       "      <th>Gbit</th>\n",
       "      <th>kbit/s</th>\n",
       "      <th>Gbit</th>\n",
       "      <th>kbit/s</th>\n",
       "      <th>Gbit</th>\n",
       "      <th>Gbit</th>\n",
       "      <th>kbit/s</th>\n",
       "      <th>Gbit</th>\n",
       "      <th>kbit/s</th>\n",
       "      <th>Gbit</th>\n",
       "      <th>Gbit</th>\n",
       "      <th>kbit/s</th>\n",
       "      <th>Gbit</th>\n",
       "      <th>kbit/s</th>\n",
       "      <th>Gbit</th>\n",
       "      <th>Gbit</th>\n",
       "      <th>kbit/s</th>\n",
       "      <th>Gbit</th>\n",
       "      <th>kbit/s</th>\n",
       "      <th>Gbit</th>\n",
       "      <th>Gbit</th>\n",
       "      <th>kbit/s</th>\n",
       "      <th>Gbit</th>\n",
       "      <th>kbit/s</th>\n",
       "      <th>Gbit</th>\n",
       "      <th>Gbit</th>\n",
       "      <th>kbit/s</th>\n",
       "      <th>Gbit</th>\n",
       "      <th>kbit/s</th>\n",
       "      <th>Gbit</th>\n",
       "      <th>Gbit</th>\n",
       "      <th>kbit/s</th>\n",
       "      <th>Gbit</th>\n",
       "      <th>kbit/s</th>\n",
       "      <th>Gbit</th>\n",
       "      <th>Gbit</th>\n",
       "      <th>kbit/s</th>\n",
       "      <th>Gbit</th>\n",
       "      <th>kbit/s</th>\n",
       "      <th>Gbit</th>\n",
       "      <th>Gbit</th>\n",
       "      <th>kbit/s</th>\n",
       "      <th>Gbit</th>\n",
       "      <th>kbit/s</th>\n",
       "      <th>Gbit</th>\n",
       "      <th>Gbit</th>\n",
       "      <th>Gbit</th>\n",
       "      <th>Gbit</th>\n",
       "    </tr>\n",
       "    <tr>\n",
       "      <th>Date</th>\n",
       "      <th></th>\n",
       "      <th></th>\n",
       "      <th></th>\n",
       "      <th></th>\n",
       "      <th></th>\n",
       "      <th></th>\n",
       "      <th></th>\n",
       "      <th></th>\n",
       "      <th></th>\n",
       "      <th></th>\n",
       "      <th></th>\n",
       "      <th></th>\n",
       "      <th></th>\n",
       "      <th></th>\n",
       "      <th></th>\n",
       "      <th></th>\n",
       "      <th></th>\n",
       "      <th></th>\n",
       "      <th></th>\n",
       "      <th></th>\n",
       "      <th></th>\n",
       "      <th></th>\n",
       "      <th></th>\n",
       "      <th></th>\n",
       "      <th></th>\n",
       "      <th></th>\n",
       "      <th></th>\n",
       "      <th></th>\n",
       "      <th></th>\n",
       "      <th></th>\n",
       "      <th></th>\n",
       "      <th></th>\n",
       "      <th></th>\n",
       "      <th></th>\n",
       "      <th></th>\n",
       "      <th></th>\n",
       "      <th></th>\n",
       "      <th></th>\n",
       "      <th></th>\n",
       "      <th></th>\n",
       "      <th></th>\n",
       "      <th></th>\n",
       "      <th></th>\n",
       "      <th></th>\n",
       "      <th></th>\n",
       "      <th></th>\n",
       "      <th></th>\n",
       "      <th></th>\n",
       "      <th></th>\n",
       "      <th></th>\n",
       "      <th></th>\n",
       "      <th></th>\n",
       "      <th></th>\n",
       "      <th></th>\n",
       "      <th></th>\n",
       "      <th></th>\n",
       "      <th></th>\n",
       "      <th></th>\n",
       "      <th></th>\n",
       "      <th></th>\n",
       "      <th></th>\n",
       "      <th></th>\n",
       "      <th></th>\n",
       "      <th></th>\n",
       "      <th></th>\n",
       "      <th></th>\n",
       "    </tr>\n",
       "  </thead>\n",
       "  <tbody>\n",
       "    <tr>\n",
       "      <th>2024-05-07</th>\n",
       "      <td>0.000000</td>\n",
       "      <td>0</td>\n",
       "      <td>0.000000</td>\n",
       "      <td>0.000000</td>\n",
       "      <td>0</td>\n",
       "      <td>0</td>\n",
       "      <td>0.099</td>\n",
       "      <td>0.000000</td>\n",
       "      <td>0.000000</td>\n",
       "      <td>0</td>\n",
       "      <td>0</td>\n",
       "      <td>0.000</td>\n",
       "      <td>0.000000</td>\n",
       "      <td>0.000000</td>\n",
       "      <td>0</td>\n",
       "      <td>0</td>\n",
       "      <td>0.358</td>\n",
       "      <td>0.000000</td>\n",
       "      <td>0.000000</td>\n",
       "      <td>0</td>\n",
       "      <td>0</td>\n",
       "      <td>0.0</td>\n",
       "      <td>0.000000</td>\n",
       "      <td>0.000000</td>\n",
       "      <td>0</td>\n",
       "      <td>0</td>\n",
       "      <td>0.0000</td>\n",
       "      <td>0.000000</td>\n",
       "      <td>0.000000</td>\n",
       "      <td>0</td>\n",
       "      <td>0</td>\n",
       "      <td>0.00</td>\n",
       "      <td>0.000000</td>\n",
       "      <td>0</td>\n",
       "      <td>0</td>\n",
       "      <td>0</td>\n",
       "      <td>0</td>\n",
       "      <td>0</td>\n",
       "      <td>0.000000</td>\n",
       "      <td>0</td>\n",
       "      <td>0</td>\n",
       "      <td>0.000</td>\n",
       "      <td>0.000000</td>\n",
       "      <td>0.000000</td>\n",
       "      <td>0</td>\n",
       "      <td>0</td>\n",
       "      <td>0.000</td>\n",
       "      <td>0.000000</td>\n",
       "      <td>0</td>\n",
       "      <td>0</td>\n",
       "      <td>0</td>\n",
       "      <td>0</td>\n",
       "      <td>0</td>\n",
       "      <td>0.000000</td>\n",
       "      <td>0</td>\n",
       "      <td>0</td>\n",
       "      <td>0.00</td>\n",
       "      <td>0.000000</td>\n",
       "      <td>0.00000</td>\n",
       "      <td>0</td>\n",
       "      <td>0</td>\n",
       "      <td>0</td>\n",
       "      <td>0.00000</td>\n",
       "      <td>0.000000</td>\n",
       "      <td>0.000000</td>\n",
       "      <td>0.000000</td>\n",
       "    </tr>\n",
       "    <tr>\n",
       "      <th>2024-05-08</th>\n",
       "      <td>7.438953</td>\n",
       "      <td>0</td>\n",
       "      <td>7.438953</td>\n",
       "      <td>0.365467</td>\n",
       "      <td>0</td>\n",
       "      <td>0</td>\n",
       "      <td>9.888</td>\n",
       "      <td>0.365467</td>\n",
       "      <td>0.140525</td>\n",
       "      <td>0</td>\n",
       "      <td>0</td>\n",
       "      <td>1.734</td>\n",
       "      <td>0.140525</td>\n",
       "      <td>0.030931</td>\n",
       "      <td>0</td>\n",
       "      <td>0</td>\n",
       "      <td>0.358</td>\n",
       "      <td>0.030931</td>\n",
       "      <td>3.885424</td>\n",
       "      <td>0</td>\n",
       "      <td>0</td>\n",
       "      <td>118.0</td>\n",
       "      <td>3.885424</td>\n",
       "      <td>0.294034</td>\n",
       "      <td>0</td>\n",
       "      <td>0</td>\n",
       "      <td>3.4384</td>\n",
       "      <td>0.294034</td>\n",
       "      <td>0.787254</td>\n",
       "      <td>0</td>\n",
       "      <td>0</td>\n",
       "      <td>9.29</td>\n",
       "      <td>0.787254</td>\n",
       "      <td>0</td>\n",
       "      <td>0</td>\n",
       "      <td>0</td>\n",
       "      <td>0</td>\n",
       "      <td>0</td>\n",
       "      <td>0.241009</td>\n",
       "      <td>0</td>\n",
       "      <td>0</td>\n",
       "      <td>0.000</td>\n",
       "      <td>0.241009</td>\n",
       "      <td>0.408729</td>\n",
       "      <td>0</td>\n",
       "      <td>0</td>\n",
       "      <td>4.812</td>\n",
       "      <td>0.408729</td>\n",
       "      <td>0</td>\n",
       "      <td>0</td>\n",
       "      <td>0</td>\n",
       "      <td>0</td>\n",
       "      <td>0</td>\n",
       "      <td>2.000013</td>\n",
       "      <td>0</td>\n",
       "      <td>0</td>\n",
       "      <td>40.42</td>\n",
       "      <td>2.000013</td>\n",
       "      <td>3.71846</td>\n",
       "      <td>0</td>\n",
       "      <td>0</td>\n",
       "      <td>126</td>\n",
       "      <td>3.71846</td>\n",
       "      <td>7.438953</td>\n",
       "      <td>4.432893</td>\n",
       "      <td>7.438953</td>\n",
       "    </tr>\n",
       "    <tr>\n",
       "      <th>2024-05-09</th>\n",
       "      <td>16.418688</td>\n",
       "      <td>0</td>\n",
       "      <td>8.979735</td>\n",
       "      <td>0.737165</td>\n",
       "      <td>0</td>\n",
       "      <td>0</td>\n",
       "      <td>5.568</td>\n",
       "      <td>0.371697</td>\n",
       "      <td>0.285717</td>\n",
       "      <td>0</td>\n",
       "      <td>0</td>\n",
       "      <td>1.734</td>\n",
       "      <td>0.145192</td>\n",
       "      <td>0.061862</td>\n",
       "      <td>0</td>\n",
       "      <td>0</td>\n",
       "      <td>0.358</td>\n",
       "      <td>0.030931</td>\n",
       "      <td>8.008112</td>\n",
       "      <td>0</td>\n",
       "      <td>0</td>\n",
       "      <td>240.0</td>\n",
       "      <td>4.122688</td>\n",
       "      <td>0.591112</td>\n",
       "      <td>0</td>\n",
       "      <td>0</td>\n",
       "      <td>3.4384</td>\n",
       "      <td>0.297078</td>\n",
       "      <td>1.787013</td>\n",
       "      <td>0</td>\n",
       "      <td>0</td>\n",
       "      <td>9.29</td>\n",
       "      <td>0.999759</td>\n",
       "      <td>0</td>\n",
       "      <td>0</td>\n",
       "      <td>0</td>\n",
       "      <td>0</td>\n",
       "      <td>0</td>\n",
       "      <td>0.511508</td>\n",
       "      <td>0</td>\n",
       "      <td>0</td>\n",
       "      <td>0.000</td>\n",
       "      <td>0.270500</td>\n",
       "      <td>0.844503</td>\n",
       "      <td>0</td>\n",
       "      <td>0</td>\n",
       "      <td>4.812</td>\n",
       "      <td>0.435775</td>\n",
       "      <td>0</td>\n",
       "      <td>0</td>\n",
       "      <td>0</td>\n",
       "      <td>0</td>\n",
       "      <td>0</td>\n",
       "      <td>4.348991</td>\n",
       "      <td>0</td>\n",
       "      <td>0</td>\n",
       "      <td>133.34</td>\n",
       "      <td>2.348978</td>\n",
       "      <td>7.94770</td>\n",
       "      <td>0</td>\n",
       "      <td>0</td>\n",
       "      <td>102</td>\n",
       "      <td>4.22924</td>\n",
       "      <td>16.418688</td>\n",
       "      <td>8.704995</td>\n",
       "      <td>8.979735</td>\n",
       "    </tr>\n",
       "    <tr>\n",
       "      <th>2024-05-10</th>\n",
       "      <td>25.371039</td>\n",
       "      <td>0</td>\n",
       "      <td>8.952351</td>\n",
       "      <td>1.109660</td>\n",
       "      <td>0</td>\n",
       "      <td>0</td>\n",
       "      <td>12.405</td>\n",
       "      <td>0.372495</td>\n",
       "      <td>0.430909</td>\n",
       "      <td>0</td>\n",
       "      <td>0</td>\n",
       "      <td>1.734</td>\n",
       "      <td>0.145192</td>\n",
       "      <td>0.092794</td>\n",
       "      <td>0</td>\n",
       "      <td>0</td>\n",
       "      <td>0.358</td>\n",
       "      <td>0.030931</td>\n",
       "      <td>12.004162</td>\n",
       "      <td>0</td>\n",
       "      <td>0</td>\n",
       "      <td>0.4</td>\n",
       "      <td>3.996050</td>\n",
       "      <td>0.888190</td>\n",
       "      <td>0</td>\n",
       "      <td>0</td>\n",
       "      <td>3.4384</td>\n",
       "      <td>0.297078</td>\n",
       "      <td>2.577045</td>\n",
       "      <td>0</td>\n",
       "      <td>0</td>\n",
       "      <td>9.29</td>\n",
       "      <td>0.790032</td>\n",
       "      <td>0</td>\n",
       "      <td>0</td>\n",
       "      <td>0</td>\n",
       "      <td>0</td>\n",
       "      <td>0</td>\n",
       "      <td>0.750551</td>\n",
       "      <td>0</td>\n",
       "      <td>0</td>\n",
       "      <td>16.384</td>\n",
       "      <td>0.239043</td>\n",
       "      <td>1.288482</td>\n",
       "      <td>0</td>\n",
       "      <td>0</td>\n",
       "      <td>0.000</td>\n",
       "      <td>0.443979</td>\n",
       "      <td>0</td>\n",
       "      <td>0</td>\n",
       "      <td>0</td>\n",
       "      <td>0</td>\n",
       "      <td>0</td>\n",
       "      <td>6.624967</td>\n",
       "      <td>0</td>\n",
       "      <td>0</td>\n",
       "      <td>15.60</td>\n",
       "      <td>2.275975</td>\n",
       "      <td>12.18964</td>\n",
       "      <td>0</td>\n",
       "      <td>0</td>\n",
       "      <td>126</td>\n",
       "      <td>4.24194</td>\n",
       "      <td>25.371039</td>\n",
       "      <td>12.585360</td>\n",
       "      <td>8.952351</td>\n",
       "    </tr>\n",
       "    <tr>\n",
       "      <th>2024-05-11</th>\n",
       "      <td>34.208517</td>\n",
       "      <td>0</td>\n",
       "      <td>8.837478</td>\n",
       "      <td>1.479332</td>\n",
       "      <td>0</td>\n",
       "      <td>0</td>\n",
       "      <td>0.134</td>\n",
       "      <td>0.369672</td>\n",
       "      <td>0.575175</td>\n",
       "      <td>0</td>\n",
       "      <td>0</td>\n",
       "      <td>1.734</td>\n",
       "      <td>0.144266</td>\n",
       "      <td>0.123725</td>\n",
       "      <td>0</td>\n",
       "      <td>0</td>\n",
       "      <td>0.358</td>\n",
       "      <td>0.030931</td>\n",
       "      <td>15.855224</td>\n",
       "      <td>0</td>\n",
       "      <td>0</td>\n",
       "      <td>0.4</td>\n",
       "      <td>3.851062</td>\n",
       "      <td>1.185267</td>\n",
       "      <td>0</td>\n",
       "      <td>0</td>\n",
       "      <td>3.4384</td>\n",
       "      <td>0.297078</td>\n",
       "      <td>3.366793</td>\n",
       "      <td>0</td>\n",
       "      <td>0</td>\n",
       "      <td>9.00</td>\n",
       "      <td>0.789748</td>\n",
       "      <td>0</td>\n",
       "      <td>0</td>\n",
       "      <td>0</td>\n",
       "      <td>0</td>\n",
       "      <td>0</td>\n",
       "      <td>0.948961</td>\n",
       "      <td>0</td>\n",
       "      <td>0</td>\n",
       "      <td>0.000</td>\n",
       "      <td>0.198410</td>\n",
       "      <td>1.741756</td>\n",
       "      <td>0</td>\n",
       "      <td>0</td>\n",
       "      <td>4.130</td>\n",
       "      <td>0.453274</td>\n",
       "      <td>0</td>\n",
       "      <td>0</td>\n",
       "      <td>0</td>\n",
       "      <td>0</td>\n",
       "      <td>0</td>\n",
       "      <td>8.831366</td>\n",
       "      <td>0</td>\n",
       "      <td>0</td>\n",
       "      <td>0.00</td>\n",
       "      <td>2.206399</td>\n",
       "      <td>16.28744</td>\n",
       "      <td>0</td>\n",
       "      <td>0</td>\n",
       "      <td>0</td>\n",
       "      <td>4.09780</td>\n",
       "      <td>34.208517</td>\n",
       "      <td>16.186522</td>\n",
       "      <td>8.837478</td>\n",
       "    </tr>\n",
       "  </tbody>\n",
       "</table>\n",
       "</div>"
      ],
      "text/plain": [
       "              ANTENNA                         BELA                          \\\n",
       "                Accum Downlink    Volume     Accum Download Memory  Upload   \n",
       "                 Gbit   kbit/s      Gbit      Gbit   kbit/s   Gbit  kbit/s   \n",
       "Date                                                                         \n",
       "2024-05-07   0.000000        0  0.000000  0.000000        0      0   0.099   \n",
       "2024-05-08   7.438953        0  7.438953  0.365467        0      0   9.888   \n",
       "2024-05-09  16.418688        0  8.979735  0.737165        0      0   5.568   \n",
       "2024-05-10  25.371039        0  8.952351  1.109660        0      0  12.405   \n",
       "2024-05-11  34.208517        0  8.837478  1.479332        0      0   0.134   \n",
       "\n",
       "                           ISA                                     MERMAG  \\\n",
       "              Volume     Accum Download Memory Upload    Volume     Accum   \n",
       "                Gbit      Gbit   kbit/s   Gbit kbit/s      Gbit      Gbit   \n",
       "Date                                                                        \n",
       "2024-05-07  0.000000  0.000000        0      0  0.000  0.000000  0.000000   \n",
       "2024-05-08  0.365467  0.140525        0      0  1.734  0.140525  0.030931   \n",
       "2024-05-09  0.371697  0.285717        0      0  1.734  0.145192  0.061862   \n",
       "2024-05-10  0.372495  0.430909        0      0  1.734  0.145192  0.092794   \n",
       "2024-05-11  0.369672  0.575175        0      0  1.734  0.144266  0.123725   \n",
       "\n",
       "                                                MERTIS                         \\\n",
       "           Download Memory Upload    Volume      Accum Download Memory Upload   \n",
       "             kbit/s   Gbit kbit/s      Gbit       Gbit   kbit/s   Gbit kbit/s   \n",
       "Date                                                                            \n",
       "2024-05-07        0      0  0.358  0.000000   0.000000        0      0    0.0   \n",
       "2024-05-08        0      0  0.358  0.030931   3.885424        0      0  118.0   \n",
       "2024-05-09        0      0  0.358  0.030931   8.008112        0      0  240.0   \n",
       "2024-05-10        0      0  0.358  0.030931  12.004162        0      0    0.4   \n",
       "2024-05-11        0      0  0.358  0.030931  15.855224        0      0    0.4   \n",
       "\n",
       "                          MGNS                                   MIXS-SIXS  \\\n",
       "              Volume     Accum Download Memory  Upload    Volume     Accum   \n",
       "                Gbit      Gbit   kbit/s   Gbit  kbit/s      Gbit      Gbit   \n",
       "Date                                                                         \n",
       "2024-05-07  0.000000  0.000000        0      0  0.0000  0.000000  0.000000   \n",
       "2024-05-08  3.885424  0.294034        0      0  3.4384  0.294034  0.787254   \n",
       "2024-05-09  4.122688  0.591112        0      0  3.4384  0.297078  1.787013   \n",
       "2024-05-10  3.996050  0.888190        0      0  3.4384  0.297078  2.577045   \n",
       "2024-05-11  3.851062  1.185267        0      0  3.4384  0.297078  3.366793   \n",
       "\n",
       "                                             MORE                         \\\n",
       "           Download Memory Upload    Volume Accum Download Memory Upload   \n",
       "             kbit/s   Gbit kbit/s      Gbit  Gbit   kbit/s   Gbit kbit/s   \n",
       "Date                                                                       \n",
       "2024-05-07        0      0   0.00  0.000000     0        0      0      0   \n",
       "2024-05-08        0      0   9.29  0.787254     0        0      0      0   \n",
       "2024-05-09        0      0   9.29  0.999759     0        0      0      0   \n",
       "2024-05-10        0      0   9.29  0.790032     0        0      0      0   \n",
       "2024-05-11        0      0   9.00  0.789748     0        0      0      0   \n",
       "\n",
       "                     PHEBUS                                      SERENA  \\\n",
       "           Volume     Accum Download Memory  Upload    Volume     Accum   \n",
       "             Gbit      Gbit   kbit/s   Gbit  kbit/s      Gbit      Gbit   \n",
       "Date                                                                      \n",
       "2024-05-07      0  0.000000        0      0   0.000  0.000000  0.000000   \n",
       "2024-05-08      0  0.241009        0      0   0.000  0.241009  0.408729   \n",
       "2024-05-09      0  0.511508        0      0   0.000  0.270500  0.844503   \n",
       "2024-05-10      0  0.750551        0      0  16.384  0.239043  1.288482   \n",
       "2024-05-11      0  0.948961        0      0   0.000  0.198410  1.741756   \n",
       "\n",
       "                                            SIMBIOSYS-HRIC                  \\\n",
       "           Download Memory Upload    Volume          Accum Download Memory   \n",
       "             kbit/s   Gbit kbit/s      Gbit           Gbit   kbit/s   Gbit   \n",
       "Date                                                                         \n",
       "2024-05-07        0      0  0.000  0.000000              0        0      0   \n",
       "2024-05-08        0      0  4.812  0.408729              0        0      0   \n",
       "2024-05-09        0      0  4.812  0.435775              0        0      0   \n",
       "2024-05-10        0      0  0.000  0.443979              0        0      0   \n",
       "2024-05-11        0      0  4.130  0.453274              0        0      0   \n",
       "\n",
       "                         SIMBIOSYS-STC                                    \\\n",
       "           Upload Volume         Accum Download Memory  Upload    Volume   \n",
       "           kbit/s   Gbit          Gbit   kbit/s   Gbit  kbit/s      Gbit   \n",
       "Date                                                                       \n",
       "2024-05-07      0      0      0.000000        0      0    0.00  0.000000   \n",
       "2024-05-08      0      0      2.000013        0      0   40.42  2.000013   \n",
       "2024-05-09      0      0      4.348991        0      0  133.34  2.348978   \n",
       "2024-05-10      0      0      6.624967        0      0   15.60  2.275975   \n",
       "2024-05-11      0      0      8.831366        0      0    0.00  2.206399   \n",
       "\n",
       "           SIMBIOSYS-VIHI                                       SSMM  \\\n",
       "                    Accum Download Memory Upload   Volume      Accum   \n",
       "                     Gbit   kbit/s   Gbit kbit/s     Gbit       Gbit   \n",
       "Date                                                                   \n",
       "2024-05-07        0.00000        0      0      0  0.00000   0.000000   \n",
       "2024-05-08        3.71846        0      0    126  3.71846   7.438953   \n",
       "2024-05-09        7.94770        0      0    102  4.22924  16.418688   \n",
       "2024-05-10       12.18964        0      0    126  4.24194  25.371039   \n",
       "2024-05-11       16.28744        0      0      0  4.09780  34.208517   \n",
       "\n",
       "                                 \n",
       "               Memory    Volume  \n",
       "                 Gbit      Gbit  \n",
       "Date                             \n",
       "2024-05-07   0.000000  0.000000  \n",
       "2024-05-08   4.432893  7.438953  \n",
       "2024-05-09   8.704995  8.979735  \n",
       "2024-05-10  12.585360  8.952351  \n",
       "2024-05-11  16.186522  8.837478  "
      ]
     },
     "execution_count": 206,
     "metadata": {},
     "output_type": "execute_result"
    }
   ],
   "source": [
    "data_rate_avg.head()"
   ]
  },
  {
   "cell_type": "markdown",
   "metadata": {},
   "source": [
    "This dataframe shows what was used by the instruments during the simulation but we would like to compare this to the available power.\n",
    "\n",
    "So we read in the downlink budget file by defining an instance of the top-level **epstable** class."
   ]
  },
  {
   "cell_type": "code",
   "execution_count": 207,
   "metadata": {
    "collapsed": false
   },
   "outputs": [],
   "source": [
    "downlink_budget = epys.epstable(downlink_budget_file)"
   ]
  },
  {
   "cell_type": "markdown",
   "metadata": {},
   "source": [
    "If we look at the head of this downlink budget table we can see that the column headings are not very informative. \n",
    "\n",
    "This is because there is no standard heading format for the downlink budget file."
   ]
  },
  {
   "cell_type": "code",
   "execution_count": 208,
   "metadata": {
    "collapsed": false
   },
   "outputs": [
    {
     "data": {
      "text/html": [
       "<div>\n",
       "<table border=\"1\" class=\"dataframe\">\n",
       "  <thead>\n",
       "    <tr style=\"text-align: right;\">\n",
       "      <th></th>\n",
       "      <th>1</th>\n",
       "      <th>2</th>\n",
       "      <th>3</th>\n",
       "      <th>4</th>\n",
       "      <th>5</th>\n",
       "      <th>6</th>\n",
       "    </tr>\n",
       "    <tr>\n",
       "      <th>date</th>\n",
       "      <th></th>\n",
       "      <th></th>\n",
       "      <th></th>\n",
       "      <th></th>\n",
       "      <th></th>\n",
       "      <th></th>\n",
       "    </tr>\n",
       "  </thead>\n",
       "  <tbody>\n",
       "    <tr>\n",
       "      <th>2024-04-30</th>\n",
       "      <td>174.1</td>\n",
       "      <td>261.1</td>\n",
       "      <td>435.2</td>\n",
       "      <td>174.1</td>\n",
       "      <td>261.1</td>\n",
       "      <td>435.2</td>\n",
       "    </tr>\n",
       "    <tr>\n",
       "      <th>2024-05-01</th>\n",
       "      <td>174.1</td>\n",
       "      <td>208.9</td>\n",
       "      <td>382.9</td>\n",
       "      <td>174.1</td>\n",
       "      <td>261.1</td>\n",
       "      <td>435.2</td>\n",
       "    </tr>\n",
       "    <tr>\n",
       "      <th>2024-05-02</th>\n",
       "      <td>174.1</td>\n",
       "      <td>208.9</td>\n",
       "      <td>382.9</td>\n",
       "      <td>130.5</td>\n",
       "      <td>208.9</td>\n",
       "      <td>339.4</td>\n",
       "    </tr>\n",
       "    <tr>\n",
       "      <th>2024-05-03</th>\n",
       "      <td>174.1</td>\n",
       "      <td>208.9</td>\n",
       "      <td>382.9</td>\n",
       "      <td>174.1</td>\n",
       "      <td>208.9</td>\n",
       "      <td>382.9</td>\n",
       "    </tr>\n",
       "    <tr>\n",
       "      <th>2024-05-04</th>\n",
       "      <td>130.5</td>\n",
       "      <td>208.9</td>\n",
       "      <td>339.4</td>\n",
       "      <td>130.5</td>\n",
       "      <td>261.1</td>\n",
       "      <td>391.6</td>\n",
       "    </tr>\n",
       "  </tbody>\n",
       "</table>\n",
       "</div>"
      ],
      "text/plain": [
       "                1      2      3      4      5      6\n",
       "date                                                \n",
       "2024-04-30  174.1  261.1  435.2  174.1  261.1  435.2\n",
       "2024-05-01  174.1  208.9  382.9  174.1  261.1  435.2\n",
       "2024-05-02  174.1  208.9  382.9  130.5  208.9  339.4\n",
       "2024-05-03  174.1  208.9  382.9  174.1  208.9  382.9\n",
       "2024-05-04  130.5  208.9  339.4  130.5  261.1  391.6"
      ]
     },
     "execution_count": 208,
     "metadata": {},
     "output_type": "execute_result"
    }
   ],
   "source": [
    "downlink_budget.head()"
   ]
  },
  {
   "cell_type": "markdown",
   "metadata": {
    "slideshow": {
     "slide_type": "subslide"
    }
   },
   "source": [
    "When we read in the file, the epstable read method created a header attribute as well as the data attribute seen above, and this we can examine."
   ]
  },
  {
   "cell_type": "code",
   "execution_count": 209,
   "metadata": {
    "collapsed": false
   },
   "outputs": [
    {
     "data": {
      "text/plain": [
       "{'- APM Speed Limitations': 'No (0)',\n",
       " '- Bit Rate limitation': 'Yes (348.1204 kbps)',\n",
       " '- Ground Station Availability': '95%',\n",
       " '- Reaction Wheel Offloading': 'No (0)',\n",
       " '- Solar Activity': 'Normal (1)',\n",
       " '- Solar Conjunctions': 'Yes',\n",
       " '- Turbo 1/2 for high bitrate': 'No (0)',\n",
       " 'Data Columns': 'CeX    CeK    CeB    MaX    MaK    MaB',\n",
       " 'Factors Considered': '',\n",
       " 'Factors NOT Considered': '',\n",
       " 'len': 14}"
      ]
     },
     "execution_count": 209,
     "metadata": {},
     "output_type": "execute_result"
    }
   ],
   "source": [
    "downlink_budget.header"
   ]
  },
  {
   "cell_type": "markdown",
   "metadata": {},
   "source": [
    "This header, because it is not standard, is not as informative as that of the data rate table, but it does have a 'Data Columns' entry and this we can parse and use to build a mutli-level index for the downlink budget table."
   ]
  },
  {
   "cell_type": "code",
   "execution_count": 210,
   "metadata": {
    "collapsed": false
   },
   "outputs": [],
   "source": [
    "channels = downlink_budget.header['Data Columns'].split()"
   ]
  },
  {
   "cell_type": "code",
   "execution_count": 211,
   "metadata": {
    "collapsed": false,
    "slideshow": {
     "slide_type": "-"
    }
   },
   "outputs": [],
   "source": [
    "arrays = [channels, ['Downlink' for x in channels], ['kbit/s' for x in channels]]"
   ]
  },
  {
   "cell_type": "code",
   "execution_count": 212,
   "metadata": {
    "collapsed": false
   },
   "outputs": [
    {
     "data": {
      "text/plain": [
       "[['CeX', 'CeK', 'CeB', 'MaX', 'MaK', 'MaB'],\n",
       " ['Downlink', 'Downlink', 'Downlink', 'Downlink', 'Downlink', 'Downlink'],\n",
       " ['kbit/s', 'kbit/s', 'kbit/s', 'kbit/s', 'kbit/s', 'kbit/s']]"
      ]
     },
     "execution_count": 212,
     "metadata": {},
     "output_type": "execute_result"
    }
   ],
   "source": [
    "arrays"
   ]
  },
  {
   "cell_type": "code",
   "execution_count": 213,
   "metadata": {
    "collapsed": false
   },
   "outputs": [],
   "source": [
    "downlink_budget.data.columns = pd.MultiIndex.from_arrays(arrays, names=('channel', 'type', 'unit'))"
   ]
  },
  {
   "cell_type": "markdown",
   "metadata": {
    "slideshow": {
     "slide_type": "subslide"
    }
   },
   "source": [
    "We now have a budget dataframe with a mutli-level index."
   ]
  },
  {
   "cell_type": "code",
   "execution_count": 214,
   "metadata": {
    "collapsed": false
   },
   "outputs": [
    {
     "data": {
      "text/html": [
       "<div>\n",
       "<table border=\"1\" class=\"dataframe\">\n",
       "  <thead>\n",
       "    <tr>\n",
       "      <th>channel</th>\n",
       "      <th>CeX</th>\n",
       "      <th>CeK</th>\n",
       "      <th>CeB</th>\n",
       "      <th>MaX</th>\n",
       "      <th>MaK</th>\n",
       "      <th>MaB</th>\n",
       "    </tr>\n",
       "    <tr>\n",
       "      <th>type</th>\n",
       "      <th>Downlink</th>\n",
       "      <th>Downlink</th>\n",
       "      <th>Downlink</th>\n",
       "      <th>Downlink</th>\n",
       "      <th>Downlink</th>\n",
       "      <th>Downlink</th>\n",
       "    </tr>\n",
       "    <tr>\n",
       "      <th>unit</th>\n",
       "      <th>kbit/s</th>\n",
       "      <th>kbit/s</th>\n",
       "      <th>kbit/s</th>\n",
       "      <th>kbit/s</th>\n",
       "      <th>kbit/s</th>\n",
       "      <th>kbit/s</th>\n",
       "    </tr>\n",
       "    <tr>\n",
       "      <th>date</th>\n",
       "      <th></th>\n",
       "      <th></th>\n",
       "      <th></th>\n",
       "      <th></th>\n",
       "      <th></th>\n",
       "      <th></th>\n",
       "    </tr>\n",
       "  </thead>\n",
       "  <tbody>\n",
       "    <tr>\n",
       "      <th>2024-04-30</th>\n",
       "      <td>174.1</td>\n",
       "      <td>261.1</td>\n",
       "      <td>435.2</td>\n",
       "      <td>174.1</td>\n",
       "      <td>261.1</td>\n",
       "      <td>435.2</td>\n",
       "    </tr>\n",
       "    <tr>\n",
       "      <th>2024-05-01</th>\n",
       "      <td>174.1</td>\n",
       "      <td>208.9</td>\n",
       "      <td>382.9</td>\n",
       "      <td>174.1</td>\n",
       "      <td>261.1</td>\n",
       "      <td>435.2</td>\n",
       "    </tr>\n",
       "    <tr>\n",
       "      <th>2024-05-02</th>\n",
       "      <td>174.1</td>\n",
       "      <td>208.9</td>\n",
       "      <td>382.9</td>\n",
       "      <td>130.5</td>\n",
       "      <td>208.9</td>\n",
       "      <td>339.4</td>\n",
       "    </tr>\n",
       "    <tr>\n",
       "      <th>2024-05-03</th>\n",
       "      <td>174.1</td>\n",
       "      <td>208.9</td>\n",
       "      <td>382.9</td>\n",
       "      <td>174.1</td>\n",
       "      <td>208.9</td>\n",
       "      <td>382.9</td>\n",
       "    </tr>\n",
       "    <tr>\n",
       "      <th>2024-05-04</th>\n",
       "      <td>130.5</td>\n",
       "      <td>208.9</td>\n",
       "      <td>339.4</td>\n",
       "      <td>130.5</td>\n",
       "      <td>261.1</td>\n",
       "      <td>391.6</td>\n",
       "    </tr>\n",
       "  </tbody>\n",
       "</table>\n",
       "</div>"
      ],
      "text/plain": [
       "channel         CeX      CeK      CeB      MaX      MaK      MaB\n",
       "type       Downlink Downlink Downlink Downlink Downlink Downlink\n",
       "unit         kbit/s   kbit/s   kbit/s   kbit/s   kbit/s   kbit/s\n",
       "date                                                            \n",
       "2024-04-30    174.1    261.1    435.2    174.1    261.1    435.2\n",
       "2024-05-01    174.1    208.9    382.9    174.1    261.1    435.2\n",
       "2024-05-02    174.1    208.9    382.9    130.5    208.9    339.4\n",
       "2024-05-03    174.1    208.9    382.9    174.1    208.9    382.9\n",
       "2024-05-04    130.5    208.9    339.4    130.5    261.1    391.6"
      ]
     },
     "execution_count": 214,
     "metadata": {},
     "output_type": "execute_result"
    }
   ],
   "source": [
    "downlink_budget.head()"
   ]
  },
  {
   "cell_type": "markdown",
   "metadata": {
    "slideshow": {
     "slide_type": "subslide"
    }
   },
   "source": [
    "We now want to join this budget data to the data rate datatable and we do this with the **join** method on the **data_rate_avg** object."
   ]
  },
  {
   "cell_type": "code",
   "execution_count": 215,
   "metadata": {
    "collapsed": false
   },
   "outputs": [],
   "source": [
    "data_rate_avg.join(downlink_budget, in_place=True)"
   ]
  },
  {
   "cell_type": "code",
   "execution_count": 216,
   "metadata": {
    "collapsed": false
   },
   "outputs": [
    {
     "data": {
      "text/html": [
       "<div>\n",
       "<table border=\"1\" class=\"dataframe\">\n",
       "  <thead>\n",
       "    <tr>\n",
       "      <th>channel</th>\n",
       "      <th colspan=\"3\" halign=\"left\">ANTENNA</th>\n",
       "      <th colspan=\"5\" halign=\"left\">BELA</th>\n",
       "      <th>CeB</th>\n",
       "      <th>CeK</th>\n",
       "      <th>CeX</th>\n",
       "      <th colspan=\"5\" halign=\"left\">ISA</th>\n",
       "      <th colspan=\"5\" halign=\"left\">MERMAG</th>\n",
       "      <th colspan=\"5\" halign=\"left\">MERTIS</th>\n",
       "      <th colspan=\"5\" halign=\"left\">MGNS</th>\n",
       "      <th colspan=\"5\" halign=\"left\">MIXS-SIXS</th>\n",
       "      <th colspan=\"5\" halign=\"left\">MORE</th>\n",
       "      <th>MaB</th>\n",
       "      <th>MaK</th>\n",
       "      <th>MaX</th>\n",
       "      <th colspan=\"5\" halign=\"left\">PHEBUS</th>\n",
       "      <th colspan=\"5\" halign=\"left\">SERENA</th>\n",
       "      <th colspan=\"5\" halign=\"left\">SIMBIOSYS-HRIC</th>\n",
       "      <th colspan=\"5\" halign=\"left\">SIMBIOSYS-STC</th>\n",
       "      <th colspan=\"5\" halign=\"left\">SIMBIOSYS-VIHI</th>\n",
       "      <th colspan=\"3\" halign=\"left\">SSMM</th>\n",
       "    </tr>\n",
       "    <tr>\n",
       "      <th>type</th>\n",
       "      <th>Accum</th>\n",
       "      <th>Downlink</th>\n",
       "      <th>Volume</th>\n",
       "      <th>Accum</th>\n",
       "      <th>Download</th>\n",
       "      <th>Memory</th>\n",
       "      <th>Upload</th>\n",
       "      <th>Volume</th>\n",
       "      <th>Downlink</th>\n",
       "      <th>Downlink</th>\n",
       "      <th>Downlink</th>\n",
       "      <th>Accum</th>\n",
       "      <th>Download</th>\n",
       "      <th>Memory</th>\n",
       "      <th>Upload</th>\n",
       "      <th>Volume</th>\n",
       "      <th>Accum</th>\n",
       "      <th>Download</th>\n",
       "      <th>Memory</th>\n",
       "      <th>Upload</th>\n",
       "      <th>Volume</th>\n",
       "      <th>Accum</th>\n",
       "      <th>Download</th>\n",
       "      <th>Memory</th>\n",
       "      <th>Upload</th>\n",
       "      <th>Volume</th>\n",
       "      <th>Accum</th>\n",
       "      <th>Download</th>\n",
       "      <th>Memory</th>\n",
       "      <th>Upload</th>\n",
       "      <th>Volume</th>\n",
       "      <th>Accum</th>\n",
       "      <th>Download</th>\n",
       "      <th>Memory</th>\n",
       "      <th>Upload</th>\n",
       "      <th>Volume</th>\n",
       "      <th>Accum</th>\n",
       "      <th>Download</th>\n",
       "      <th>Memory</th>\n",
       "      <th>Upload</th>\n",
       "      <th>Volume</th>\n",
       "      <th>Downlink</th>\n",
       "      <th>Downlink</th>\n",
       "      <th>Downlink</th>\n",
       "      <th>Accum</th>\n",
       "      <th>Download</th>\n",
       "      <th>Memory</th>\n",
       "      <th>Upload</th>\n",
       "      <th>Volume</th>\n",
       "      <th>Accum</th>\n",
       "      <th>Download</th>\n",
       "      <th>Memory</th>\n",
       "      <th>Upload</th>\n",
       "      <th>Volume</th>\n",
       "      <th>Accum</th>\n",
       "      <th>Download</th>\n",
       "      <th>Memory</th>\n",
       "      <th>Upload</th>\n",
       "      <th>Volume</th>\n",
       "      <th>Accum</th>\n",
       "      <th>Download</th>\n",
       "      <th>Memory</th>\n",
       "      <th>Upload</th>\n",
       "      <th>Volume</th>\n",
       "      <th>Accum</th>\n",
       "      <th>Download</th>\n",
       "      <th>Memory</th>\n",
       "      <th>Upload</th>\n",
       "      <th>Volume</th>\n",
       "      <th>Accum</th>\n",
       "      <th>Memory</th>\n",
       "      <th>Volume</th>\n",
       "    </tr>\n",
       "    <tr>\n",
       "      <th>unit</th>\n",
       "      <th>Gbit</th>\n",
       "      <th>kbit/s</th>\n",
       "      <th>Gbit</th>\n",
       "      <th>Gbit</th>\n",
       "      <th>kbit/s</th>\n",
       "      <th>Gbit</th>\n",
       "      <th>kbit/s</th>\n",
       "      <th>Gbit</th>\n",
       "      <th>kbit/s</th>\n",
       "      <th>kbit/s</th>\n",
       "      <th>kbit/s</th>\n",
       "      <th>Gbit</th>\n",
       "      <th>kbit/s</th>\n",
       "      <th>Gbit</th>\n",
       "      <th>kbit/s</th>\n",
       "      <th>Gbit</th>\n",
       "      <th>Gbit</th>\n",
       "      <th>kbit/s</th>\n",
       "      <th>Gbit</th>\n",
       "      <th>kbit/s</th>\n",
       "      <th>Gbit</th>\n",
       "      <th>Gbit</th>\n",
       "      <th>kbit/s</th>\n",
       "      <th>Gbit</th>\n",
       "      <th>kbit/s</th>\n",
       "      <th>Gbit</th>\n",
       "      <th>Gbit</th>\n",
       "      <th>kbit/s</th>\n",
       "      <th>Gbit</th>\n",
       "      <th>kbit/s</th>\n",
       "      <th>Gbit</th>\n",
       "      <th>Gbit</th>\n",
       "      <th>kbit/s</th>\n",
       "      <th>Gbit</th>\n",
       "      <th>kbit/s</th>\n",
       "      <th>Gbit</th>\n",
       "      <th>Gbit</th>\n",
       "      <th>kbit/s</th>\n",
       "      <th>Gbit</th>\n",
       "      <th>kbit/s</th>\n",
       "      <th>Gbit</th>\n",
       "      <th>kbit/s</th>\n",
       "      <th>kbit/s</th>\n",
       "      <th>kbit/s</th>\n",
       "      <th>Gbit</th>\n",
       "      <th>kbit/s</th>\n",
       "      <th>Gbit</th>\n",
       "      <th>kbit/s</th>\n",
       "      <th>Gbit</th>\n",
       "      <th>Gbit</th>\n",
       "      <th>kbit/s</th>\n",
       "      <th>Gbit</th>\n",
       "      <th>kbit/s</th>\n",
       "      <th>Gbit</th>\n",
       "      <th>Gbit</th>\n",
       "      <th>kbit/s</th>\n",
       "      <th>Gbit</th>\n",
       "      <th>kbit/s</th>\n",
       "      <th>Gbit</th>\n",
       "      <th>Gbit</th>\n",
       "      <th>kbit/s</th>\n",
       "      <th>Gbit</th>\n",
       "      <th>kbit/s</th>\n",
       "      <th>Gbit</th>\n",
       "      <th>Gbit</th>\n",
       "      <th>kbit/s</th>\n",
       "      <th>Gbit</th>\n",
       "      <th>kbit/s</th>\n",
       "      <th>Gbit</th>\n",
       "      <th>Gbit</th>\n",
       "      <th>Gbit</th>\n",
       "      <th>Gbit</th>\n",
       "    </tr>\n",
       "  </thead>\n",
       "  <tbody>\n",
       "    <tr>\n",
       "      <th>2024-05-07</th>\n",
       "      <td>0.000000</td>\n",
       "      <td>0</td>\n",
       "      <td>0.000000</td>\n",
       "      <td>0.000000</td>\n",
       "      <td>0</td>\n",
       "      <td>0</td>\n",
       "      <td>0.099</td>\n",
       "      <td>0.000000</td>\n",
       "      <td>304.6</td>\n",
       "      <td>174.1</td>\n",
       "      <td>130.5</td>\n",
       "      <td>0.000000</td>\n",
       "      <td>0</td>\n",
       "      <td>0</td>\n",
       "      <td>0.000</td>\n",
       "      <td>0.000000</td>\n",
       "      <td>0.000000</td>\n",
       "      <td>0</td>\n",
       "      <td>0</td>\n",
       "      <td>0.358</td>\n",
       "      <td>0.000000</td>\n",
       "      <td>0.000000</td>\n",
       "      <td>0</td>\n",
       "      <td>0</td>\n",
       "      <td>0.0</td>\n",
       "      <td>0.000000</td>\n",
       "      <td>0.000000</td>\n",
       "      <td>0</td>\n",
       "      <td>0</td>\n",
       "      <td>0.0000</td>\n",
       "      <td>0.000000</td>\n",
       "      <td>0.000000</td>\n",
       "      <td>0</td>\n",
       "      <td>0</td>\n",
       "      <td>0.00</td>\n",
       "      <td>0.000000</td>\n",
       "      <td>0</td>\n",
       "      <td>0</td>\n",
       "      <td>0</td>\n",
       "      <td>0</td>\n",
       "      <td>0</td>\n",
       "      <td>339.4</td>\n",
       "      <td>208.9</td>\n",
       "      <td>130.5</td>\n",
       "      <td>0.000000</td>\n",
       "      <td>0</td>\n",
       "      <td>0</td>\n",
       "      <td>0.000</td>\n",
       "      <td>0.000000</td>\n",
       "      <td>0.000000</td>\n",
       "      <td>0</td>\n",
       "      <td>0</td>\n",
       "      <td>0.000</td>\n",
       "      <td>0.000000</td>\n",
       "      <td>0</td>\n",
       "      <td>0</td>\n",
       "      <td>0</td>\n",
       "      <td>0</td>\n",
       "      <td>0</td>\n",
       "      <td>0.000000</td>\n",
       "      <td>0</td>\n",
       "      <td>0</td>\n",
       "      <td>0.00</td>\n",
       "      <td>0.000000</td>\n",
       "      <td>0.00000</td>\n",
       "      <td>0</td>\n",
       "      <td>0</td>\n",
       "      <td>0</td>\n",
       "      <td>0.00000</td>\n",
       "      <td>0.000000</td>\n",
       "      <td>0.000000</td>\n",
       "      <td>0.000000</td>\n",
       "    </tr>\n",
       "    <tr>\n",
       "      <th>2024-05-08</th>\n",
       "      <td>7.438953</td>\n",
       "      <td>0</td>\n",
       "      <td>7.438953</td>\n",
       "      <td>0.365467</td>\n",
       "      <td>0</td>\n",
       "      <td>0</td>\n",
       "      <td>9.888</td>\n",
       "      <td>0.365467</td>\n",
       "      <td>304.6</td>\n",
       "      <td>174.1</td>\n",
       "      <td>130.5</td>\n",
       "      <td>0.140525</td>\n",
       "      <td>0</td>\n",
       "      <td>0</td>\n",
       "      <td>1.734</td>\n",
       "      <td>0.140525</td>\n",
       "      <td>0.030931</td>\n",
       "      <td>0</td>\n",
       "      <td>0</td>\n",
       "      <td>0.358</td>\n",
       "      <td>0.030931</td>\n",
       "      <td>3.885424</td>\n",
       "      <td>0</td>\n",
       "      <td>0</td>\n",
       "      <td>118.0</td>\n",
       "      <td>3.885424</td>\n",
       "      <td>0.294034</td>\n",
       "      <td>0</td>\n",
       "      <td>0</td>\n",
       "      <td>3.4384</td>\n",
       "      <td>0.294034</td>\n",
       "      <td>0.787254</td>\n",
       "      <td>0</td>\n",
       "      <td>0</td>\n",
       "      <td>9.29</td>\n",
       "      <td>0.787254</td>\n",
       "      <td>0</td>\n",
       "      <td>0</td>\n",
       "      <td>0</td>\n",
       "      <td>0</td>\n",
       "      <td>0</td>\n",
       "      <td>304.6</td>\n",
       "      <td>174.1</td>\n",
       "      <td>130.5</td>\n",
       "      <td>0.241009</td>\n",
       "      <td>0</td>\n",
       "      <td>0</td>\n",
       "      <td>0.000</td>\n",
       "      <td>0.241009</td>\n",
       "      <td>0.408729</td>\n",
       "      <td>0</td>\n",
       "      <td>0</td>\n",
       "      <td>4.812</td>\n",
       "      <td>0.408729</td>\n",
       "      <td>0</td>\n",
       "      <td>0</td>\n",
       "      <td>0</td>\n",
       "      <td>0</td>\n",
       "      <td>0</td>\n",
       "      <td>2.000013</td>\n",
       "      <td>0</td>\n",
       "      <td>0</td>\n",
       "      <td>40.42</td>\n",
       "      <td>2.000013</td>\n",
       "      <td>3.71846</td>\n",
       "      <td>0</td>\n",
       "      <td>0</td>\n",
       "      <td>126</td>\n",
       "      <td>3.71846</td>\n",
       "      <td>7.438953</td>\n",
       "      <td>4.432893</td>\n",
       "      <td>7.438953</td>\n",
       "    </tr>\n",
       "    <tr>\n",
       "      <th>2024-05-09</th>\n",
       "      <td>16.418688</td>\n",
       "      <td>0</td>\n",
       "      <td>8.979735</td>\n",
       "      <td>0.737165</td>\n",
       "      <td>0</td>\n",
       "      <td>0</td>\n",
       "      <td>5.568</td>\n",
       "      <td>0.371697</td>\n",
       "      <td>304.6</td>\n",
       "      <td>174.1</td>\n",
       "      <td>130.5</td>\n",
       "      <td>0.285717</td>\n",
       "      <td>0</td>\n",
       "      <td>0</td>\n",
       "      <td>1.734</td>\n",
       "      <td>0.145192</td>\n",
       "      <td>0.061862</td>\n",
       "      <td>0</td>\n",
       "      <td>0</td>\n",
       "      <td>0.358</td>\n",
       "      <td>0.030931</td>\n",
       "      <td>8.008112</td>\n",
       "      <td>0</td>\n",
       "      <td>0</td>\n",
       "      <td>240.0</td>\n",
       "      <td>4.122688</td>\n",
       "      <td>0.591112</td>\n",
       "      <td>0</td>\n",
       "      <td>0</td>\n",
       "      <td>3.4384</td>\n",
       "      <td>0.297078</td>\n",
       "      <td>1.787013</td>\n",
       "      <td>0</td>\n",
       "      <td>0</td>\n",
       "      <td>9.29</td>\n",
       "      <td>0.999759</td>\n",
       "      <td>0</td>\n",
       "      <td>0</td>\n",
       "      <td>0</td>\n",
       "      <td>0</td>\n",
       "      <td>0</td>\n",
       "      <td>304.6</td>\n",
       "      <td>174.1</td>\n",
       "      <td>130.5</td>\n",
       "      <td>0.511508</td>\n",
       "      <td>0</td>\n",
       "      <td>0</td>\n",
       "      <td>0.000</td>\n",
       "      <td>0.270500</td>\n",
       "      <td>0.844503</td>\n",
       "      <td>0</td>\n",
       "      <td>0</td>\n",
       "      <td>4.812</td>\n",
       "      <td>0.435775</td>\n",
       "      <td>0</td>\n",
       "      <td>0</td>\n",
       "      <td>0</td>\n",
       "      <td>0</td>\n",
       "      <td>0</td>\n",
       "      <td>4.348991</td>\n",
       "      <td>0</td>\n",
       "      <td>0</td>\n",
       "      <td>133.34</td>\n",
       "      <td>2.348978</td>\n",
       "      <td>7.94770</td>\n",
       "      <td>0</td>\n",
       "      <td>0</td>\n",
       "      <td>102</td>\n",
       "      <td>4.22924</td>\n",
       "      <td>16.418688</td>\n",
       "      <td>8.704995</td>\n",
       "      <td>8.979735</td>\n",
       "    </tr>\n",
       "    <tr>\n",
       "      <th>2024-05-10</th>\n",
       "      <td>25.371039</td>\n",
       "      <td>0</td>\n",
       "      <td>8.952351</td>\n",
       "      <td>1.109660</td>\n",
       "      <td>0</td>\n",
       "      <td>0</td>\n",
       "      <td>12.405</td>\n",
       "      <td>0.372495</td>\n",
       "      <td>304.6</td>\n",
       "      <td>174.1</td>\n",
       "      <td>130.5</td>\n",
       "      <td>0.430909</td>\n",
       "      <td>0</td>\n",
       "      <td>0</td>\n",
       "      <td>1.734</td>\n",
       "      <td>0.145192</td>\n",
       "      <td>0.092794</td>\n",
       "      <td>0</td>\n",
       "      <td>0</td>\n",
       "      <td>0.358</td>\n",
       "      <td>0.030931</td>\n",
       "      <td>12.004162</td>\n",
       "      <td>0</td>\n",
       "      <td>0</td>\n",
       "      <td>0.4</td>\n",
       "      <td>3.996050</td>\n",
       "      <td>0.888190</td>\n",
       "      <td>0</td>\n",
       "      <td>0</td>\n",
       "      <td>3.4384</td>\n",
       "      <td>0.297078</td>\n",
       "      <td>2.577045</td>\n",
       "      <td>0</td>\n",
       "      <td>0</td>\n",
       "      <td>9.29</td>\n",
       "      <td>0.790032</td>\n",
       "      <td>0</td>\n",
       "      <td>0</td>\n",
       "      <td>0</td>\n",
       "      <td>0</td>\n",
       "      <td>0</td>\n",
       "      <td>278.5</td>\n",
       "      <td>174.1</td>\n",
       "      <td>104.4</td>\n",
       "      <td>0.750551</td>\n",
       "      <td>0</td>\n",
       "      <td>0</td>\n",
       "      <td>16.384</td>\n",
       "      <td>0.239043</td>\n",
       "      <td>1.288482</td>\n",
       "      <td>0</td>\n",
       "      <td>0</td>\n",
       "      <td>0.000</td>\n",
       "      <td>0.443979</td>\n",
       "      <td>0</td>\n",
       "      <td>0</td>\n",
       "      <td>0</td>\n",
       "      <td>0</td>\n",
       "      <td>0</td>\n",
       "      <td>6.624967</td>\n",
       "      <td>0</td>\n",
       "      <td>0</td>\n",
       "      <td>15.60</td>\n",
       "      <td>2.275975</td>\n",
       "      <td>12.18964</td>\n",
       "      <td>0</td>\n",
       "      <td>0</td>\n",
       "      <td>126</td>\n",
       "      <td>4.24194</td>\n",
       "      <td>25.371039</td>\n",
       "      <td>12.585360</td>\n",
       "      <td>8.952351</td>\n",
       "    </tr>\n",
       "    <tr>\n",
       "      <th>2024-05-11</th>\n",
       "      <td>34.208517</td>\n",
       "      <td>0</td>\n",
       "      <td>8.837478</td>\n",
       "      <td>1.479332</td>\n",
       "      <td>0</td>\n",
       "      <td>0</td>\n",
       "      <td>0.134</td>\n",
       "      <td>0.369672</td>\n",
       "      <td>261.1</td>\n",
       "      <td>130.5</td>\n",
       "      <td>130.5</td>\n",
       "      <td>0.575175</td>\n",
       "      <td>0</td>\n",
       "      <td>0</td>\n",
       "      <td>1.734</td>\n",
       "      <td>0.144266</td>\n",
       "      <td>0.123725</td>\n",
       "      <td>0</td>\n",
       "      <td>0</td>\n",
       "      <td>0.358</td>\n",
       "      <td>0.030931</td>\n",
       "      <td>15.855224</td>\n",
       "      <td>0</td>\n",
       "      <td>0</td>\n",
       "      <td>0.4</td>\n",
       "      <td>3.851062</td>\n",
       "      <td>1.185267</td>\n",
       "      <td>0</td>\n",
       "      <td>0</td>\n",
       "      <td>3.4384</td>\n",
       "      <td>0.297078</td>\n",
       "      <td>3.366793</td>\n",
       "      <td>0</td>\n",
       "      <td>0</td>\n",
       "      <td>9.00</td>\n",
       "      <td>0.789748</td>\n",
       "      <td>0</td>\n",
       "      <td>0</td>\n",
       "      <td>0</td>\n",
       "      <td>0</td>\n",
       "      <td>0</td>\n",
       "      <td>261.1</td>\n",
       "      <td>130.5</td>\n",
       "      <td>130.5</td>\n",
       "      <td>0.948961</td>\n",
       "      <td>0</td>\n",
       "      <td>0</td>\n",
       "      <td>0.000</td>\n",
       "      <td>0.198410</td>\n",
       "      <td>1.741756</td>\n",
       "      <td>0</td>\n",
       "      <td>0</td>\n",
       "      <td>4.130</td>\n",
       "      <td>0.453274</td>\n",
       "      <td>0</td>\n",
       "      <td>0</td>\n",
       "      <td>0</td>\n",
       "      <td>0</td>\n",
       "      <td>0</td>\n",
       "      <td>8.831366</td>\n",
       "      <td>0</td>\n",
       "      <td>0</td>\n",
       "      <td>0.00</td>\n",
       "      <td>2.206399</td>\n",
       "      <td>16.28744</td>\n",
       "      <td>0</td>\n",
       "      <td>0</td>\n",
       "      <td>0</td>\n",
       "      <td>4.09780</td>\n",
       "      <td>34.208517</td>\n",
       "      <td>16.186522</td>\n",
       "      <td>8.837478</td>\n",
       "    </tr>\n",
       "  </tbody>\n",
       "</table>\n",
       "</div>"
      ],
      "text/plain": [
       "channel       ANTENNA                         BELA                          \\\n",
       "type            Accum Downlink    Volume     Accum Download Memory  Upload   \n",
       "unit             Gbit   kbit/s      Gbit      Gbit   kbit/s   Gbit  kbit/s   \n",
       "2024-05-07   0.000000        0  0.000000  0.000000        0      0   0.099   \n",
       "2024-05-08   7.438953        0  7.438953  0.365467        0      0   9.888   \n",
       "2024-05-09  16.418688        0  8.979735  0.737165        0      0   5.568   \n",
       "2024-05-10  25.371039        0  8.952351  1.109660        0      0  12.405   \n",
       "2024-05-11  34.208517        0  8.837478  1.479332        0      0   0.134   \n",
       "\n",
       "channel                   CeB      CeK      CeX       ISA                  \\\n",
       "type          Volume Downlink Downlink Downlink     Accum Download Memory   \n",
       "unit            Gbit   kbit/s   kbit/s   kbit/s      Gbit   kbit/s   Gbit   \n",
       "2024-05-07  0.000000    304.6    174.1    130.5  0.000000        0      0   \n",
       "2024-05-08  0.365467    304.6    174.1    130.5  0.140525        0      0   \n",
       "2024-05-09  0.371697    304.6    174.1    130.5  0.285717        0      0   \n",
       "2024-05-10  0.372495    304.6    174.1    130.5  0.430909        0      0   \n",
       "2024-05-11  0.369672    261.1    130.5    130.5  0.575175        0      0   \n",
       "\n",
       "channel                        MERMAG                                   \\\n",
       "type       Upload    Volume     Accum Download Memory Upload    Volume   \n",
       "unit       kbit/s      Gbit      Gbit   kbit/s   Gbit kbit/s      Gbit   \n",
       "2024-05-07  0.000  0.000000  0.000000        0      0  0.358  0.000000   \n",
       "2024-05-08  1.734  0.140525  0.030931        0      0  0.358  0.030931   \n",
       "2024-05-09  1.734  0.145192  0.061862        0      0  0.358  0.030931   \n",
       "2024-05-10  1.734  0.145192  0.092794        0      0  0.358  0.030931   \n",
       "2024-05-11  1.734  0.144266  0.123725        0      0  0.358  0.030931   \n",
       "\n",
       "channel        MERTIS                                       MGNS           \\\n",
       "type            Accum Download Memory Upload    Volume     Accum Download   \n",
       "unit             Gbit   kbit/s   Gbit kbit/s      Gbit      Gbit   kbit/s   \n",
       "2024-05-07   0.000000        0      0    0.0  0.000000  0.000000        0   \n",
       "2024-05-08   3.885424        0      0  118.0  3.885424  0.294034        0   \n",
       "2024-05-09   8.008112        0      0  240.0  4.122688  0.591112        0   \n",
       "2024-05-10  12.004162        0      0    0.4  3.996050  0.888190        0   \n",
       "2024-05-11  15.855224        0      0    0.4  3.851062  1.185267        0   \n",
       "\n",
       "channel                             MIXS-SIXS                         \\\n",
       "type       Memory  Upload    Volume     Accum Download Memory Upload   \n",
       "unit         Gbit  kbit/s      Gbit      Gbit   kbit/s   Gbit kbit/s   \n",
       "2024-05-07      0  0.0000  0.000000  0.000000        0      0   0.00   \n",
       "2024-05-08      0  3.4384  0.294034  0.787254        0      0   9.29   \n",
       "2024-05-09      0  3.4384  0.297078  1.787013        0      0   9.29   \n",
       "2024-05-10      0  3.4384  0.297078  2.577045        0      0   9.29   \n",
       "2024-05-11      0  3.4384  0.297078  3.366793        0      0   9.00   \n",
       "\n",
       "channel               MORE                                    MaB      MaK  \\\n",
       "type          Volume Accum Download Memory Upload Volume Downlink Downlink   \n",
       "unit            Gbit  Gbit   kbit/s   Gbit kbit/s   Gbit   kbit/s   kbit/s   \n",
       "2024-05-07  0.000000     0        0      0      0      0    339.4    208.9   \n",
       "2024-05-08  0.787254     0        0      0      0      0    304.6    174.1   \n",
       "2024-05-09  0.999759     0        0      0      0      0    304.6    174.1   \n",
       "2024-05-10  0.790032     0        0      0      0      0    278.5    174.1   \n",
       "2024-05-11  0.789748     0        0      0      0      0    261.1    130.5   \n",
       "\n",
       "channel         MaX    PHEBUS                                      SERENA  \\\n",
       "type       Downlink     Accum Download Memory  Upload    Volume     Accum   \n",
       "unit         kbit/s      Gbit   kbit/s   Gbit  kbit/s      Gbit      Gbit   \n",
       "2024-05-07    130.5  0.000000        0      0   0.000  0.000000  0.000000   \n",
       "2024-05-08    130.5  0.241009        0      0   0.000  0.241009  0.408729   \n",
       "2024-05-09    130.5  0.511508        0      0   0.000  0.270500  0.844503   \n",
       "2024-05-10    104.4  0.750551        0      0  16.384  0.239043  1.288482   \n",
       "2024-05-11    130.5  0.948961        0      0   0.000  0.198410  1.741756   \n",
       "\n",
       "channel                                     SIMBIOSYS-HRIC                  \\\n",
       "type       Download Memory Upload    Volume          Accum Download Memory   \n",
       "unit         kbit/s   Gbit kbit/s      Gbit           Gbit   kbit/s   Gbit   \n",
       "2024-05-07        0      0  0.000  0.000000              0        0      0   \n",
       "2024-05-08        0      0  4.812  0.408729              0        0      0   \n",
       "2024-05-09        0      0  4.812  0.435775              0        0      0   \n",
       "2024-05-10        0      0  0.000  0.443979              0        0      0   \n",
       "2024-05-11        0      0  4.130  0.453274              0        0      0   \n",
       "\n",
       "channel                  SIMBIOSYS-STC                                    \\\n",
       "type       Upload Volume         Accum Download Memory  Upload    Volume   \n",
       "unit       kbit/s   Gbit          Gbit   kbit/s   Gbit  kbit/s      Gbit   \n",
       "2024-05-07      0      0      0.000000        0      0    0.00  0.000000   \n",
       "2024-05-08      0      0      2.000013        0      0   40.42  2.000013   \n",
       "2024-05-09      0      0      4.348991        0      0  133.34  2.348978   \n",
       "2024-05-10      0      0      6.624967        0      0   15.60  2.275975   \n",
       "2024-05-11      0      0      8.831366        0      0    0.00  2.206399   \n",
       "\n",
       "channel    SIMBIOSYS-VIHI                                       SSMM  \\\n",
       "type                Accum Download Memory Upload   Volume      Accum   \n",
       "unit                 Gbit   kbit/s   Gbit kbit/s     Gbit       Gbit   \n",
       "2024-05-07        0.00000        0      0      0  0.00000   0.000000   \n",
       "2024-05-08        3.71846        0      0    126  3.71846   7.438953   \n",
       "2024-05-09        7.94770        0      0    102  4.22924  16.418688   \n",
       "2024-05-10       12.18964        0      0    126  4.24194  25.371039   \n",
       "2024-05-11       16.28744        0      0      0  4.09780  34.208517   \n",
       "\n",
       "channel                          \n",
       "type           Memory    Volume  \n",
       "unit             Gbit      Gbit  \n",
       "2024-05-07   0.000000  0.000000  \n",
       "2024-05-08   4.432893  7.438953  \n",
       "2024-05-09   8.704995  8.979735  \n",
       "2024-05-10  12.585360  8.952351  \n",
       "2024-05-11  16.186522  8.837478  "
      ]
     },
     "execution_count": 216,
     "metadata": {},
     "output_type": "execute_result"
    }
   ],
   "source": [
    "data_rate_avg.head()"
   ]
  },
  {
   "cell_type": "markdown",
   "metadata": {
    "slideshow": {
     "slide_type": "subslide"
    }
   },
   "source": [
    "Save datatable to pickle object"
   ]
  },
  {
   "cell_type": "code",
   "execution_count": 217,
   "metadata": {
    "collapsed": false
   },
   "outputs": [],
   "source": [
    "pickle.dump( data_rate_avg, open( \"pickles/data_rate_avg.p\", \"wb\" ) )"
   ]
  },
  {
   "cell_type": "markdown",
   "metadata": {
    "slideshow": {
     "slide_type": "subslide"
    }
   },
   "source": [
    "Let's plot the data rate data... all of it. We'll turn off the legend because it's very big and not really needed as we will see."
   ]
  },
  {
   "cell_type": "code",
   "execution_count": 218,
   "metadata": {
    "collapsed": false,
    "slideshow": {
     "slide_type": "fragment"
    }
   },
   "outputs": [
    {
     "data": {
      "text/html": [
       "<iframe id=\"igraph\" scrolling=\"no\" style=\"border:none;\"seamless=\"seamless\" src=\"https://plot.ly/~johnnycakes79/1879\" height=\"525\" width=\"100%\"></iframe>"
      ],
      "text/plain": [
       "<IPython.core.display.HTML object>"
      ]
     },
     "metadata": {},
     "output_type": "display_data"
    }
   ],
   "source": [
    "data_rate_avg.iplot(showlegend=False)"
   ]
  },
  {
   "cell_type": "markdown",
   "metadata": {
    "heading_collapsed": true
   },
   "source": [
    "# Slicing and Sub-Selection"
   ]
  },
  {
   "cell_type": "markdown",
   "metadata": {},
   "source": [
    "You may not always want to examine or plot all of the data. "
   ]
  },
  {
   "cell_type": "code",
   "execution_count": 219,
   "metadata": {
    "collapsed": false
   },
   "outputs": [
    {
     "data": {
      "text/html": [
       "<div>\n",
       "<table border=\"1\" class=\"dataframe\">\n",
       "  <thead>\n",
       "    <tr>\n",
       "      <th>channel</th>\n",
       "      <th colspan=\"3\" halign=\"left\">ANTENNA</th>\n",
       "      <th colspan=\"5\" halign=\"left\">BELA</th>\n",
       "      <th>CeB</th>\n",
       "      <th>CeK</th>\n",
       "      <th>CeX</th>\n",
       "      <th colspan=\"5\" halign=\"left\">ISA</th>\n",
       "      <th colspan=\"5\" halign=\"left\">MERMAG</th>\n",
       "      <th colspan=\"5\" halign=\"left\">MERTIS</th>\n",
       "      <th colspan=\"5\" halign=\"left\">MGNS</th>\n",
       "      <th colspan=\"5\" halign=\"left\">MIXS-SIXS</th>\n",
       "      <th colspan=\"5\" halign=\"left\">MORE</th>\n",
       "      <th>MaB</th>\n",
       "      <th>MaK</th>\n",
       "      <th>MaX</th>\n",
       "      <th colspan=\"5\" halign=\"left\">PHEBUS</th>\n",
       "      <th colspan=\"5\" halign=\"left\">SERENA</th>\n",
       "      <th colspan=\"5\" halign=\"left\">SIMBIOSYS-HRIC</th>\n",
       "      <th colspan=\"5\" halign=\"left\">SIMBIOSYS-STC</th>\n",
       "      <th colspan=\"5\" halign=\"left\">SIMBIOSYS-VIHI</th>\n",
       "      <th colspan=\"3\" halign=\"left\">SSMM</th>\n",
       "    </tr>\n",
       "    <tr>\n",
       "      <th>type</th>\n",
       "      <th>Accum</th>\n",
       "      <th>Downlink</th>\n",
       "      <th>Volume</th>\n",
       "      <th>Accum</th>\n",
       "      <th>Download</th>\n",
       "      <th>Memory</th>\n",
       "      <th>Upload</th>\n",
       "      <th>Volume</th>\n",
       "      <th>Downlink</th>\n",
       "      <th>Downlink</th>\n",
       "      <th>Downlink</th>\n",
       "      <th>Accum</th>\n",
       "      <th>Download</th>\n",
       "      <th>Memory</th>\n",
       "      <th>Upload</th>\n",
       "      <th>Volume</th>\n",
       "      <th>Accum</th>\n",
       "      <th>Download</th>\n",
       "      <th>Memory</th>\n",
       "      <th>Upload</th>\n",
       "      <th>Volume</th>\n",
       "      <th>Accum</th>\n",
       "      <th>Download</th>\n",
       "      <th>Memory</th>\n",
       "      <th>Upload</th>\n",
       "      <th>Volume</th>\n",
       "      <th>Accum</th>\n",
       "      <th>Download</th>\n",
       "      <th>Memory</th>\n",
       "      <th>Upload</th>\n",
       "      <th>Volume</th>\n",
       "      <th>Accum</th>\n",
       "      <th>Download</th>\n",
       "      <th>Memory</th>\n",
       "      <th>Upload</th>\n",
       "      <th>Volume</th>\n",
       "      <th>Accum</th>\n",
       "      <th>Download</th>\n",
       "      <th>Memory</th>\n",
       "      <th>Upload</th>\n",
       "      <th>Volume</th>\n",
       "      <th>Downlink</th>\n",
       "      <th>Downlink</th>\n",
       "      <th>Downlink</th>\n",
       "      <th>Accum</th>\n",
       "      <th>Download</th>\n",
       "      <th>Memory</th>\n",
       "      <th>Upload</th>\n",
       "      <th>Volume</th>\n",
       "      <th>Accum</th>\n",
       "      <th>Download</th>\n",
       "      <th>Memory</th>\n",
       "      <th>Upload</th>\n",
       "      <th>Volume</th>\n",
       "      <th>Accum</th>\n",
       "      <th>Download</th>\n",
       "      <th>Memory</th>\n",
       "      <th>Upload</th>\n",
       "      <th>Volume</th>\n",
       "      <th>Accum</th>\n",
       "      <th>Download</th>\n",
       "      <th>Memory</th>\n",
       "      <th>Upload</th>\n",
       "      <th>Volume</th>\n",
       "      <th>Accum</th>\n",
       "      <th>Download</th>\n",
       "      <th>Memory</th>\n",
       "      <th>Upload</th>\n",
       "      <th>Volume</th>\n",
       "      <th>Accum</th>\n",
       "      <th>Memory</th>\n",
       "      <th>Volume</th>\n",
       "    </tr>\n",
       "    <tr>\n",
       "      <th>unit</th>\n",
       "      <th>Gbit</th>\n",
       "      <th>kbit/s</th>\n",
       "      <th>Gbit</th>\n",
       "      <th>Gbit</th>\n",
       "      <th>kbit/s</th>\n",
       "      <th>Gbit</th>\n",
       "      <th>kbit/s</th>\n",
       "      <th>Gbit</th>\n",
       "      <th>kbit/s</th>\n",
       "      <th>kbit/s</th>\n",
       "      <th>kbit/s</th>\n",
       "      <th>Gbit</th>\n",
       "      <th>kbit/s</th>\n",
       "      <th>Gbit</th>\n",
       "      <th>kbit/s</th>\n",
       "      <th>Gbit</th>\n",
       "      <th>Gbit</th>\n",
       "      <th>kbit/s</th>\n",
       "      <th>Gbit</th>\n",
       "      <th>kbit/s</th>\n",
       "      <th>Gbit</th>\n",
       "      <th>Gbit</th>\n",
       "      <th>kbit/s</th>\n",
       "      <th>Gbit</th>\n",
       "      <th>kbit/s</th>\n",
       "      <th>Gbit</th>\n",
       "      <th>Gbit</th>\n",
       "      <th>kbit/s</th>\n",
       "      <th>Gbit</th>\n",
       "      <th>kbit/s</th>\n",
       "      <th>Gbit</th>\n",
       "      <th>Gbit</th>\n",
       "      <th>kbit/s</th>\n",
       "      <th>Gbit</th>\n",
       "      <th>kbit/s</th>\n",
       "      <th>Gbit</th>\n",
       "      <th>Gbit</th>\n",
       "      <th>kbit/s</th>\n",
       "      <th>Gbit</th>\n",
       "      <th>kbit/s</th>\n",
       "      <th>Gbit</th>\n",
       "      <th>kbit/s</th>\n",
       "      <th>kbit/s</th>\n",
       "      <th>kbit/s</th>\n",
       "      <th>Gbit</th>\n",
       "      <th>kbit/s</th>\n",
       "      <th>Gbit</th>\n",
       "      <th>kbit/s</th>\n",
       "      <th>Gbit</th>\n",
       "      <th>Gbit</th>\n",
       "      <th>kbit/s</th>\n",
       "      <th>Gbit</th>\n",
       "      <th>kbit/s</th>\n",
       "      <th>Gbit</th>\n",
       "      <th>Gbit</th>\n",
       "      <th>kbit/s</th>\n",
       "      <th>Gbit</th>\n",
       "      <th>kbit/s</th>\n",
       "      <th>Gbit</th>\n",
       "      <th>Gbit</th>\n",
       "      <th>kbit/s</th>\n",
       "      <th>Gbit</th>\n",
       "      <th>kbit/s</th>\n",
       "      <th>Gbit</th>\n",
       "      <th>Gbit</th>\n",
       "      <th>kbit/s</th>\n",
       "      <th>Gbit</th>\n",
       "      <th>kbit/s</th>\n",
       "      <th>Gbit</th>\n",
       "      <th>Gbit</th>\n",
       "      <th>Gbit</th>\n",
       "      <th>Gbit</th>\n",
       "    </tr>\n",
       "  </thead>\n",
       "  <tbody>\n",
       "    <tr>\n",
       "      <th>2024-05-07</th>\n",
       "      <td>0.000000</td>\n",
       "      <td>0</td>\n",
       "      <td>0.000000</td>\n",
       "      <td>0.000000</td>\n",
       "      <td>0</td>\n",
       "      <td>0</td>\n",
       "      <td>0.099</td>\n",
       "      <td>0.000000</td>\n",
       "      <td>304.6</td>\n",
       "      <td>174.1</td>\n",
       "      <td>130.5</td>\n",
       "      <td>0.000000</td>\n",
       "      <td>0</td>\n",
       "      <td>0</td>\n",
       "      <td>0.000</td>\n",
       "      <td>0.000000</td>\n",
       "      <td>0.000000</td>\n",
       "      <td>0</td>\n",
       "      <td>0</td>\n",
       "      <td>0.358</td>\n",
       "      <td>0.000000</td>\n",
       "      <td>0.000000</td>\n",
       "      <td>0</td>\n",
       "      <td>0</td>\n",
       "      <td>0.0</td>\n",
       "      <td>0.000000</td>\n",
       "      <td>0.000000</td>\n",
       "      <td>0</td>\n",
       "      <td>0</td>\n",
       "      <td>0.0000</td>\n",
       "      <td>0.000000</td>\n",
       "      <td>0.000000</td>\n",
       "      <td>0</td>\n",
       "      <td>0</td>\n",
       "      <td>0.00</td>\n",
       "      <td>0.000000</td>\n",
       "      <td>0</td>\n",
       "      <td>0</td>\n",
       "      <td>0</td>\n",
       "      <td>0</td>\n",
       "      <td>0</td>\n",
       "      <td>339.4</td>\n",
       "      <td>208.9</td>\n",
       "      <td>130.5</td>\n",
       "      <td>0.000000</td>\n",
       "      <td>0</td>\n",
       "      <td>0</td>\n",
       "      <td>0.000</td>\n",
       "      <td>0.000000</td>\n",
       "      <td>0.000000</td>\n",
       "      <td>0</td>\n",
       "      <td>0</td>\n",
       "      <td>0.000</td>\n",
       "      <td>0.000000</td>\n",
       "      <td>0</td>\n",
       "      <td>0</td>\n",
       "      <td>0</td>\n",
       "      <td>0</td>\n",
       "      <td>0</td>\n",
       "      <td>0.000000</td>\n",
       "      <td>0</td>\n",
       "      <td>0</td>\n",
       "      <td>0.00</td>\n",
       "      <td>0.000000</td>\n",
       "      <td>0.00000</td>\n",
       "      <td>0</td>\n",
       "      <td>0</td>\n",
       "      <td>0</td>\n",
       "      <td>0.00000</td>\n",
       "      <td>0.000000</td>\n",
       "      <td>0.000000</td>\n",
       "      <td>0.000000</td>\n",
       "    </tr>\n",
       "    <tr>\n",
       "      <th>2024-05-08</th>\n",
       "      <td>7.438953</td>\n",
       "      <td>0</td>\n",
       "      <td>7.438953</td>\n",
       "      <td>0.365467</td>\n",
       "      <td>0</td>\n",
       "      <td>0</td>\n",
       "      <td>9.888</td>\n",
       "      <td>0.365467</td>\n",
       "      <td>304.6</td>\n",
       "      <td>174.1</td>\n",
       "      <td>130.5</td>\n",
       "      <td>0.140525</td>\n",
       "      <td>0</td>\n",
       "      <td>0</td>\n",
       "      <td>1.734</td>\n",
       "      <td>0.140525</td>\n",
       "      <td>0.030931</td>\n",
       "      <td>0</td>\n",
       "      <td>0</td>\n",
       "      <td>0.358</td>\n",
       "      <td>0.030931</td>\n",
       "      <td>3.885424</td>\n",
       "      <td>0</td>\n",
       "      <td>0</td>\n",
       "      <td>118.0</td>\n",
       "      <td>3.885424</td>\n",
       "      <td>0.294034</td>\n",
       "      <td>0</td>\n",
       "      <td>0</td>\n",
       "      <td>3.4384</td>\n",
       "      <td>0.294034</td>\n",
       "      <td>0.787254</td>\n",
       "      <td>0</td>\n",
       "      <td>0</td>\n",
       "      <td>9.29</td>\n",
       "      <td>0.787254</td>\n",
       "      <td>0</td>\n",
       "      <td>0</td>\n",
       "      <td>0</td>\n",
       "      <td>0</td>\n",
       "      <td>0</td>\n",
       "      <td>304.6</td>\n",
       "      <td>174.1</td>\n",
       "      <td>130.5</td>\n",
       "      <td>0.241009</td>\n",
       "      <td>0</td>\n",
       "      <td>0</td>\n",
       "      <td>0.000</td>\n",
       "      <td>0.241009</td>\n",
       "      <td>0.408729</td>\n",
       "      <td>0</td>\n",
       "      <td>0</td>\n",
       "      <td>4.812</td>\n",
       "      <td>0.408729</td>\n",
       "      <td>0</td>\n",
       "      <td>0</td>\n",
       "      <td>0</td>\n",
       "      <td>0</td>\n",
       "      <td>0</td>\n",
       "      <td>2.000013</td>\n",
       "      <td>0</td>\n",
       "      <td>0</td>\n",
       "      <td>40.42</td>\n",
       "      <td>2.000013</td>\n",
       "      <td>3.71846</td>\n",
       "      <td>0</td>\n",
       "      <td>0</td>\n",
       "      <td>126</td>\n",
       "      <td>3.71846</td>\n",
       "      <td>7.438953</td>\n",
       "      <td>4.432893</td>\n",
       "      <td>7.438953</td>\n",
       "    </tr>\n",
       "    <tr>\n",
       "      <th>2024-05-09</th>\n",
       "      <td>16.418688</td>\n",
       "      <td>0</td>\n",
       "      <td>8.979735</td>\n",
       "      <td>0.737165</td>\n",
       "      <td>0</td>\n",
       "      <td>0</td>\n",
       "      <td>5.568</td>\n",
       "      <td>0.371697</td>\n",
       "      <td>304.6</td>\n",
       "      <td>174.1</td>\n",
       "      <td>130.5</td>\n",
       "      <td>0.285717</td>\n",
       "      <td>0</td>\n",
       "      <td>0</td>\n",
       "      <td>1.734</td>\n",
       "      <td>0.145192</td>\n",
       "      <td>0.061862</td>\n",
       "      <td>0</td>\n",
       "      <td>0</td>\n",
       "      <td>0.358</td>\n",
       "      <td>0.030931</td>\n",
       "      <td>8.008112</td>\n",
       "      <td>0</td>\n",
       "      <td>0</td>\n",
       "      <td>240.0</td>\n",
       "      <td>4.122688</td>\n",
       "      <td>0.591112</td>\n",
       "      <td>0</td>\n",
       "      <td>0</td>\n",
       "      <td>3.4384</td>\n",
       "      <td>0.297078</td>\n",
       "      <td>1.787013</td>\n",
       "      <td>0</td>\n",
       "      <td>0</td>\n",
       "      <td>9.29</td>\n",
       "      <td>0.999759</td>\n",
       "      <td>0</td>\n",
       "      <td>0</td>\n",
       "      <td>0</td>\n",
       "      <td>0</td>\n",
       "      <td>0</td>\n",
       "      <td>304.6</td>\n",
       "      <td>174.1</td>\n",
       "      <td>130.5</td>\n",
       "      <td>0.511508</td>\n",
       "      <td>0</td>\n",
       "      <td>0</td>\n",
       "      <td>0.000</td>\n",
       "      <td>0.270500</td>\n",
       "      <td>0.844503</td>\n",
       "      <td>0</td>\n",
       "      <td>0</td>\n",
       "      <td>4.812</td>\n",
       "      <td>0.435775</td>\n",
       "      <td>0</td>\n",
       "      <td>0</td>\n",
       "      <td>0</td>\n",
       "      <td>0</td>\n",
       "      <td>0</td>\n",
       "      <td>4.348991</td>\n",
       "      <td>0</td>\n",
       "      <td>0</td>\n",
       "      <td>133.34</td>\n",
       "      <td>2.348978</td>\n",
       "      <td>7.94770</td>\n",
       "      <td>0</td>\n",
       "      <td>0</td>\n",
       "      <td>102</td>\n",
       "      <td>4.22924</td>\n",
       "      <td>16.418688</td>\n",
       "      <td>8.704995</td>\n",
       "      <td>8.979735</td>\n",
       "    </tr>\n",
       "    <tr>\n",
       "      <th>2024-05-10</th>\n",
       "      <td>25.371039</td>\n",
       "      <td>0</td>\n",
       "      <td>8.952351</td>\n",
       "      <td>1.109660</td>\n",
       "      <td>0</td>\n",
       "      <td>0</td>\n",
       "      <td>12.405</td>\n",
       "      <td>0.372495</td>\n",
       "      <td>304.6</td>\n",
       "      <td>174.1</td>\n",
       "      <td>130.5</td>\n",
       "      <td>0.430909</td>\n",
       "      <td>0</td>\n",
       "      <td>0</td>\n",
       "      <td>1.734</td>\n",
       "      <td>0.145192</td>\n",
       "      <td>0.092794</td>\n",
       "      <td>0</td>\n",
       "      <td>0</td>\n",
       "      <td>0.358</td>\n",
       "      <td>0.030931</td>\n",
       "      <td>12.004162</td>\n",
       "      <td>0</td>\n",
       "      <td>0</td>\n",
       "      <td>0.4</td>\n",
       "      <td>3.996050</td>\n",
       "      <td>0.888190</td>\n",
       "      <td>0</td>\n",
       "      <td>0</td>\n",
       "      <td>3.4384</td>\n",
       "      <td>0.297078</td>\n",
       "      <td>2.577045</td>\n",
       "      <td>0</td>\n",
       "      <td>0</td>\n",
       "      <td>9.29</td>\n",
       "      <td>0.790032</td>\n",
       "      <td>0</td>\n",
       "      <td>0</td>\n",
       "      <td>0</td>\n",
       "      <td>0</td>\n",
       "      <td>0</td>\n",
       "      <td>278.5</td>\n",
       "      <td>174.1</td>\n",
       "      <td>104.4</td>\n",
       "      <td>0.750551</td>\n",
       "      <td>0</td>\n",
       "      <td>0</td>\n",
       "      <td>16.384</td>\n",
       "      <td>0.239043</td>\n",
       "      <td>1.288482</td>\n",
       "      <td>0</td>\n",
       "      <td>0</td>\n",
       "      <td>0.000</td>\n",
       "      <td>0.443979</td>\n",
       "      <td>0</td>\n",
       "      <td>0</td>\n",
       "      <td>0</td>\n",
       "      <td>0</td>\n",
       "      <td>0</td>\n",
       "      <td>6.624967</td>\n",
       "      <td>0</td>\n",
       "      <td>0</td>\n",
       "      <td>15.60</td>\n",
       "      <td>2.275975</td>\n",
       "      <td>12.18964</td>\n",
       "      <td>0</td>\n",
       "      <td>0</td>\n",
       "      <td>126</td>\n",
       "      <td>4.24194</td>\n",
       "      <td>25.371039</td>\n",
       "      <td>12.585360</td>\n",
       "      <td>8.952351</td>\n",
       "    </tr>\n",
       "    <tr>\n",
       "      <th>2024-05-11</th>\n",
       "      <td>34.208517</td>\n",
       "      <td>0</td>\n",
       "      <td>8.837478</td>\n",
       "      <td>1.479332</td>\n",
       "      <td>0</td>\n",
       "      <td>0</td>\n",
       "      <td>0.134</td>\n",
       "      <td>0.369672</td>\n",
       "      <td>261.1</td>\n",
       "      <td>130.5</td>\n",
       "      <td>130.5</td>\n",
       "      <td>0.575175</td>\n",
       "      <td>0</td>\n",
       "      <td>0</td>\n",
       "      <td>1.734</td>\n",
       "      <td>0.144266</td>\n",
       "      <td>0.123725</td>\n",
       "      <td>0</td>\n",
       "      <td>0</td>\n",
       "      <td>0.358</td>\n",
       "      <td>0.030931</td>\n",
       "      <td>15.855224</td>\n",
       "      <td>0</td>\n",
       "      <td>0</td>\n",
       "      <td>0.4</td>\n",
       "      <td>3.851062</td>\n",
       "      <td>1.185267</td>\n",
       "      <td>0</td>\n",
       "      <td>0</td>\n",
       "      <td>3.4384</td>\n",
       "      <td>0.297078</td>\n",
       "      <td>3.366793</td>\n",
       "      <td>0</td>\n",
       "      <td>0</td>\n",
       "      <td>9.00</td>\n",
       "      <td>0.789748</td>\n",
       "      <td>0</td>\n",
       "      <td>0</td>\n",
       "      <td>0</td>\n",
       "      <td>0</td>\n",
       "      <td>0</td>\n",
       "      <td>261.1</td>\n",
       "      <td>130.5</td>\n",
       "      <td>130.5</td>\n",
       "      <td>0.948961</td>\n",
       "      <td>0</td>\n",
       "      <td>0</td>\n",
       "      <td>0.000</td>\n",
       "      <td>0.198410</td>\n",
       "      <td>1.741756</td>\n",
       "      <td>0</td>\n",
       "      <td>0</td>\n",
       "      <td>4.130</td>\n",
       "      <td>0.453274</td>\n",
       "      <td>0</td>\n",
       "      <td>0</td>\n",
       "      <td>0</td>\n",
       "      <td>0</td>\n",
       "      <td>0</td>\n",
       "      <td>8.831366</td>\n",
       "      <td>0</td>\n",
       "      <td>0</td>\n",
       "      <td>0.00</td>\n",
       "      <td>2.206399</td>\n",
       "      <td>16.28744</td>\n",
       "      <td>0</td>\n",
       "      <td>0</td>\n",
       "      <td>0</td>\n",
       "      <td>4.09780</td>\n",
       "      <td>34.208517</td>\n",
       "      <td>16.186522</td>\n",
       "      <td>8.837478</td>\n",
       "    </tr>\n",
       "  </tbody>\n",
       "</table>\n",
       "</div>"
      ],
      "text/plain": [
       "channel       ANTENNA                         BELA                          \\\n",
       "type            Accum Downlink    Volume     Accum Download Memory  Upload   \n",
       "unit             Gbit   kbit/s      Gbit      Gbit   kbit/s   Gbit  kbit/s   \n",
       "2024-05-07   0.000000        0  0.000000  0.000000        0      0   0.099   \n",
       "2024-05-08   7.438953        0  7.438953  0.365467        0      0   9.888   \n",
       "2024-05-09  16.418688        0  8.979735  0.737165        0      0   5.568   \n",
       "2024-05-10  25.371039        0  8.952351  1.109660        0      0  12.405   \n",
       "2024-05-11  34.208517        0  8.837478  1.479332        0      0   0.134   \n",
       "\n",
       "channel                   CeB      CeK      CeX       ISA                  \\\n",
       "type          Volume Downlink Downlink Downlink     Accum Download Memory   \n",
       "unit            Gbit   kbit/s   kbit/s   kbit/s      Gbit   kbit/s   Gbit   \n",
       "2024-05-07  0.000000    304.6    174.1    130.5  0.000000        0      0   \n",
       "2024-05-08  0.365467    304.6    174.1    130.5  0.140525        0      0   \n",
       "2024-05-09  0.371697    304.6    174.1    130.5  0.285717        0      0   \n",
       "2024-05-10  0.372495    304.6    174.1    130.5  0.430909        0      0   \n",
       "2024-05-11  0.369672    261.1    130.5    130.5  0.575175        0      0   \n",
       "\n",
       "channel                        MERMAG                                   \\\n",
       "type       Upload    Volume     Accum Download Memory Upload    Volume   \n",
       "unit       kbit/s      Gbit      Gbit   kbit/s   Gbit kbit/s      Gbit   \n",
       "2024-05-07  0.000  0.000000  0.000000        0      0  0.358  0.000000   \n",
       "2024-05-08  1.734  0.140525  0.030931        0      0  0.358  0.030931   \n",
       "2024-05-09  1.734  0.145192  0.061862        0      0  0.358  0.030931   \n",
       "2024-05-10  1.734  0.145192  0.092794        0      0  0.358  0.030931   \n",
       "2024-05-11  1.734  0.144266  0.123725        0      0  0.358  0.030931   \n",
       "\n",
       "channel        MERTIS                                       MGNS           \\\n",
       "type            Accum Download Memory Upload    Volume     Accum Download   \n",
       "unit             Gbit   kbit/s   Gbit kbit/s      Gbit      Gbit   kbit/s   \n",
       "2024-05-07   0.000000        0      0    0.0  0.000000  0.000000        0   \n",
       "2024-05-08   3.885424        0      0  118.0  3.885424  0.294034        0   \n",
       "2024-05-09   8.008112        0      0  240.0  4.122688  0.591112        0   \n",
       "2024-05-10  12.004162        0      0    0.4  3.996050  0.888190        0   \n",
       "2024-05-11  15.855224        0      0    0.4  3.851062  1.185267        0   \n",
       "\n",
       "channel                             MIXS-SIXS                         \\\n",
       "type       Memory  Upload    Volume     Accum Download Memory Upload   \n",
       "unit         Gbit  kbit/s      Gbit      Gbit   kbit/s   Gbit kbit/s   \n",
       "2024-05-07      0  0.0000  0.000000  0.000000        0      0   0.00   \n",
       "2024-05-08      0  3.4384  0.294034  0.787254        0      0   9.29   \n",
       "2024-05-09      0  3.4384  0.297078  1.787013        0      0   9.29   \n",
       "2024-05-10      0  3.4384  0.297078  2.577045        0      0   9.29   \n",
       "2024-05-11      0  3.4384  0.297078  3.366793        0      0   9.00   \n",
       "\n",
       "channel               MORE                                    MaB      MaK  \\\n",
       "type          Volume Accum Download Memory Upload Volume Downlink Downlink   \n",
       "unit            Gbit  Gbit   kbit/s   Gbit kbit/s   Gbit   kbit/s   kbit/s   \n",
       "2024-05-07  0.000000     0        0      0      0      0    339.4    208.9   \n",
       "2024-05-08  0.787254     0        0      0      0      0    304.6    174.1   \n",
       "2024-05-09  0.999759     0        0      0      0      0    304.6    174.1   \n",
       "2024-05-10  0.790032     0        0      0      0      0    278.5    174.1   \n",
       "2024-05-11  0.789748     0        0      0      0      0    261.1    130.5   \n",
       "\n",
       "channel         MaX    PHEBUS                                      SERENA  \\\n",
       "type       Downlink     Accum Download Memory  Upload    Volume     Accum   \n",
       "unit         kbit/s      Gbit   kbit/s   Gbit  kbit/s      Gbit      Gbit   \n",
       "2024-05-07    130.5  0.000000        0      0   0.000  0.000000  0.000000   \n",
       "2024-05-08    130.5  0.241009        0      0   0.000  0.241009  0.408729   \n",
       "2024-05-09    130.5  0.511508        0      0   0.000  0.270500  0.844503   \n",
       "2024-05-10    104.4  0.750551        0      0  16.384  0.239043  1.288482   \n",
       "2024-05-11    130.5  0.948961        0      0   0.000  0.198410  1.741756   \n",
       "\n",
       "channel                                     SIMBIOSYS-HRIC                  \\\n",
       "type       Download Memory Upload    Volume          Accum Download Memory   \n",
       "unit         kbit/s   Gbit kbit/s      Gbit           Gbit   kbit/s   Gbit   \n",
       "2024-05-07        0      0  0.000  0.000000              0        0      0   \n",
       "2024-05-08        0      0  4.812  0.408729              0        0      0   \n",
       "2024-05-09        0      0  4.812  0.435775              0        0      0   \n",
       "2024-05-10        0      0  0.000  0.443979              0        0      0   \n",
       "2024-05-11        0      0  4.130  0.453274              0        0      0   \n",
       "\n",
       "channel                  SIMBIOSYS-STC                                    \\\n",
       "type       Upload Volume         Accum Download Memory  Upload    Volume   \n",
       "unit       kbit/s   Gbit          Gbit   kbit/s   Gbit  kbit/s      Gbit   \n",
       "2024-05-07      0      0      0.000000        0      0    0.00  0.000000   \n",
       "2024-05-08      0      0      2.000013        0      0   40.42  2.000013   \n",
       "2024-05-09      0      0      4.348991        0      0  133.34  2.348978   \n",
       "2024-05-10      0      0      6.624967        0      0   15.60  2.275975   \n",
       "2024-05-11      0      0      8.831366        0      0    0.00  2.206399   \n",
       "\n",
       "channel    SIMBIOSYS-VIHI                                       SSMM  \\\n",
       "type                Accum Download Memory Upload   Volume      Accum   \n",
       "unit                 Gbit   kbit/s   Gbit kbit/s     Gbit       Gbit   \n",
       "2024-05-07        0.00000        0      0      0  0.00000   0.000000   \n",
       "2024-05-08        3.71846        0      0    126  3.71846   7.438953   \n",
       "2024-05-09        7.94770        0      0    102  4.22924  16.418688   \n",
       "2024-05-10       12.18964        0      0    126  4.24194  25.371039   \n",
       "2024-05-11       16.28744        0      0      0  4.09780  34.208517   \n",
       "\n",
       "channel                          \n",
       "type           Memory    Volume  \n",
       "unit             Gbit      Gbit  \n",
       "2024-05-07   0.000000  0.000000  \n",
       "2024-05-08   4.432893  7.438953  \n",
       "2024-05-09   8.704995  8.979735  \n",
       "2024-05-10  12.585360  8.952351  \n",
       "2024-05-11  16.186522  8.837478  "
      ]
     },
     "execution_count": 219,
     "metadata": {},
     "output_type": "execute_result"
    }
   ],
   "source": [
    "data_rate_avg.head()"
   ]
  },
  {
   "cell_type": "code",
   "execution_count": 220,
   "metadata": {
    "collapsed": false,
    "slideshow": {
     "slide_type": "subslide"
    }
   },
   "outputs": [
    {
     "data": {
      "text/html": [
       "<div>\n",
       "<table border=\"1\" class=\"dataframe\">\n",
       "  <thead>\n",
       "    <tr>\n",
       "      <th>channel</th>\n",
       "      <th>BELA</th>\n",
       "      <th>CeK</th>\n",
       "      <th>CeX</th>\n",
       "      <th>MERTIS</th>\n",
       "    </tr>\n",
       "    <tr>\n",
       "      <th>type</th>\n",
       "      <th>Volume</th>\n",
       "      <th>Downlink</th>\n",
       "      <th>Downlink</th>\n",
       "      <th>Volume</th>\n",
       "    </tr>\n",
       "    <tr>\n",
       "      <th>unit</th>\n",
       "      <th>Gbit</th>\n",
       "      <th>kbit/s</th>\n",
       "      <th>kbit/s</th>\n",
       "      <th>Gbit</th>\n",
       "    </tr>\n",
       "  </thead>\n",
       "  <tbody>\n",
       "    <tr>\n",
       "      <th>2024-05-07</th>\n",
       "      <td>0.000000</td>\n",
       "      <td>174.1</td>\n",
       "      <td>130.5</td>\n",
       "      <td>0.000000</td>\n",
       "    </tr>\n",
       "    <tr>\n",
       "      <th>2024-05-08</th>\n",
       "      <td>0.365467</td>\n",
       "      <td>174.1</td>\n",
       "      <td>130.5</td>\n",
       "      <td>3.885424</td>\n",
       "    </tr>\n",
       "    <tr>\n",
       "      <th>2024-05-09</th>\n",
       "      <td>0.371697</td>\n",
       "      <td>174.1</td>\n",
       "      <td>130.5</td>\n",
       "      <td>4.122688</td>\n",
       "    </tr>\n",
       "    <tr>\n",
       "      <th>2024-05-10</th>\n",
       "      <td>0.372495</td>\n",
       "      <td>174.1</td>\n",
       "      <td>130.5</td>\n",
       "      <td>3.996050</td>\n",
       "    </tr>\n",
       "    <tr>\n",
       "      <th>2024-05-11</th>\n",
       "      <td>0.369672</td>\n",
       "      <td>130.5</td>\n",
       "      <td>130.5</td>\n",
       "      <td>3.851062</td>\n",
       "    </tr>\n",
       "  </tbody>\n",
       "</table>\n",
       "</div>"
      ],
      "text/plain": [
       "channel         BELA      CeK      CeX    MERTIS\n",
       "type          Volume Downlink Downlink    Volume\n",
       "unit            Gbit   kbit/s   kbit/s      Gbit\n",
       "2024-05-07  0.000000    174.1    130.5  0.000000\n",
       "2024-05-08  0.365467    174.1    130.5  3.885424\n",
       "2024-05-09  0.371697    174.1    130.5  4.122688\n",
       "2024-05-10  0.372495    174.1    130.5  3.996050\n",
       "2024-05-11  0.369672    130.5    130.5  3.851062"
      ]
     },
     "execution_count": 220,
     "metadata": {},
     "output_type": "execute_result"
    }
   ],
   "source": [
    "data_rate_avg.select(('CeX', 'CeK', 'BELA','MERTIS'), ('Volume', 'Downlink'), None).head()"
   ]
  },
  {
   "cell_type": "markdown",
   "metadata": {},
   "source": [
    "The slicing is \"semi-clever\"..."
   ]
  },
  {
   "cell_type": "code",
   "execution_count": 221,
   "metadata": {
    "collapsed": false,
    "scrolled": false,
    "slideshow": {
     "slide_type": "subslide"
    }
   },
   "outputs": [
    {
     "data": {
      "text/html": [
       "<iframe id=\"igraph\" scrolling=\"no\" style=\"border:none;\"seamless=\"seamless\" src=\"https://plot.ly/~johnnycakes79/1881\" height=\"525\" width=\"100%\"></iframe>"
      ],
      "text/plain": [
       "<IPython.core.display.HTML object>"
      ]
     },
     "metadata": {},
     "output_type": "display_data"
    }
   ],
   "source": [
    "data_rate_avg.select(('CeX', 'CeK', 'BELA','MERTIS'), ('Volume', 'Downlink'), None).iplot(showlegend=False)"
   ]
  },
  {
   "cell_type": "markdown",
   "metadata": {},
   "source": [
    "The software recognises the different data types (volume, rates) and splits the data across multiple axes as needed. \n",
    "\n",
    "More than 2 axes is also possible but I haven't seen a practical need for it ... yet!"
   ]
  },
  {
   "cell_type": "code",
   "execution_count": null,
   "metadata": {
    "collapsed": true
   },
   "outputs": [],
   "source": []
  }
 ],
 "metadata": {
  "kernelspec": {
   "display_name": "Python 2",
   "language": "python",
   "name": "python2"
  },
  "language_info": {
   "codemirror_mode": {
    "name": "ipython",
    "version": 2
   },
   "file_extension": ".py",
   "mimetype": "text/x-python",
   "name": "python",
   "nbconvert_exporter": "python",
   "pygments_lexer": "ipython2",
   "version": "2.7.10"
  }
 },
 "nbformat": 4,
 "nbformat_minor": 0
}
