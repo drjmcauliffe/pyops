{
 "metadata": {
  "gist_id": "3c4570c036a70a689fbb",
  "name": "",
  "signature": "sha256:11e1fd00b8235bded013cf5ac00a061bc7be47e2a7c959ede751cd03e24aa4f9"
 },
 "nbformat": 3,
 "nbformat_minor": 0,
 "worksheets": [
  {
   "cells": [
    {
     "cell_type": "heading",
     "level": 1,
     "metadata": {
      "heading_collapsed": false
     },
     "source": [
      "The Short Version..."
     ]
    },
    {
     "cell_type": "heading",
     "level": 4,
     "metadata": {
      "heading_collapsed": false
     },
     "source": [
      "A few imports including epys.\n"
     ]
    },
    {
     "cell_type": "code",
     "collapsed": false,
     "input": [
      "import os\n",
      "import epys"
     ],
     "language": "python",
     "metadata": {},
     "outputs": [],
     "prompt_number": 1
    },
    {
     "cell_type": "heading",
     "level": 4,
     "metadata": {
      "heading_collapsed": false
     },
     "source": [
      "Set timesteps, input files, output location and run eps."
     ]
    },
    {
     "cell_type": "code",
     "collapsed": false,
     "input": [
      "# set timesteps...\n",
      "sim_tstep = 3600\n",
      "output_tstep = 86400\n",
      "\n",
      "# define input files and output locations...\n",
      "simulation_tag = \"P1A-P2B-P3C-P4D\"\n",
      "study_directory = '/Users/jmcaulif/Code/bepic/DATA'\n",
      "output_directory = \"/Users/jmcaulif/Code/bepic/OUTPUT/SIMULATION DATA\"\n",
      "itl =  study_directory + \"/ITL/\" + \"BC_SOA2013_\" + simulation_tag + \".itl\"\n",
      "evf = study_directory + \"/OGS/\" + \"BC_SOA2013_\" + simulation_tag + \".evf\"\n",
      "infofile = \"simulation_info\"\n",
      "epscfg = study_directory + \"/CONFIG/\" + \"eps_mac.cfg\"\n",
      "\n",
      "# build up the output directory name\n",
      "nowtag = datetime.datetime.today().strftime(\"%Y%m%d_%H%M%S\")\n",
      "output_directory_name = '{}_{}'.format(nowtag, simulation_tag)\n",
      "output_directory = os.path.join(output_directory, output_directory_name)\n",
      "\n",
      "# run eps\n",
      "!eps exec -i $itl -c $epscfg -er all -ei $evf -m -s $output_tstep -t $sim_tstep -ed \"$output_directory\""
     ],
     "language": "python",
     "metadata": {
      "heading_collapsed": false
     },
     "outputs": [
      {
       "output_type": "stream",
       "stream": "stdout",
       "text": [
        "Loading EDF file: bepi.edf\r\n"
       ]
      },
      {
       "output_type": "stream",
       "stream": "stdout",
       "text": [
        "Loading ITL file: /Users/jmcaulif/Code/bepic/DATA/ITL/BC_SOA2013_P1A-P2B-P3C-P4D.itl\r\n",
        "Loading EVF file: /Users/jmcaulif/Code/bepic/DATA/OGS/BC_SOA2013_P1A-P2B-P3C-P4D.evf\r\n"
       ]
      },
      {
       "output_type": "stream",
       "stream": "stdout",
       "text": [
        "Initialising the TimelineExecutor...\r\n",
        "Simulation start time: 7-May-2024_00:00:00\r\n",
        "Simulation end time:   7-May-2025_00:00:00\r\n",
        "Simulation step size:  3600 [seconds] (8761 steps)\r\n",
        "Reporting step size:   86400 [seconds] (366 steps)\r\n",
        "Running the input timeline...\r\n",
        "0%"
       ]
      },
      {
       "output_type": "stream",
       "stream": "stdout",
       "text": [
        "."
       ]
      },
      {
       "output_type": "stream",
       "stream": "stdout",
       "text": [
        ".."
       ]
      },
      {
       "output_type": "stream",
       "stream": "stdout",
       "text": [
        ".10%"
       ]
      },
      {
       "output_type": "stream",
       "stream": "stdout",
       "text": [
        ".."
       ]
      },
      {
       "output_type": "stream",
       "stream": "stdout",
       "text": [
        "."
       ]
      },
      {
       "output_type": "stream",
       "stream": "stdout",
       "text": [
        "."
       ]
      },
      {
       "output_type": "stream",
       "stream": "stdout",
       "text": [
        "20%"
       ]
      },
      {
       "output_type": "stream",
       "stream": "stdout",
       "text": [
        "."
       ]
      },
      {
       "output_type": "stream",
       "stream": "stdout",
       "text": [
        "."
       ]
      },
      {
       "output_type": "stream",
       "stream": "stdout",
       "text": [
        ".."
       ]
      },
      {
       "output_type": "stream",
       "stream": "stdout",
       "text": [
        "30%"
       ]
      },
      {
       "output_type": "stream",
       "stream": "stdout",
       "text": [
        ".."
       ]
      },
      {
       "output_type": "stream",
       "stream": "stdout",
       "text": [
        ".."
       ]
      },
      {
       "output_type": "stream",
       "stream": "stdout",
       "text": [
        "40%."
       ]
      },
      {
       "output_type": "stream",
       "stream": "stdout",
       "text": [
        "."
       ]
      },
      {
       "output_type": "stream",
       "stream": "stdout",
       "text": [
        "."
       ]
      },
      {
       "output_type": "stream",
       "stream": "stdout",
       "text": [
        "."
       ]
      },
      {
       "output_type": "stream",
       "stream": "stdout",
       "text": [
        "50%"
       ]
      },
      {
       "output_type": "stream",
       "stream": "stdout",
       "text": [
        "."
       ]
      },
      {
       "output_type": "stream",
       "stream": "stdout",
       "text": [
        "."
       ]
      },
      {
       "output_type": "stream",
       "stream": "stdout",
       "text": [
        ".EventHandler: Warning: Input event set to same state MPO_ALT_BELOW_1050_PERH_START\r\n",
        "   Info: At event time 1-December-2024_19:10:20\r\n",
        "EventHandler: Warning: Input event set to same state MPO_ALT_BELOW_800_PERH_START\r\n",
        "   Info: At event time 1-December-2024_20:37:20\r\n",
        "EventHandler: Warning: Input event set to same state MPO_ALT_BELOW_600_PERH_START\r\n",
        "   Info: At event time 1-December-2024_20:45:10\r\n",
        "."
       ]
      },
      {
       "output_type": "stream",
       "stream": "stdout",
       "text": [
        "60%"
       ]
      },
      {
       "output_type": "stream",
       "stream": "stdout",
       "text": [
        ".."
       ]
      },
      {
       "output_type": "stream",
       "stream": "stdout",
       "text": [
        "."
       ]
      },
      {
       "output_type": "stream",
       "stream": "stdout",
       "text": [
        "."
       ]
      },
      {
       "output_type": "stream",
       "stream": "stdout",
       "text": [
        "70%"
       ]
      },
      {
       "output_type": "stream",
       "stream": "stdout",
       "text": [
        "."
       ]
      },
      {
       "output_type": "stream",
       "stream": "stdout",
       "text": [
        "."
       ]
      },
      {
       "output_type": "stream",
       "stream": "stdout",
       "text": [
        "."
       ]
      },
      {
       "output_type": "stream",
       "stream": "stdout",
       "text": [
        ".80%"
       ]
      },
      {
       "output_type": "stream",
       "stream": "stdout",
       "text": [
        "."
       ]
      },
      {
       "output_type": "stream",
       "stream": "stdout",
       "text": [
        "."
       ]
      },
      {
       "output_type": "stream",
       "stream": "stdout",
       "text": [
        ".."
       ]
      },
      {
       "output_type": "stream",
       "stream": "stdout",
       "text": [
        "90%"
       ]
      },
      {
       "output_type": "stream",
       "stream": "stdout",
       "text": [
        "."
       ]
      },
      {
       "output_type": "stream",
       "stream": "stdout",
       "text": [
        "."
       ]
      },
      {
       "output_type": "stream",
       "stream": "stdout",
       "text": [
        "."
       ]
      },
      {
       "output_type": "stream",
       "stream": "stdout",
       "text": [
        "."
       ]
      },
      {
       "output_type": "stream",
       "stream": "stdout",
       "text": [
        "100%\r\n",
        "EPS: 414 conflicts detected during execution\r\n"
       ]
      }
     ],
     "prompt_number": 3
    },
    {
     "cell_type": "heading",
     "level": 4,
     "metadata": {
      "heading_collapsed": false
     },
     "source": [
      "Read-in the average power data output by eps."
     ]
    },
    {
     "cell_type": "code",
     "collapsed": false,
     "input": [
      "power_usage = epys.powertable('{}/power_avg.out'.format(output_directory) )"
     ],
     "language": "python",
     "metadata": {},
     "outputs": [
      {
       "output_type": "stream",
       "stream": "stdout",
       "text": [
        "13 redundant lines removed\n"
       ]
      }
     ],
     "prompt_number": 4
    },
    {
     "cell_type": "heading",
     "level": 4,
     "metadata": {
      "heading_collapsed": false
     },
     "source": [
      "Read-in the power budget data input to eps, and set the column name."
     ]
    },
    {
     "cell_type": "code",
     "collapsed": false,
     "input": [
      "power_budget = epys.epstable('/Users/jmcaulif/Code/bepic/DATA/OGS/pwr_bdg_bepi_mpo_0004b.pwr')\n",
      "power_budget.data.columns = ['Available']"
     ],
     "language": "python",
     "metadata": {},
     "outputs": [],
     "prompt_number": 6
    },
    {
     "cell_type": "heading",
     "level": 4,
     "metadata": {
      "heading_collapsed": false
     },
     "source": [
      "Merge the power budget data into the power usage data."
     ]
    },
    {
     "cell_type": "code",
     "collapsed": false,
     "input": [
      "power_usage.join(power_budget, in_place=True)"
     ],
     "language": "python",
     "metadata": {},
     "outputs": [
      {
       "output_type": "stream",
       "stream": "stdout",
       "text": [
        "Warning: can only sort by level with a hierarchical index.\n"
       ]
      }
     ],
     "prompt_number": 7
    },
    {
     "cell_type": "heading",
     "level": 4,
     "metadata": {
      "heading_collapsed": false
     },
     "source": [
      "Plot!"
     ]
    },
    {
     "cell_type": "code",
     "collapsed": false,
     "input": [
      "power_usage.iplot(y_title='Power [W]', title='The Quick, Quick Version...')"
     ],
     "language": "python",
     "metadata": {},
     "outputs": [],
     "prompt_number": 9
    },
    {
     "cell_type": "code",
     "collapsed": false,
     "input": [],
     "language": "python",
     "metadata": {},
     "outputs": []
    }
   ],
   "metadata": {}
  }
 ]
}