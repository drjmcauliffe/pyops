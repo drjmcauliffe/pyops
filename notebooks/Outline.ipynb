{
 "cells": [
  {
   "cell_type": "markdown",
   "metadata": {},
   "source": [
    "# Final Presentation Outline\n"
   ]
  },
  {
   "cell_type": "markdown",
   "metadata": {},
   "source": [
    "## Dashboard:\n",
    "\n",
    "1. EPS File parsers dumping data into pandas\n",
    "2. Plots creation with bokeh\n",
    "3. Interactivity through ipython notebook\n",
    "  * Data modification and therefore, being able to play with the information and plots online\n",
    "  * Data export back to files\n",
    "  * Methods can load just some instruments or some parameters --> customization\n",
    "4. Launching the plots straight to a web"
   ]
  },
  {
   "cell_type": "markdown",
   "metadata": {},
   "source": [
    "## BepiREPS - (AutoDoc tool) \n",
    "\n",
    "1. Command line interface but with help command included\n",
    "2. Very fast tool capable of stracting all the #- (HashDash) comments from EPS files\n",
    "3. Autogenerates a latex template ready to be compiled and produce the output PDF\n",
    "4. Users need to use the HashDash, otherwise this tool is useless"
   ]
  },
  {
   "cell_type": "markdown",
   "metadata": {},
   "source": [
    "## Observation Catalogue Database\n",
    "\n",
    "1. First entity–relationship model proposal\n",
    "2. Installation and deployment of a PostgreSQL database following the data model\n",
    "3. Data consistency ensured\n",
    " * Much data dependency between files\n",
    " * Foreign keys and other constraints used\n",
    " * Triggers are key in the model\n",
    "4. First database feeder prototype perfectly working\n",
    "5. First database to file system writer prototype smoothly working\n",
    "6. The database is mission independent"
   ]
  },
  {
   "cell_type": "markdown",
   "metadata": {},
   "source": [
    "## What I have learnt (I don't know how to call this section)\n",
    "\n",
    "1. How ICT is used within a space mission framework\n",
    "2. ESA standards and software\n",
    "3. How consistent orders to spacecrafts are developed, sent and received\n",
    "4. Technologies used during these months:\n",
    " * Git\n",
    " * Python working enviroment:\n",
    "    * Virtual Environments\n",
    "    * TOX\n",
    "    * Online testing tools integration\n",
    "    * PyPy\n",
    " * Python libraries:\n",
    "    * Pandas\n",
    "    * Bokeh\n",
    "    * pyxley --> Not that handy at the end\n",
    "    * argparse\n",
    "    * Many other...\n",
    " * PostgreSQL"
   ]
  },
  {
   "cell_type": "code",
   "execution_count": null,
   "metadata": {
    "collapsed": true
   },
   "outputs": [],
   "source": []
  }
 ],
 "metadata": {
  "kernelspec": {
   "display_name": "Python 2",
   "language": "python",
   "name": "python2"
  },
  "language_info": {
   "codemirror_mode": {
    "name": "ipython",
    "version": 2
   },
   "file_extension": ".py",
   "mimetype": "text/x-python",
   "name": "python",
   "nbconvert_exporter": "python",
   "pygments_lexer": "ipython2",
   "version": "2.7.6"
  }
 },
 "nbformat": 4,
 "nbformat_minor": 0
}
