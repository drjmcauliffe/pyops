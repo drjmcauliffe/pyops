{
 "metadata": {
  "name": ""
 },
 "nbformat": 3,
 "nbformat_minor": 0,
 "worksheets": [
  {
   "cells": [
    {
     "cell_type": "markdown",
     "metadata": {},
     "source": [
      "Welcome to your new iPython Notebook..."
     ]
    },
    {
     "cell_type": "code",
     "collapsed": false,
     "input": [
      "import re\n",
      "import numpy as np\n",
      "from datetime import datetime, timedelta\n",
      "\n",
      "def read(fname, metadata=False):\n",
      "    \"\"\"\n",
      "       Reads an EPS generated data-rate file and returns the data\n",
      "       in a numpy array.\n",
      "       The file metadata can also be returned if requested\n",
      "    \"\"\"\n",
      "    mdata = {}\n",
      "    \n",
      "    fh = iter(open(fname, 'U'))\n",
      "    post_process = False\n",
      "    \n",
      "    with open(fname, 'r') as fh:\n",
      "        for line in fh:\n",
      "        \n",
      "            # Catch the header data and store it in dictionary.\n",
      "            if re.match( r'#(.*):(.*)', line, re.M|re.I):\n",
      "                keypair = line.strip('#\\n').split(':')\n",
      "                mdata[keypair[0].strip()] = keypair[1].strip()\n",
      "                continue\n",
      "        \n",
      "            # Catch the reference date and add to dictionary.\n",
      "            if re.match( r'Ref_date:(.*)', line, re.M|re.I):\n",
      "                keypair = line.strip('#\\n').split(':')\n",
      "                mdata['Reference Date'] = keypair[1].strip()\n",
      "                ref_date = datetime.strptime(mdata['Reference Date'], \"%d-%b-%Y\")\n",
      "                continue\n",
      "        \n",
      "            # Catch the experiment names to list.\n",
      "            if re.match( r'(.*)\\<(.*)\\>', line, re.M|re.I):\n",
      "                xprmnts = [i.replace('<','').replace('_','-') for i in line.replace('.','').replace('>','').split()]\n",
      "                continue\n",
      "            \n",
      "            # Catch the column headers and prefix them with\n",
      "            # experiment list.\n",
      "            if re.match( r'Elapsed time(.*)', line, re.M|re.I):\n",
      "                _hdings = line.split()\n",
      "                _hdings[0:2] = [' '.join(_hdings[0:2])]\n",
      "                for j in range(1,3):\n",
      "                    _hdings[j] = xprmnts[0] + ' ' + _hdings[j]\n",
      "                for j in range(3,5):\n",
      "                    _hdings[j] = xprmnts[1] + ' ' + _hdings[j]\n",
      "                x = 2\n",
      "                for j in range(5,len(_hdings),4):\n",
      "                    for h in range(4):\n",
      "                        _hdings[j+h] = xprmnts[x] + ' ' + _hdings[j+h]\n",
      "                    x = x + 1\n",
      "                continue\n",
      "            \n",
      "            # Catch the units line and process ...\n",
      "            if re.match( r'ddd_hh:mm:ss(.*)', line, re.M|re.I):\n",
      "                _units = line.replace('(','').replace(')','').split()\n",
      "                units = _units[0:2]\n",
      "                for u in range(2,len(_units)):\n",
      "                    if 'sec' in _units[u]:\n",
      "                        units.append(_units[u])\n",
      "                        units.append(_units[u])\n",
      "                    else:\n",
      "                        units.append(_units[u])\n",
      "                post_process = True\n",
      "                continue\n",
      "            \n",
      "            if post_process:\n",
      "                # Raise an error if the the length of 'units' is not \n",
      "                # equal to the length of '_hdings'.\n",
      "                if len(_hdings) != len(units):\n",
      "                    print('ERROR: The number of headings does not match the number of units!')\n",
      "                \n",
      "                # Pair the headings and the units ...\n",
      "                for i in range(len(_hdings)):\n",
      "                    hdings[i] = {'head':_hdings[i], 'unit':units[i]}\n",
      "                  \n",
      "                # Prepare \n",
      "                data = np.array([x['head'] for x in hdings])\n",
      "                post_process = False\n",
      "            \n",
      "            # Check for start of data\n",
      "            if re.match( r'[0-9]{3}_[0-9]{2}:[0-9]{2}:[0-9]{2}(.*)', line, re.M|re.I):\n",
      "                days_time = line.split()[0]\n",
      "                _data = [float(x) for x in line.split()[1:]]\n",
      "                days, time = days_time.split('_')\n",
      "                hours, minutes, seconds = time.split(':')\n",
      "                _time = ref_date + timedelta(days=int(days), hours=int(hours), minutes=int(minutes), seconds=float(seconds))\n",
      "                _time = (_time - datetime(2000,1,1)).total_seconds()\n",
      "                _data.insert(0, _time)\n",
      "                _data = np.asarray(_data)\n",
      "                \n",
      "                data = np.vstack((data,_data))\n",
      "    \n",
      "    fh.close()\n",
      "    \n",
      "    if metadata:\n",
      "        return data, mdata\n",
      "    else:\n",
      "        return data\n",
      "            "
     ],
     "language": "python",
     "metadata": {},
     "outputs": [],
     "prompt_number": 7
    },
    {
     "cell_type": "code",
     "collapsed": false,
     "input": [
      "hdings"
     ],
     "language": "python",
     "metadata": {},
     "outputs": [
      {
       "ename": "NameError",
       "evalue": "name 'hdings' is not defined",
       "output_type": "pyerr",
       "traceback": [
        "\u001b[0;31m---------------------------------------------------------------------------\u001b[0m\n\u001b[0;31mNameError\u001b[0m                                 Traceback (most recent call last)",
        "\u001b[0;32m<ipython-input-8-c7d0235d3123>\u001b[0m in \u001b[0;36m<module>\u001b[0;34m()\u001b[0m\n\u001b[0;32m----> 1\u001b[0;31m \u001b[0mhdings\u001b[0m\u001b[0;34m\u001b[0m\u001b[0m\n\u001b[0m",
        "\u001b[0;31mNameError\u001b[0m: name 'hdings' is not defined"
       ]
      }
     ],
     "prompt_number": 8
    },
    {
     "cell_type": "code",
     "collapsed": false,
     "input": [
      "data[0:4,0:4]"
     ],
     "language": "python",
     "metadata": {},
     "outputs": [
      {
       "metadata": {},
       "output_type": "pyout",
       "prompt_number": 252,
       "text": [
        "array([['Elapsed time', 'ANTENNA Downlink', 'ANTENNA Accum', 'SSMM Memory'],\n",
        "       ['768355200.0', '0.0', '0.0', '0.0'],\n",
        "       ['768441600.0', '0.0', '7.43895339', '4.43289283'],\n",
        "       ['768528000.0', '0.0', '16.41868839', '8.70499545']], \n",
        "      dtype='|S23')"
       ]
      }
     ],
     "prompt_number": 252
    },
    {
     "cell_type": "code",
     "collapsed": false,
     "input": [
      "test, mtest = read('resources/eps_sample/data_rate_avg.out', metadata=True)"
     ],
     "language": "python",
     "metadata": {},
     "outputs": [],
     "prompt_number": 253
    },
    {
     "cell_type": "code",
     "collapsed": false,
     "input": [
      "mtest"
     ],
     "language": "python",
     "metadata": {},
     "outputs": [
      {
       "metadata": {},
       "output_type": "pyout",
       "prompt_number": 254,
       "text": [
        "{'CFG Template': 'v3.19',\n",
        " 'EDF Template': 'v3.12',\n",
        " 'EPS Version': 'v2.5.8',\n",
        " 'EVF (ESOC FD)': 'DDID appendix-H v2.1',\n",
        " 'EVF Template': 'v3.1',\n",
        " 'File Contents': 'Average Datarate Values',\n",
        " 'Generation Time': '25-November-2013_15',\n",
        " 'ITL Template': 'v3.10',\n",
        " 'Input CFG': 'eps_mac.cfg',\n",
        " 'Input EDF': 'bepi.edf',\n",
        " 'Input EVF': 'bepi_events_mpo_00012.evf',\n",
        " 'Input Timeline': 'BC_SO10_FULL_________ITL_GEN_1A.itl',\n",
        " 'MDB version': 'SISBCETB \"ETB (1, 0, 38)\"',\n",
        " 'Output Filename': 'data_rate_avg.out',\n",
        " 'POR Definition': 'CRID issue C4',\n",
        " 'Reference Date': '7-May-2024'}"
       ]
      }
     ],
     "prompt_number": 254
    },
    {
     "cell_type": "code",
     "collapsed": false,
     "input": [
      "from matplotlib import pyplot as plt"
     ],
     "language": "python",
     "metadata": {},
     "outputs": [],
     "prompt_number": 255
    }
   ],
   "metadata": {}
  }
 ]
}